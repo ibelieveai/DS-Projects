{
 "cells": [
  {
   "cell_type": "markdown",
   "metadata": {
    "colab_type": "text",
    "id": "D9DNx54BCvcW"
   },
   "source": [
    "# **Rossmann Store Sales Prediction**\n",
    "\n",
    "Rossmann operates over 3,000 drug stores in 7 European countries. Currently, Here we are predicting 6 weeks of daily sales for 1,115 stores located across Germany. Reliable sales forecasts enable store managers to create effective staff schedules that increase productivity and motivation. \n",
    "\n",
    "![alt text](https://storage.googleapis.com/kaggle-competitions/kaggle/4594/media/rossmann_banner2.png)"
   ]
  },
  {
   "cell_type": "markdown",
   "metadata": {
    "colab_type": "text",
    "id": "EYkaKyIeCb8f"
   },
   "source": [
    "# **Data Exploration and Engineering**"
   ]
  },
  {
   "cell_type": "markdown",
   "metadata": {
    "colab_type": "text",
    "id": "NXPVljWADnDe"
   },
   "source": [
    "First, we will mount my google drive and load data into the googlecolab workspace."
   ]
  },
  {
   "cell_type": "code",
   "execution_count": 2,
   "metadata": {
    "colab": {},
    "colab_type": "code",
    "id": "tZY20jPkD77-"
   },
   "outputs": [],
   "source": [
    "# import necessary libraries.\n",
    "\n",
    "import pandas as pd\n",
    "import numpy as np\n",
    "import matplotlib.pyplot as plt\n",
    "import scipy.stats as stats\n",
    "#import seaborn as sns"
   ]
  },
  {
   "cell_type": "code",
   "execution_count": 3,
   "metadata": {
    "colab": {},
    "colab_type": "code",
    "id": "yGis6GN8rnb6"
   },
   "outputs": [],
   "source": [
    "import warnings\n",
    "warnings.filterwarnings(\"ignore\")"
   ]
  },
  {
   "cell_type": "code",
   "execution_count": 4,
   "metadata": {
    "colab": {},
    "colab_type": "code",
    "id": "I7wq-s1mA1iQ"
   },
   "outputs": [],
   "source": [
    "data_path = \"./Hari-Assignment/data\"\n",
    "\n",
    "store = pd.read_csv(data_path+\"/store.csv\",sep=',',dtype= {'StoreType':str,\n",
    "                                                          'Assortment':str,\n",
    "                                                          'PromoInterval':str})\n",
    "\n",
    "train = pd.read_csv(data_path+\"/train.csv\",sep= ',', parse_dates=['Date'], dtype= {'StateHoliday': str, 'SchoolHoliday':str} )\n",
    "test =  pd.read_csv(data_path+\"/test.csv\",sep= ',', parse_dates=['Date'], dtype= {'StateHoliday': str, 'SchoolHoliday':str} )"
   ]
  },
  {
   "cell_type": "markdown",
   "metadata": {
    "colab_type": "text",
    "id": "K5JGF0CjJj7D"
   },
   "source": [
    "**Cleaning Train dataset**"
   ]
  },
  {
   "cell_type": "code",
   "execution_count": 5,
   "metadata": {
    "colab": {},
    "colab_type": "code",
    "id": "TDcwvhehB9-D"
   },
   "outputs": [],
   "source": [
    "train['Year'] = pd.DatetimeIndex(train['Date']).year\n",
    "train['Month'] = pd.DatetimeIndex(train['Date']).month\n",
    "\n"
   ]
  },
  {
   "cell_type": "code",
   "execution_count": 6,
   "metadata": {
    "colab": {},
    "colab_type": "code",
    "id": "z3i-woiSHtbe"
   },
   "outputs": [],
   "source": [
    "def factor_to_integer(df, colname, start_value=0):\n",
    "    while df[colname].dtype == object:\n",
    "        myval = start_value # factor starts at \"start_value\".\n",
    "        for sval in df[colname].unique():\n",
    "            df.loc[df[colname] == sval, colname] = myval\n",
    "            myval += 1\n",
    "        df[colname] = df[colname].astype(int, copy=False)\n",
    "    print('levels :', df[colname].unique(), '; data type :', df[colname].dtype)"
   ]
  },
  {
   "cell_type": "code",
   "execution_count": 7,
   "metadata": {
    "colab": {
     "base_uri": "https://localhost:8080/",
     "height": 52
    },
    "colab_type": "code",
    "id": "LvYz4F4wIZJ4",
    "outputId": "972bef70-f21c-4f39-bdd1-06b620b95b30"
   },
   "outputs": [
    {
     "name": "stdout",
     "output_type": "stream",
     "text": [
      "levels : [0 1] ; data type : int32\n",
      "levels : [0 1 2 3] ; data type : int32\n"
     ]
    }
   ],
   "source": [
    "factor_to_integer(train, 'SchoolHoliday')\n",
    "factor_to_integer(train, 'StateHoliday')"
   ]
  },
  {
   "cell_type": "markdown",
   "metadata": {
    "colab_type": "text",
    "id": "2lbIzCJoIz4F"
   },
   "source": [
    "Check for number of NaNs for selected columns."
   ]
  },
  {
   "cell_type": "code",
   "execution_count": 8,
   "metadata": {
    "colab": {
     "base_uri": "https://localhost:8080/",
     "height": 246
    },
    "colab_type": "code",
    "id": "ZIJgFY-lI2G5",
    "outputId": "b25e890d-44f7-48a9-f369-fa797848d1ad"
   },
   "outputs": [
    {
     "name": "stdout",
     "output_type": "stream",
     "text": [
      "NANs for individual columns\n",
      "---------------------------\n"
     ]
    },
    {
     "data": {
      "text/plain": [
       "[('Store', 0),\n",
       " ('DayOfWeek', 0),\n",
       " ('Date', 0),\n",
       " ('Sales', 0),\n",
       " ('Customers', 0),\n",
       " ('Open', 0),\n",
       " ('Promo', 0),\n",
       " ('StateHoliday', 0),\n",
       " ('SchoolHoliday', 0),\n",
       " ('Year', 0),\n",
       " ('Month', 0)]"
      ]
     },
     "execution_count": 8,
     "metadata": {},
     "output_type": "execute_result"
    }
   ],
   "source": [
    "print(\"NANs for individual columns\")\n",
    "print(\"---------------------------\")\n",
    "from collections import Counter\n",
    "x = {colname : train[colname].isnull().sum() for colname in train.columns}\n",
    "Counter(x).most_common()"
   ]
  },
  {
   "cell_type": "markdown",
   "metadata": {
    "colab_type": "text",
    "id": "Ptubl4OTJrx8"
   },
   "source": [
    "**Cleaning Test dataset**"
   ]
  },
  {
   "cell_type": "code",
   "execution_count": 9,
   "metadata": {
    "colab": {},
    "colab_type": "code",
    "id": "slCCKRLRJrAb"
   },
   "outputs": [],
   "source": [
    "test['Year'] = pd.DatetimeIndex(test['Date']).year\n",
    "test['Month'] = pd.DatetimeIndex(test['Date']).month"
   ]
  },
  {
   "cell_type": "code",
   "execution_count": 10,
   "metadata": {
    "colab": {
     "base_uri": "https://localhost:8080/",
     "height": 228
    },
    "colab_type": "code",
    "id": "kYLh33m9J0i_",
    "outputId": "50776265-b768-4fec-fe53-56a9496824c7"
   },
   "outputs": [
    {
     "name": "stdout",
     "output_type": "stream",
     "text": [
      "NANs for individual columns\n",
      "---------------------------\n"
     ]
    },
    {
     "data": {
      "text/plain": [
       "[('Open', 11),\n",
       " ('Id', 0),\n",
       " ('Store', 0),\n",
       " ('DayOfWeek', 0),\n",
       " ('Date', 0),\n",
       " ('Promo', 0),\n",
       " ('StateHoliday', 0),\n",
       " ('SchoolHoliday', 0),\n",
       " ('Year', 0),\n",
       " ('Month', 0)]"
      ]
     },
     "execution_count": 10,
     "metadata": {},
     "output_type": "execute_result"
    }
   ],
   "source": [
    "print(\"NANs for individual columns\")\n",
    "print(\"---------------------------\")\n",
    "from collections import Counter\n",
    "x = {colname : test[colname].isnull().sum() for colname in test.columns}\n",
    "Counter(x).most_common()"
   ]
  },
  {
   "cell_type": "markdown",
   "metadata": {
    "colab_type": "text",
    "id": "EpkbIS1oJ739"
   },
   "source": [
    "There are 11 missing values in Open column. Let’s have a detailed look at those:"
   ]
  },
  {
   "cell_type": "code",
   "execution_count": 11,
   "metadata": {
    "colab": {
     "base_uri": "https://localhost:8080/",
     "height": 387
    },
    "colab_type": "code",
    "id": "YbzCn6zjJ4T9",
    "outputId": "5fc08e9c-72e1-4bfd-de67-b76ae2785435"
   },
   "outputs": [
    {
     "data": {
      "text/html": [
       "<div>\n",
       "<style scoped>\n",
       "    .dataframe tbody tr th:only-of-type {\n",
       "        vertical-align: middle;\n",
       "    }\n",
       "\n",
       "    .dataframe tbody tr th {\n",
       "        vertical-align: top;\n",
       "    }\n",
       "\n",
       "    .dataframe thead th {\n",
       "        text-align: right;\n",
       "    }\n",
       "</style>\n",
       "<table border=\"1\" class=\"dataframe\">\n",
       "  <thead>\n",
       "    <tr style=\"text-align: right;\">\n",
       "      <th></th>\n",
       "      <th>Id</th>\n",
       "      <th>Store</th>\n",
       "      <th>DayOfWeek</th>\n",
       "      <th>Date</th>\n",
       "      <th>Open</th>\n",
       "      <th>Promo</th>\n",
       "      <th>StateHoliday</th>\n",
       "      <th>SchoolHoliday</th>\n",
       "      <th>Year</th>\n",
       "      <th>Month</th>\n",
       "    </tr>\n",
       "  </thead>\n",
       "  <tbody>\n",
       "    <tr>\n",
       "      <th>479</th>\n",
       "      <td>480</td>\n",
       "      <td>622</td>\n",
       "      <td>4</td>\n",
       "      <td>2015-09-17</td>\n",
       "      <td>NaN</td>\n",
       "      <td>1</td>\n",
       "      <td>0</td>\n",
       "      <td>0</td>\n",
       "      <td>2015</td>\n",
       "      <td>9</td>\n",
       "    </tr>\n",
       "    <tr>\n",
       "      <th>1335</th>\n",
       "      <td>1336</td>\n",
       "      <td>622</td>\n",
       "      <td>3</td>\n",
       "      <td>2015-09-16</td>\n",
       "      <td>NaN</td>\n",
       "      <td>1</td>\n",
       "      <td>0</td>\n",
       "      <td>0</td>\n",
       "      <td>2015</td>\n",
       "      <td>9</td>\n",
       "    </tr>\n",
       "    <tr>\n",
       "      <th>2191</th>\n",
       "      <td>2192</td>\n",
       "      <td>622</td>\n",
       "      <td>2</td>\n",
       "      <td>2015-09-15</td>\n",
       "      <td>NaN</td>\n",
       "      <td>1</td>\n",
       "      <td>0</td>\n",
       "      <td>0</td>\n",
       "      <td>2015</td>\n",
       "      <td>9</td>\n",
       "    </tr>\n",
       "    <tr>\n",
       "      <th>3047</th>\n",
       "      <td>3048</td>\n",
       "      <td>622</td>\n",
       "      <td>1</td>\n",
       "      <td>2015-09-14</td>\n",
       "      <td>NaN</td>\n",
       "      <td>1</td>\n",
       "      <td>0</td>\n",
       "      <td>0</td>\n",
       "      <td>2015</td>\n",
       "      <td>9</td>\n",
       "    </tr>\n",
       "    <tr>\n",
       "      <th>4759</th>\n",
       "      <td>4760</td>\n",
       "      <td>622</td>\n",
       "      <td>6</td>\n",
       "      <td>2015-09-12</td>\n",
       "      <td>NaN</td>\n",
       "      <td>0</td>\n",
       "      <td>0</td>\n",
       "      <td>0</td>\n",
       "      <td>2015</td>\n",
       "      <td>9</td>\n",
       "    </tr>\n",
       "    <tr>\n",
       "      <th>5615</th>\n",
       "      <td>5616</td>\n",
       "      <td>622</td>\n",
       "      <td>5</td>\n",
       "      <td>2015-09-11</td>\n",
       "      <td>NaN</td>\n",
       "      <td>0</td>\n",
       "      <td>0</td>\n",
       "      <td>0</td>\n",
       "      <td>2015</td>\n",
       "      <td>9</td>\n",
       "    </tr>\n",
       "    <tr>\n",
       "      <th>6471</th>\n",
       "      <td>6472</td>\n",
       "      <td>622</td>\n",
       "      <td>4</td>\n",
       "      <td>2015-09-10</td>\n",
       "      <td>NaN</td>\n",
       "      <td>0</td>\n",
       "      <td>0</td>\n",
       "      <td>0</td>\n",
       "      <td>2015</td>\n",
       "      <td>9</td>\n",
       "    </tr>\n",
       "    <tr>\n",
       "      <th>7327</th>\n",
       "      <td>7328</td>\n",
       "      <td>622</td>\n",
       "      <td>3</td>\n",
       "      <td>2015-09-09</td>\n",
       "      <td>NaN</td>\n",
       "      <td>0</td>\n",
       "      <td>0</td>\n",
       "      <td>0</td>\n",
       "      <td>2015</td>\n",
       "      <td>9</td>\n",
       "    </tr>\n",
       "    <tr>\n",
       "      <th>8183</th>\n",
       "      <td>8184</td>\n",
       "      <td>622</td>\n",
       "      <td>2</td>\n",
       "      <td>2015-09-08</td>\n",
       "      <td>NaN</td>\n",
       "      <td>0</td>\n",
       "      <td>0</td>\n",
       "      <td>0</td>\n",
       "      <td>2015</td>\n",
       "      <td>9</td>\n",
       "    </tr>\n",
       "    <tr>\n",
       "      <th>9039</th>\n",
       "      <td>9040</td>\n",
       "      <td>622</td>\n",
       "      <td>1</td>\n",
       "      <td>2015-09-07</td>\n",
       "      <td>NaN</td>\n",
       "      <td>0</td>\n",
       "      <td>0</td>\n",
       "      <td>0</td>\n",
       "      <td>2015</td>\n",
       "      <td>9</td>\n",
       "    </tr>\n",
       "    <tr>\n",
       "      <th>10751</th>\n",
       "      <td>10752</td>\n",
       "      <td>622</td>\n",
       "      <td>6</td>\n",
       "      <td>2015-09-05</td>\n",
       "      <td>NaN</td>\n",
       "      <td>0</td>\n",
       "      <td>0</td>\n",
       "      <td>0</td>\n",
       "      <td>2015</td>\n",
       "      <td>9</td>\n",
       "    </tr>\n",
       "  </tbody>\n",
       "</table>\n",
       "</div>"
      ],
      "text/plain": [
       "          Id  Store  DayOfWeek       Date  Open  Promo StateHoliday  \\\n",
       "479      480    622          4 2015-09-17   NaN      1            0   \n",
       "1335    1336    622          3 2015-09-16   NaN      1            0   \n",
       "2191    2192    622          2 2015-09-15   NaN      1            0   \n",
       "3047    3048    622          1 2015-09-14   NaN      1            0   \n",
       "4759    4760    622          6 2015-09-12   NaN      0            0   \n",
       "5615    5616    622          5 2015-09-11   NaN      0            0   \n",
       "6471    6472    622          4 2015-09-10   NaN      0            0   \n",
       "7327    7328    622          3 2015-09-09   NaN      0            0   \n",
       "8183    8184    622          2 2015-09-08   NaN      0            0   \n",
       "9039    9040    622          1 2015-09-07   NaN      0            0   \n",
       "10751  10752    622          6 2015-09-05   NaN      0            0   \n",
       "\n",
       "      SchoolHoliday  Year  Month  \n",
       "479               0  2015      9  \n",
       "1335              0  2015      9  \n",
       "2191              0  2015      9  \n",
       "3047              0  2015      9  \n",
       "4759              0  2015      9  \n",
       "5615              0  2015      9  \n",
       "6471              0  2015      9  \n",
       "7327              0  2015      9  \n",
       "8183              0  2015      9  \n",
       "9039              0  2015      9  \n",
       "10751             0  2015      9  "
      ]
     },
     "execution_count": 11,
     "metadata": {},
     "output_type": "execute_result"
    }
   ],
   "source": [
    "test.loc[np.isnan(test['Open'])]"
   ]
  },
  {
   "cell_type": "markdown",
   "metadata": {
    "colab_type": "text",
    "id": "uyPbc6ngKQgc"
   },
   "source": [
    "Do we have any information about store 622? Check train dataset"
   ]
  },
  {
   "cell_type": "code",
   "execution_count": 12,
   "metadata": {
    "colab": {
     "base_uri": "https://localhost:8080/",
     "height": 203
    },
    "colab_type": "code",
    "id": "x6prg80pKS1t",
    "outputId": "671ad11b-095f-4319-d037-0243dca67eef"
   },
   "outputs": [
    {
     "data": {
      "text/html": [
       "<div>\n",
       "<style scoped>\n",
       "    .dataframe tbody tr th:only-of-type {\n",
       "        vertical-align: middle;\n",
       "    }\n",
       "\n",
       "    .dataframe tbody tr th {\n",
       "        vertical-align: top;\n",
       "    }\n",
       "\n",
       "    .dataframe thead th {\n",
       "        text-align: right;\n",
       "    }\n",
       "</style>\n",
       "<table border=\"1\" class=\"dataframe\">\n",
       "  <thead>\n",
       "    <tr style=\"text-align: right;\">\n",
       "      <th></th>\n",
       "      <th>Store</th>\n",
       "      <th>DayOfWeek</th>\n",
       "      <th>Date</th>\n",
       "      <th>Sales</th>\n",
       "      <th>Customers</th>\n",
       "      <th>Open</th>\n",
       "      <th>Promo</th>\n",
       "      <th>StateHoliday</th>\n",
       "      <th>SchoolHoliday</th>\n",
       "      <th>Year</th>\n",
       "      <th>Month</th>\n",
       "    </tr>\n",
       "  </thead>\n",
       "  <tbody>\n",
       "    <tr>\n",
       "      <th>621</th>\n",
       "      <td>622</td>\n",
       "      <td>5</td>\n",
       "      <td>2015-07-31</td>\n",
       "      <td>6306</td>\n",
       "      <td>540</td>\n",
       "      <td>1</td>\n",
       "      <td>1</td>\n",
       "      <td>0</td>\n",
       "      <td>0</td>\n",
       "      <td>2015</td>\n",
       "      <td>7</td>\n",
       "    </tr>\n",
       "    <tr>\n",
       "      <th>1736</th>\n",
       "      <td>622</td>\n",
       "      <td>4</td>\n",
       "      <td>2015-07-30</td>\n",
       "      <td>5412</td>\n",
       "      <td>406</td>\n",
       "      <td>1</td>\n",
       "      <td>1</td>\n",
       "      <td>0</td>\n",
       "      <td>0</td>\n",
       "      <td>2015</td>\n",
       "      <td>7</td>\n",
       "    </tr>\n",
       "    <tr>\n",
       "      <th>2851</th>\n",
       "      <td>622</td>\n",
       "      <td>3</td>\n",
       "      <td>2015-07-29</td>\n",
       "      <td>5326</td>\n",
       "      <td>468</td>\n",
       "      <td>1</td>\n",
       "      <td>1</td>\n",
       "      <td>0</td>\n",
       "      <td>0</td>\n",
       "      <td>2015</td>\n",
       "      <td>7</td>\n",
       "    </tr>\n",
       "    <tr>\n",
       "      <th>3966</th>\n",
       "      <td>622</td>\n",
       "      <td>2</td>\n",
       "      <td>2015-07-28</td>\n",
       "      <td>4966</td>\n",
       "      <td>417</td>\n",
       "      <td>1</td>\n",
       "      <td>1</td>\n",
       "      <td>0</td>\n",
       "      <td>0</td>\n",
       "      <td>2015</td>\n",
       "      <td>7</td>\n",
       "    </tr>\n",
       "    <tr>\n",
       "      <th>5081</th>\n",
       "      <td>622</td>\n",
       "      <td>1</td>\n",
       "      <td>2015-07-27</td>\n",
       "      <td>5413</td>\n",
       "      <td>517</td>\n",
       "      <td>1</td>\n",
       "      <td>1</td>\n",
       "      <td>0</td>\n",
       "      <td>0</td>\n",
       "      <td>2015</td>\n",
       "      <td>7</td>\n",
       "    </tr>\n",
       "  </tbody>\n",
       "</table>\n",
       "</div>"
      ],
      "text/plain": [
       "      Store  DayOfWeek       Date  Sales  Customers  Open  Promo  \\\n",
       "621     622          5 2015-07-31   6306        540     1      1   \n",
       "1736    622          4 2015-07-30   5412        406     1      1   \n",
       "2851    622          3 2015-07-29   5326        468     1      1   \n",
       "3966    622          2 2015-07-28   4966        417     1      1   \n",
       "5081    622          1 2015-07-27   5413        517     1      1   \n",
       "\n",
       "      StateHoliday  SchoolHoliday  Year  Month  \n",
       "621              0              0  2015      7  \n",
       "1736             0              0  2015      7  \n",
       "2851             0              0  2015      7  \n",
       "3966             0              0  2015      7  \n",
       "5081             0              0  2015      7  "
      ]
     },
     "execution_count": 12,
     "metadata": {},
     "output_type": "execute_result"
    }
   ],
   "source": [
    "train.loc[np.where(train['Store']==622)].head()"
   ]
  },
  {
   "cell_type": "markdown",
   "metadata": {
    "colab_type": "text",
    "id": "b0hpdrzYKxsF"
   },
   "source": [
    "As we have information about store 622 in train dataset as open (1) lets replace the NaN from test dataset to open (1)"
   ]
  },
  {
   "cell_type": "code",
   "execution_count": 13,
   "metadata": {
    "colab": {},
    "colab_type": "code",
    "id": "kRHm_vr7KbWN"
   },
   "outputs": [],
   "source": [
    "test.loc[np.isnan(test['Open']),'Open']=1"
   ]
  },
  {
   "cell_type": "markdown",
   "metadata": {
    "colab_type": "text",
    "id": "sdmbq1lYLXeT"
   },
   "source": [
    "Checking for missing values in test dataset"
   ]
  },
  {
   "cell_type": "code",
   "execution_count": 14,
   "metadata": {
    "colab": {
     "base_uri": "https://localhost:8080/",
     "height": 228
    },
    "colab_type": "code",
    "id": "CH76QgP_LLQU",
    "outputId": "a4176634-e20a-4795-fc9f-e6499a85d02f"
   },
   "outputs": [
    {
     "name": "stdout",
     "output_type": "stream",
     "text": [
      "NANs for individual columns\n",
      "---------------------------\n"
     ]
    },
    {
     "data": {
      "text/plain": [
       "[('Id', 0),\n",
       " ('Store', 0),\n",
       " ('DayOfWeek', 0),\n",
       " ('Date', 0),\n",
       " ('Open', 0),\n",
       " ('Promo', 0),\n",
       " ('StateHoliday', 0),\n",
       " ('SchoolHoliday', 0),\n",
       " ('Year', 0),\n",
       " ('Month', 0)]"
      ]
     },
     "execution_count": 14,
     "metadata": {},
     "output_type": "execute_result"
    }
   ],
   "source": [
    "print(\"NANs for individual columns\")\n",
    "print(\"---------------------------\")\n",
    "from collections import Counter\n",
    "x = {colname : test[colname].isnull().sum() for colname in test.columns}\n",
    "Counter(x).most_common()"
   ]
  },
  {
   "cell_type": "code",
   "execution_count": 15,
   "metadata": {
    "colab": {
     "base_uri": "https://localhost:8080/",
     "height": 52
    },
    "colab_type": "code",
    "id": "3hzuJy5xLb3l",
    "outputId": "c33f29e8-0b6e-458a-d215-887483d54b4e"
   },
   "outputs": [
    {
     "name": "stdout",
     "output_type": "stream",
     "text": [
      "levels : [0 1] ; data type : int32\n",
      "levels : [0 1] ; data type : int32\n"
     ]
    }
   ],
   "source": [
    "factor_to_integer(test, 'StateHoliday')\n",
    "factor_to_integer(test, 'SchoolHoliday')"
   ]
  },
  {
   "cell_type": "markdown",
   "metadata": {
    "colab_type": "text",
    "id": "HS0LEtSsL2Hi"
   },
   "source": [
    "because only StateHoliday 0 and 1 exist in test dataset, we should consider deleting the rows in train dataset that the StateHoliday value is different than 0 or 1.\n"
   ]
  },
  {
   "cell_type": "code",
   "execution_count": 16,
   "metadata": {
    "colab": {
     "base_uri": "https://localhost:8080/",
     "height": 35
    },
    "colab_type": "code",
    "id": "GT31P0prL5Vv",
    "outputId": "aac29bc9-2c1e-4915-c02d-c417b17ea9ea"
   },
   "outputs": [
    {
     "data": {
      "text/plain": [
       "(10790, 11)"
      ]
     },
     "execution_count": 16,
     "metadata": {},
     "output_type": "execute_result"
    }
   ],
   "source": [
    "train.loc[train['StateHoliday'] > 1].shape"
   ]
  },
  {
   "cell_type": "code",
   "execution_count": 17,
   "metadata": {
    "colab": {},
    "colab_type": "code",
    "id": "0lRG_DMoL77J"
   },
   "outputs": [],
   "source": [
    "train = train.loc[train['StateHoliday']<2]"
   ]
  },
  {
   "cell_type": "markdown",
   "metadata": {
    "colab_type": "text",
    "id": "HK-QbTELMMuK"
   },
   "source": [
    "**Cleaning Store Dataset**"
   ]
  },
  {
   "cell_type": "code",
   "execution_count": 18,
   "metadata": {
    "colab": {
     "base_uri": "https://localhost:8080/",
     "height": 228
    },
    "colab_type": "code",
    "id": "yFCa-o2KML-S",
    "outputId": "ff790952-18bb-428e-d6ae-d1eb8fab988c"
   },
   "outputs": [
    {
     "name": "stdout",
     "output_type": "stream",
     "text": [
      "NANs for individual columns\n",
      "---------------------------\n"
     ]
    },
    {
     "data": {
      "text/plain": [
       "[('Promo2SinceWeek', 544),\n",
       " ('Promo2SinceYear', 544),\n",
       " ('PromoInterval', 544),\n",
       " ('CompetitionOpenSinceMonth', 354),\n",
       " ('CompetitionOpenSinceYear', 354),\n",
       " ('CompetitionDistance', 3),\n",
       " ('Store', 0),\n",
       " ('StoreType', 0),\n",
       " ('Assortment', 0),\n",
       " ('Promo2', 0)]"
      ]
     },
     "execution_count": 18,
     "metadata": {},
     "output_type": "execute_result"
    }
   ],
   "source": [
    "print(\"NANs for individual columns\")\n",
    "print(\"---------------------------\")\n",
    "from collections import Counter\n",
    "x = {colname : store[colname].isnull().sum() for colname in store.columns}\n",
    "Counter(x).most_common()"
   ]
  },
  {
   "cell_type": "code",
   "execution_count": 19,
   "metadata": {
    "colab": {
     "base_uri": "https://localhost:8080/",
     "height": 52
    },
    "colab_type": "code",
    "id": "5QGsRcK2MGbO",
    "outputId": "31d7962e-548b-4877-eb0b-394c7a594990"
   },
   "outputs": [
    {
     "data": {
      "text/plain": [
       "array([nan, 'Jan,Apr,Jul,Oct', 'Feb,May,Aug,Nov', 'Mar,Jun,Sept,Dec'],\n",
       "      dtype=object)"
      ]
     },
     "execution_count": 19,
     "metadata": {},
     "output_type": "execute_result"
    }
   ],
   "source": [
    "store['PromoInterval'].unique()"
   ]
  },
  {
   "cell_type": "markdown",
   "metadata": {
    "colab_type": "text",
    "id": "9e3K0mPdMkJi"
   },
   "source": [
    "If there is no promotion, then the corresponding columns should have zero values."
   ]
  },
  {
   "cell_type": "code",
   "execution_count": 20,
   "metadata": {
    "colab": {},
    "colab_type": "code",
    "id": "1rAFYSg7Mgpu"
   },
   "outputs": [],
   "source": [
    "store.loc[store['Promo2'] == 0, ['Promo2SinceWeek', 'Promo2SinceYear', 'PromoInterval']] = 0"
   ]
  },
  {
   "cell_type": "code",
   "execution_count": 21,
   "metadata": {
    "colab": {
     "base_uri": "https://localhost:8080/",
     "height": 203
    },
    "colab_type": "code",
    "id": "fLTwUviBM1uO",
    "outputId": "69ad0e2a-53f9-478e-b567-d33e28663ab6"
   },
   "outputs": [
    {
     "data": {
      "text/html": [
       "<div>\n",
       "<style scoped>\n",
       "    .dataframe tbody tr th:only-of-type {\n",
       "        vertical-align: middle;\n",
       "    }\n",
       "\n",
       "    .dataframe tbody tr th {\n",
       "        vertical-align: top;\n",
       "    }\n",
       "\n",
       "    .dataframe thead th {\n",
       "        text-align: right;\n",
       "    }\n",
       "</style>\n",
       "<table border=\"1\" class=\"dataframe\">\n",
       "  <thead>\n",
       "    <tr style=\"text-align: right;\">\n",
       "      <th></th>\n",
       "      <th>Store</th>\n",
       "      <th>StoreType</th>\n",
       "      <th>Assortment</th>\n",
       "      <th>CompetitionDistance</th>\n",
       "      <th>CompetitionOpenSinceMonth</th>\n",
       "      <th>CompetitionOpenSinceYear</th>\n",
       "      <th>Promo2</th>\n",
       "      <th>Promo2SinceWeek</th>\n",
       "      <th>Promo2SinceYear</th>\n",
       "      <th>PromoInterval</th>\n",
       "    </tr>\n",
       "  </thead>\n",
       "  <tbody>\n",
       "    <tr>\n",
       "      <th>1</th>\n",
       "      <td>2</td>\n",
       "      <td>a</td>\n",
       "      <td>a</td>\n",
       "      <td>570.0</td>\n",
       "      <td>11.0</td>\n",
       "      <td>2007.0</td>\n",
       "      <td>1</td>\n",
       "      <td>13.0</td>\n",
       "      <td>2010.0</td>\n",
       "      <td>Jan,Apr,Jul,Oct</td>\n",
       "    </tr>\n",
       "    <tr>\n",
       "      <th>2</th>\n",
       "      <td>3</td>\n",
       "      <td>a</td>\n",
       "      <td>a</td>\n",
       "      <td>14130.0</td>\n",
       "      <td>12.0</td>\n",
       "      <td>2006.0</td>\n",
       "      <td>1</td>\n",
       "      <td>14.0</td>\n",
       "      <td>2011.0</td>\n",
       "      <td>Jan,Apr,Jul,Oct</td>\n",
       "    </tr>\n",
       "    <tr>\n",
       "      <th>10</th>\n",
       "      <td>11</td>\n",
       "      <td>a</td>\n",
       "      <td>c</td>\n",
       "      <td>960.0</td>\n",
       "      <td>11.0</td>\n",
       "      <td>2011.0</td>\n",
       "      <td>1</td>\n",
       "      <td>1.0</td>\n",
       "      <td>2012.0</td>\n",
       "      <td>Jan,Apr,Jul,Oct</td>\n",
       "    </tr>\n",
       "    <tr>\n",
       "      <th>11</th>\n",
       "      <td>12</td>\n",
       "      <td>a</td>\n",
       "      <td>c</td>\n",
       "      <td>1070.0</td>\n",
       "      <td>NaN</td>\n",
       "      <td>NaN</td>\n",
       "      <td>1</td>\n",
       "      <td>13.0</td>\n",
       "      <td>2010.0</td>\n",
       "      <td>Jan,Apr,Jul,Oct</td>\n",
       "    </tr>\n",
       "    <tr>\n",
       "      <th>12</th>\n",
       "      <td>13</td>\n",
       "      <td>d</td>\n",
       "      <td>a</td>\n",
       "      <td>310.0</td>\n",
       "      <td>NaN</td>\n",
       "      <td>NaN</td>\n",
       "      <td>1</td>\n",
       "      <td>45.0</td>\n",
       "      <td>2009.0</td>\n",
       "      <td>Feb,May,Aug,Nov</td>\n",
       "    </tr>\n",
       "  </tbody>\n",
       "</table>\n",
       "</div>"
      ],
      "text/plain": [
       "    Store StoreType Assortment  CompetitionDistance  \\\n",
       "1       2         a          a                570.0   \n",
       "2       3         a          a              14130.0   \n",
       "10     11         a          c                960.0   \n",
       "11     12         a          c               1070.0   \n",
       "12     13         d          a                310.0   \n",
       "\n",
       "    CompetitionOpenSinceMonth  CompetitionOpenSinceYear  Promo2  \\\n",
       "1                        11.0                    2007.0       1   \n",
       "2                        12.0                    2006.0       1   \n",
       "10                       11.0                    2011.0       1   \n",
       "11                        NaN                       NaN       1   \n",
       "12                        NaN                       NaN       1   \n",
       "\n",
       "    Promo2SinceWeek  Promo2SinceYear    PromoInterval  \n",
       "1              13.0           2010.0  Jan,Apr,Jul,Oct  \n",
       "2              14.0           2011.0  Jan,Apr,Jul,Oct  \n",
       "10              1.0           2012.0  Jan,Apr,Jul,Oct  \n",
       "11             13.0           2010.0  Jan,Apr,Jul,Oct  \n",
       "12             45.0           2009.0  Feb,May,Aug,Nov  "
      ]
     },
     "execution_count": 21,
     "metadata": {},
     "output_type": "execute_result"
    }
   ],
   "source": [
    "store.loc[np.where(store['Promo2']!=0)].head()"
   ]
  },
  {
   "cell_type": "code",
   "execution_count": 22,
   "metadata": {
    "colab": {},
    "colab_type": "code",
    "id": "93Ul5maHOYIo"
   },
   "outputs": [],
   "source": [
    "store.loc[store['Promo2'] != 0, 'Promo2SinceWeek'] = store['Promo2SinceWeek'].max() - store.loc[store['Promo2'] != 0, 'Promo2SinceWeek']\n",
    "store.loc[store['Promo2'] != 0, 'Promo2SinceYear'] = store['Promo2SinceYear'].max() - store.loc[store['Promo2'] != 0, 'Promo2SinceYear']"
   ]
  },
  {
   "cell_type": "code",
   "execution_count": 23,
   "metadata": {
    "colab": {
     "base_uri": "https://localhost:8080/",
     "height": 211
    },
    "colab_type": "code",
    "id": "b1qlqbz_PO_n",
    "outputId": "1364a019-3d5a-4f23-e5ea-d7aee3514e3e"
   },
   "outputs": [
    {
     "data": {
      "text/plain": [
       "Store                          int64\n",
       "StoreType                     object\n",
       "Assortment                    object\n",
       "CompetitionDistance          float64\n",
       "CompetitionOpenSinceMonth    float64\n",
       "CompetitionOpenSinceYear     float64\n",
       "Promo2                         int64\n",
       "Promo2SinceWeek              float64\n",
       "Promo2SinceYear              float64\n",
       "PromoInterval                 object\n",
       "dtype: object"
      ]
     },
     "execution_count": 23,
     "metadata": {},
     "output_type": "execute_result"
    }
   ],
   "source": [
    "store.dtypes"
   ]
  },
  {
   "cell_type": "code",
   "execution_count": 24,
   "metadata": {
    "colab": {
     "base_uri": "https://localhost:8080/",
     "height": 35
    },
    "colab_type": "code",
    "id": "xp17xeJ0Pjvb",
    "outputId": "e5391427-21af-46e4-a1dd-a4637a95a64f"
   },
   "outputs": [
    {
     "name": "stdout",
     "output_type": "stream",
     "text": [
      "levels : [0 1 2 3] ; data type : int32\n"
     ]
    }
   ],
   "source": [
    "factor_to_integer(store, 'PromoInterval', start_value=0)"
   ]
  },
  {
   "cell_type": "code",
   "execution_count": 25,
   "metadata": {
    "colab": {
     "base_uri": "https://localhost:8080/",
     "height": 52
    },
    "colab_type": "code",
    "id": "jO4tzq6SPmLb",
    "outputId": "bd988e19-2145-4905-c9f3-1902bb6346a0"
   },
   "outputs": [
    {
     "name": "stdout",
     "output_type": "stream",
     "text": [
      "levels : [0 1 2 3] ; data type : int32\n",
      "levels : [0 1 2] ; data type : int32\n"
     ]
    }
   ],
   "source": [
    "factor_to_integer(store, 'StoreType')\n",
    "factor_to_integer(store, 'Assortment')"
   ]
  },
  {
   "cell_type": "markdown",
   "metadata": {
    "colab_type": "text",
    "id": "O_MPR1i9PuCZ"
   },
   "source": [
    "Are there still missing values?"
   ]
  },
  {
   "cell_type": "code",
   "execution_count": 26,
   "metadata": {
    "colab": {
     "base_uri": "https://localhost:8080/",
     "height": 228
    },
    "colab_type": "code",
    "id": "N-37wHJpPqjW",
    "outputId": "92a80178-55f4-4f60-9cfd-cbae3d744783"
   },
   "outputs": [
    {
     "name": "stdout",
     "output_type": "stream",
     "text": [
      "NANs for individual columns\n",
      "---------------------------\n"
     ]
    },
    {
     "data": {
      "text/plain": [
       "[('CompetitionOpenSinceMonth', 354),\n",
       " ('CompetitionOpenSinceYear', 354),\n",
       " ('CompetitionDistance', 3),\n",
       " ('Store', 0),\n",
       " ('StoreType', 0),\n",
       " ('Assortment', 0),\n",
       " ('Promo2', 0),\n",
       " ('Promo2SinceWeek', 0),\n",
       " ('Promo2SinceYear', 0),\n",
       " ('PromoInterval', 0)]"
      ]
     },
     "execution_count": 26,
     "metadata": {},
     "output_type": "execute_result"
    }
   ],
   "source": [
    "print(\"NANs for individual columns\")\n",
    "print(\"---------------------------\")\n",
    "from collections import Counter\n",
    "x = {colname : store[colname].isnull().sum() for colname in store.columns}\n",
    "Counter(x).most_common()"
   ]
  },
  {
   "cell_type": "markdown",
   "metadata": {
    "colab_type": "text",
    "id": "l6rEvOnVP4XB"
   },
   "source": [
    "Filling the missing values with sklearn’s built-in command. Filling with the column.median()."
   ]
  },
  {
   "cell_type": "code",
   "execution_count": 27,
   "metadata": {
    "colab": {},
    "colab_type": "code",
    "id": "cwVEi8XoPx59"
   },
   "outputs": [],
   "source": [
    "from sklearn.impute import SimpleImputer\n",
    "imp = SimpleImputer( strategy='median').fit(store)\n",
    "store_imputed = imp.transform(store)\n",
    "store2 = pd.DataFrame(store_imputed, columns=store.columns.values)"
   ]
  },
  {
   "cell_type": "code",
   "execution_count": 28,
   "metadata": {
    "colab": {
     "base_uri": "https://localhost:8080/",
     "height": 228
    },
    "colab_type": "code",
    "id": "xrHAUypuQmE3",
    "outputId": "a3620f2b-6ead-48de-f4e0-3f32a54bc1e9"
   },
   "outputs": [
    {
     "name": "stdout",
     "output_type": "stream",
     "text": [
      "NANs for individual columns\n",
      "---------------------------\n"
     ]
    },
    {
     "data": {
      "text/plain": [
       "[('Store', 0),\n",
       " ('StoreType', 0),\n",
       " ('Assortment', 0),\n",
       " ('CompetitionDistance', 0),\n",
       " ('CompetitionOpenSinceMonth', 0),\n",
       " ('CompetitionOpenSinceYear', 0),\n",
       " ('Promo2', 0),\n",
       " ('Promo2SinceWeek', 0),\n",
       " ('Promo2SinceYear', 0),\n",
       " ('PromoInterval', 0)]"
      ]
     },
     "execution_count": 28,
     "metadata": {},
     "output_type": "execute_result"
    }
   ],
   "source": [
    "print(\"NANs for individual columns\")\n",
    "print(\"---------------------------\")\n",
    "from collections import Counter\n",
    "x = {colname : store2[colname].isnull().sum() for colname in store2.columns}\n",
    "Counter(x).most_common()"
   ]
  },
  {
   "cell_type": "code",
   "execution_count": 29,
   "metadata": {
    "colab": {},
    "colab_type": "code",
    "id": "hdGgPV4GSfc_"
   },
   "outputs": [],
   "source": [
    "store2['CompetitionOpenSinceMonth'] = store2['CompetitionOpenSinceMonth'].max() - store2['CompetitionOpenSinceMonth']\n",
    "store2['CompetitionOpenSinceYear'] = store2['CompetitionOpenSinceYear'].max() - store2['CompetitionOpenSinceYear']\n"
   ]
  },
  {
   "cell_type": "code",
   "execution_count": 30,
   "metadata": {
    "colab": {
     "base_uri": "https://localhost:8080/",
     "height": 203
    },
    "colab_type": "code",
    "id": "HGdj-8XRTSaH",
    "outputId": "25b5f80f-1a5b-4f91-eb7f-a1299e513393"
   },
   "outputs": [
    {
     "data": {
      "text/html": [
       "<div>\n",
       "<style scoped>\n",
       "    .dataframe tbody tr th:only-of-type {\n",
       "        vertical-align: middle;\n",
       "    }\n",
       "\n",
       "    .dataframe tbody tr th {\n",
       "        vertical-align: top;\n",
       "    }\n",
       "\n",
       "    .dataframe thead th {\n",
       "        text-align: right;\n",
       "    }\n",
       "</style>\n",
       "<table border=\"1\" class=\"dataframe\">\n",
       "  <thead>\n",
       "    <tr style=\"text-align: right;\">\n",
       "      <th></th>\n",
       "      <th>Store</th>\n",
       "      <th>StoreType</th>\n",
       "      <th>Assortment</th>\n",
       "      <th>CompetitionDistance</th>\n",
       "      <th>CompetitionOpenSinceMonth</th>\n",
       "      <th>CompetitionOpenSinceYear</th>\n",
       "      <th>Promo2</th>\n",
       "      <th>Promo2SinceWeek</th>\n",
       "      <th>Promo2SinceYear</th>\n",
       "      <th>PromoInterval</th>\n",
       "    </tr>\n",
       "  </thead>\n",
       "  <tbody>\n",
       "    <tr>\n",
       "      <th>1110</th>\n",
       "      <td>1111.0</td>\n",
       "      <td>1.0</td>\n",
       "      <td>0.0</td>\n",
       "      <td>1900.0</td>\n",
       "      <td>6.0</td>\n",
       "      <td>1.0</td>\n",
       "      <td>1.0</td>\n",
       "      <td>19.0</td>\n",
       "      <td>2.0</td>\n",
       "      <td>1.0</td>\n",
       "    </tr>\n",
       "    <tr>\n",
       "      <th>1111</th>\n",
       "      <td>1112.0</td>\n",
       "      <td>0.0</td>\n",
       "      <td>1.0</td>\n",
       "      <td>1880.0</td>\n",
       "      <td>8.0</td>\n",
       "      <td>9.0</td>\n",
       "      <td>0.0</td>\n",
       "      <td>0.0</td>\n",
       "      <td>0.0</td>\n",
       "      <td>0.0</td>\n",
       "    </tr>\n",
       "    <tr>\n",
       "      <th>1112</th>\n",
       "      <td>1113.0</td>\n",
       "      <td>1.0</td>\n",
       "      <td>1.0</td>\n",
       "      <td>9260.0</td>\n",
       "      <td>4.0</td>\n",
       "      <td>5.0</td>\n",
       "      <td>0.0</td>\n",
       "      <td>0.0</td>\n",
       "      <td>0.0</td>\n",
       "      <td>0.0</td>\n",
       "    </tr>\n",
       "    <tr>\n",
       "      <th>1113</th>\n",
       "      <td>1114.0</td>\n",
       "      <td>1.0</td>\n",
       "      <td>1.0</td>\n",
       "      <td>870.0</td>\n",
       "      <td>4.0</td>\n",
       "      <td>5.0</td>\n",
       "      <td>0.0</td>\n",
       "      <td>0.0</td>\n",
       "      <td>0.0</td>\n",
       "      <td>0.0</td>\n",
       "    </tr>\n",
       "    <tr>\n",
       "      <th>1114</th>\n",
       "      <td>1115.0</td>\n",
       "      <td>2.0</td>\n",
       "      <td>1.0</td>\n",
       "      <td>5350.0</td>\n",
       "      <td>4.0</td>\n",
       "      <td>5.0</td>\n",
       "      <td>1.0</td>\n",
       "      <td>28.0</td>\n",
       "      <td>3.0</td>\n",
       "      <td>3.0</td>\n",
       "    </tr>\n",
       "  </tbody>\n",
       "</table>\n",
       "</div>"
      ],
      "text/plain": [
       "       Store  StoreType  Assortment  CompetitionDistance  \\\n",
       "1110  1111.0        1.0         0.0               1900.0   \n",
       "1111  1112.0        0.0         1.0               1880.0   \n",
       "1112  1113.0        1.0         1.0               9260.0   \n",
       "1113  1114.0        1.0         1.0                870.0   \n",
       "1114  1115.0        2.0         1.0               5350.0   \n",
       "\n",
       "      CompetitionOpenSinceMonth  CompetitionOpenSinceYear  Promo2  \\\n",
       "1110                        6.0                       1.0     1.0   \n",
       "1111                        8.0                       9.0     0.0   \n",
       "1112                        4.0                       5.0     0.0   \n",
       "1113                        4.0                       5.0     0.0   \n",
       "1114                        4.0                       5.0     1.0   \n",
       "\n",
       "      Promo2SinceWeek  Promo2SinceYear  PromoInterval  \n",
       "1110             19.0              2.0            1.0  \n",
       "1111              0.0              0.0            0.0  \n",
       "1112              0.0              0.0            0.0  \n",
       "1113              0.0              0.0            0.0  \n",
       "1114             28.0              3.0            3.0  "
      ]
     },
     "execution_count": 30,
     "metadata": {},
     "output_type": "execute_result"
    }
   ],
   "source": [
    "store2.tail()"
   ]
  },
  {
   "cell_type": "code",
   "execution_count": 31,
   "metadata": {
    "colab": {},
    "colab_type": "code",
    "id": "ImGidsWwTblG"
   },
   "outputs": [],
   "source": [
    "train_store = pd.merge(train, store2, how = 'left', on='Store')\n",
    "test_store = test.reset_index().merge(store2, how = 'left', on='Store').set_index('Id')"
   ]
  },
  {
   "cell_type": "markdown",
   "metadata": {
    "colab_type": "text",
    "id": "WO2QOyxmUOOe"
   },
   "source": [
    "Visual Exploration"
   ]
  },
  {
   "cell_type": "code",
   "execution_count": 32,
   "metadata": {
    "colab": {
     "base_uri": "https://localhost:8080/",
     "height": 379
    },
    "colab_type": "code",
    "id": "1lLG1VRLgmVz",
    "outputId": "37f7d5f0-0142-4af7-9de4-8627ecc7a9a7"
   },
   "outputs": [
    {
     "ename": "ModuleNotFoundError",
     "evalue": "No module named 'seaborn'",
     "output_type": "error",
     "traceback": [
      "\u001b[1;31m---------------------------------------------------------------------------\u001b[0m",
      "\u001b[1;31mModuleNotFoundError\u001b[0m                       Traceback (most recent call last)",
      "\u001b[1;32m<ipython-input-32-b8a30ba98e33>\u001b[0m in \u001b[0;36m<module>\u001b[1;34m\u001b[0m\n\u001b[1;32m----> 1\u001b[1;33m \u001b[1;32mimport\u001b[0m \u001b[0mseaborn\u001b[0m \u001b[1;32mas\u001b[0m \u001b[0msns\u001b[0m\u001b[1;33m\u001b[0m\u001b[0m\n\u001b[0m\u001b[0;32m      2\u001b[0m \u001b[0msns\u001b[0m\u001b[1;33m.\u001b[0m\u001b[0mdistplot\u001b[0m\u001b[1;33m(\u001b[0m\u001b[0mtrain_store\u001b[0m\u001b[1;33m[\u001b[0m\u001b[1;34m'Sales'\u001b[0m\u001b[1;33m]\u001b[0m\u001b[1;33m)\u001b[0m\u001b[1;33m\u001b[0m\u001b[0m\n",
      "\u001b[1;31mModuleNotFoundError\u001b[0m: No module named 'seaborn'"
     ]
    }
   ],
   "source": [
    "import seaborn as sns\n",
    "sns.distplot(train_store['Sales'])"
   ]
  },
  {
   "cell_type": "code",
   "execution_count": 33,
   "metadata": {
    "colab": {
     "base_uri": "https://localhost:8080/",
     "height": 391
    },
    "colab_type": "code",
    "id": "nw103_O7UCCW",
    "outputId": "1d66349a-56b8-4e22-fef2-b0fa7eb5be6d"
   },
   "outputs": [
    {
     "data": {
      "image/png": "[encoded data removed]",
      "text/plain": [
       "<Figure size 432x288 with 1 Axes>"
      ]
     },
     "metadata": {
      "needs_background": "light"
     },
     "output_type": "display_data"
    }
   ],
   "source": [
    "train_store.boxplot(column='Sales', by='Year')\n",
    "plt.show()"
   ]
  },
  {
   "cell_type": "code",
   "execution_count": 34,
   "metadata": {
    "colab": {
     "base_uri": "https://localhost:8080/",
     "height": 391
    },
    "colab_type": "code",
    "id": "wAyBG3i_URE9",
    "outputId": "f193b0bd-e6b0-4947-f9c4-2f95fceaed35"
   },
   "outputs": [
    {
     "data": {
      "image/png": "[encoded data removed]",
      "text/plain": [
       "<Figure size 432x288 with 1 Axes>"
      ]
     },
     "metadata": {
      "needs_background": "light"
     },
     "output_type": "display_data"
    }
   ],
   "source": [
    "train_store.boxplot(column='Sales', by='Month')\n",
    "plt.show()"
   ]
  },
  {
   "cell_type": "code",
   "execution_count": 35,
   "metadata": {
    "colab": {
     "base_uri": "https://localhost:8080/",
     "height": 378
    },
    "colab_type": "code",
    "id": "hx9kGBrnUV_H",
    "outputId": "828d7db6-32d0-43aa-eef5-e4ee1c4d1134"
   },
   "outputs": [
    {
     "data": {
      "image/png": "[encoded data removed]",
      "text/plain": [
       "<Figure size 432x288 with 4 Axes>"
      ]
     },
     "metadata": {
      "needs_background": "light"
     },
     "output_type": "display_data"
    }
   ],
   "source": [
    "train_store.hist(column='Sales', by='Year', bins=30)\n",
    "plt.show()"
   ]
  },
  {
   "cell_type": "code",
   "execution_count": 36,
   "metadata": {
    "colab": {
     "base_uri": "https://localhost:8080/",
     "height": 378
    },
    "colab_type": "code",
    "id": "KhHHyv0dUo34",
    "outputId": "6c47b443-e2f8-4d5b-90cd-45e14601f150"
   },
   "outputs": [
    {
     "data": {
      "image/png": "[encoded data removed]",
      "text/plain": [
       "<Figure size 432x288 with 12 Axes>"
      ]
     },
     "metadata": {
      "needs_background": "light"
     },
     "output_type": "display_data"
    }
   ],
   "source": [
    "train_store.hist(column='Sales', by='Month', bins=30)\n",
    "plt.show()"
   ]
  },
  {
   "cell_type": "markdown",
   "metadata": {
    "colab_type": "text",
    "id": "1BPQ2ePAU-1m"
   },
   "source": [
    "# Modeling"
   ]
  },
  {
   "cell_type": "code",
   "execution_count": 37,
   "metadata": {
    "colab": {
     "base_uri": "https://localhost:8080/",
     "height": 193
    },
    "colab_type": "code",
    "id": "nrMCX0AyUtNL",
    "outputId": "b48165dc-24b0-4171-d288-263b31a6a64f"
   },
   "outputs": [
    {
     "name": "stdout",
     "output_type": "stream",
     "text": [
      "['Store' 'DayOfWeek' 'Date' 'Sales' 'Customers' 'Open' 'Promo'\n",
      " 'StateHoliday' 'SchoolHoliday' 'Year' 'Month' 'StoreType' 'Assortment'\n",
      " 'CompetitionDistance' 'CompetitionOpenSinceMonth'\n",
      " 'CompetitionOpenSinceYear' 'Promo2' 'Promo2SinceWeek' 'Promo2SinceYear'\n",
      " 'PromoInterval']\n",
      "['index' 'Store' 'DayOfWeek' 'Date' 'Open' 'Promo' 'StateHoliday'\n",
      " 'SchoolHoliday' 'Year' 'Month' 'StoreType' 'Assortment'\n",
      " 'CompetitionDistance' 'CompetitionOpenSinceMonth'\n",
      " 'CompetitionOpenSinceYear' 'Promo2' 'Promo2SinceWeek' 'Promo2SinceYear'\n",
      " 'PromoInterval']\n"
     ]
    }
   ],
   "source": [
    "print(train_store.columns.values)\n",
    "print(test_store.columns.values)"
   ]
  },
  {
   "cell_type": "code",
   "execution_count": 38,
   "metadata": {
    "colab": {},
    "colab_type": "code",
    "id": "xH8gOXsDVSE6"
   },
   "outputs": [],
   "source": [
    "train_model = train_store.drop(['Customers', 'Date'], axis=1)\n",
    "train_model['Year'] = train_model['Year'].max() - train_model['Year']\n",
    "#print(train_model.head())"
   ]
  },
  {
   "cell_type": "markdown",
   "metadata": {
    "colab_type": "text",
    "id": "00AKaUjMEBu6"
   },
   "source": [
    "## Linear Modeling"
   ]
  },
  {
   "cell_type": "markdown",
   "metadata": {
    "colab_type": "text",
    "id": "kvz7pDqjEKaG"
   },
   "source": [
    "**Is the relationship significant?**\n",
    "\n",
    "Correlation is any of a broad class of statistical relationships involving dependence"
   ]
  },
  {
   "cell_type": "code",
   "execution_count": 39,
   "metadata": {
    "colab": {
     "base_uri": "https://localhost:8080/",
     "height": 474
    },
    "colab_type": "code",
    "id": "izHxip0YlTAW",
    "outputId": "06af0645-78dc-4065-8fc8-aee43672bec7"
   },
   "outputs": [
    {
     "data": {
      "image/png": "[encoded data removed]",
      "text/plain": [
       "<Figure size 432x288 with 2 Axes>"
      ]
     },
     "metadata": {
      "needs_background": "light"
     },
     "output_type": "display_data"
    }
   ],
   "source": [
    "import matplotlib.pyplot as plt\n",
    "\n",
    "corr = train_model.corr()\n",
    "fig = plt.figure()\n",
    "ax = fig.add_subplot(111)\n",
    "cax = ax.matshow(corr,cmap='coolwarm', vmin=-1, vmax=1)\n",
    "fig.colorbar(cax)\n",
    "ticks = np.arange(0,len(train_model.columns),1)\n",
    "ax.set_xticks(ticks)\n",
    "plt.xticks(rotation=90)\n",
    "ax.set_yticks(ticks)\n",
    "ax.set_xticklabels(train_model.columns)\n",
    "ax.set_yticklabels(train_model.columns)\n",
    "plt.show()"
   ]
  },
  {
   "cell_type": "code",
   "execution_count": 40,
   "metadata": {
    "colab": {
     "base_uri": "https://localhost:8080/",
     "height": 334
    },
    "colab_type": "code",
    "id": "FrYvNfqCFKFJ",
    "outputId": "daf6ec2a-996f-4a35-eab9-1c2fec7a221c"
   },
   "outputs": [
    {
     "name": "stdout",
     "output_type": "stream",
     "text": [
      "Sales                        1.000000\n",
      "Open                         0.669017\n",
      "Promo                        0.457941\n",
      "Assortment                   0.090303\n",
      "Month                        0.055052\n",
      "StoreType                    0.037322\n",
      "CompetitionOpenSinceMonth    0.024011\n",
      "Store                        0.005271\n",
      "CompetitionOpenSinceYear    -0.010273\n",
      "CompetitionDistance         -0.019023\n",
      "Year                        -0.023087\n",
      "Promo2SinceYear             -0.066596\n",
      "Promo2                      -0.092353\n",
      "PromoInterval               -0.094013\n",
      "Promo2SinceWeek             -0.097373\n",
      "SchoolHoliday               -0.121029\n",
      "StateHoliday                -0.207833\n",
      "DayOfWeek                   -0.474969\n",
      "Name: Sales, dtype: float64\n"
     ]
    }
   ],
   "source": [
    "print(corr[\"Sales\"].sort_values(ascending=False))"
   ]
  },
  {
   "cell_type": "markdown",
   "metadata": {
    "colab_type": "text",
    "id": "xsuosFypxsxx"
   },
   "source": [
    "**AIC & BIC **\n",
    "\n",
    "The Akaike’s information criterion – AIC and the Bayesian information criterion – BIC are measures of the goodness of fit of an estimated statistical model and can also be used for model selection. Both criteria depend on the maximized value of the likelihood function L for the estimated model.\n",
    "\n",
    "k= # of variables\n",
    "\n",
    "n = number of observations\n",
    "\n",
    "AIC= 2k - 2ln(sse)\n",
    "\n",
    "BIC = n*ln(sse/n) + k*ln(n)\n"
   ]
  },
  {
   "cell_type": "code",
   "execution_count": 41,
   "metadata": {
    "colab": {},
    "colab_type": "code",
    "id": "bId3JqCjyPCk"
   },
   "outputs": [],
   "source": [
    "\n",
    "def calAIC(y,y_hat,k):\n",
    "  resid = y - y_hat\n",
    "  sse = sum(resid**2)\n",
    "  AIC= 2*k - 2*np.log(sse)\n",
    "  return AIC\n",
    "  \n",
    "def calBIC(y,y_hat,k):\n",
    "  n = len(y)\n",
    "  resid = y - y_hat\n",
    "  sse = sum(resid**2)\n",
    "  BIC = n*np.log(sse/n) + k*np.log(n)\n",
    "  return BIC"
   ]
  },
  {
   "cell_type": "markdown",
   "metadata": {
    "colab_type": "text",
    "id": "rk1bDxPeL5mD"
   },
   "source": [
    "##**Building Linear Models**"
   ]
  },
  {
   "cell_type": "code",
   "execution_count": 42,
   "metadata": {
    "colab": {},
    "colab_type": "code",
    "id": "lgromuDSHtH4"
   },
   "outputs": [],
   "source": [
    "from sklearn.model_selection import train_test_split\n",
    "#Creating the features \n",
    "\n",
    "features = train_model.drop('Sales', axis=1)\n",
    "target = train_model['Sales']\n",
    "\n",
    "X_train, X_test, y_train, y_test = train_test_split(features, target, test_size = 0.3, random_state = 42)"
   ]
  },
  {
   "cell_type": "code",
   "execution_count": 43,
   "metadata": {
    "colab": {
     "base_uri": "https://localhost:8080/",
     "height": 87
    },
    "colab_type": "code",
    "id": "zWCdcBQnMc38",
    "outputId": "f8ef7556-55d4-4f4f-fbf0-511c23ef351c"
   },
   "outputs": [
    {
     "name": "stdout",
     "output_type": "stream",
     "text": [
      "(704493, 17)\n",
      "(301926, 17)\n",
      "(704493,)\n",
      "(301926,)\n"
     ]
    }
   ],
   "source": [
    "print(X_train.shape)\n",
    "print(X_test.shape)\n",
    "print(y_train.shape)\n",
    "print(y_test.shape)"
   ]
  },
  {
   "cell_type": "markdown",
   "metadata": {
    "colab_type": "text",
    "id": "i5-H8XagKZO-"
   },
   "source": [
    "###**Multi Linear Model with scaling**"
   ]
  },
  {
   "cell_type": "code",
   "execution_count": 44,
   "metadata": {
    "colab": {
     "base_uri": "https://localhost:8080/",
     "height": 105
    },
    "colab_type": "code",
    "id": "fUM_iKTiM3Ln",
    "outputId": "8944d768-4a5f-4d73-bff4-f8771e024ad6"
   },
   "outputs": [
    {
     "name": "stdout",
     "output_type": "stream",
     "text": [
      "Train R^2: 0.549 0.0\n",
      "Train AIC, BIC : -24.334 , 11062074.0\n",
      "-----------------------------------------------\n",
      "Test R^2: 0.548\n",
      "Test AIC, BIC : -22.639 , 4740909.0\n"
     ]
    }
   ],
   "source": [
    "from sklearn import linear_model\n",
    "from sklearn.preprocessing import StandardScaler\n",
    "from sklearn.pipeline import Pipeline\n",
    "from sklearn.model_selection import cross_val_score\n",
    "from sklearn.model_selection import KFold\n",
    "from sklearn.metrics import r2_score\n",
    "\n",
    "\n",
    "#Setting up the scaling pipeline \n",
    "\n",
    "pipeline_order = [('scaler', StandardScaler()), ('linear_reg', linear_model.LinearRegression())]\n",
    "\n",
    "Model_Pipeline = Pipeline(pipeline_order)\n",
    "\n",
    "# evaluate pipeline\n",
    "kfold = KFold(n_splits=3, random_state=7)\n",
    "results = cross_val_score(Model_Pipeline, X_train, y_train, cv=kfold,scoring= 'r2')\n",
    "Model_Pipeline.fit(X_train, y_train)\n",
    "preds_train = Model_Pipeline.predict(X_train)\n",
    "preds = Model_Pipeline.predict(X_test)\n",
    "print(\"Train R^2:\",round(results.mean(),3), round(results.std(),3))\n",
    "print(\"Train AIC, BIC :\",round(calAIC(y_train,preds_train,len(X_train.columns)),3),\",\", round(calBIC(y_train,preds_train,len(X_train.columns))))\n",
    "print(\"-----------------------------------------------\")\n",
    "print(\"Test R^2:\",round(r2_score(y_test, preds),3))\n",
    "print(\"Test AIC, BIC :\",round(calAIC(y_test,preds,len(X_test.columns)),3),\",\", round(calBIC(y_test,preds,len(X_test.columns))))\n",
    "\n"
   ]
  },
  {
   "cell_type": "markdown",
   "metadata": {
    "colab_type": "text",
    "id": "YpYhdDpuKlgW"
   },
   "source": [
    "###**Multi Linear model without scaling**"
   ]
  },
  {
   "cell_type": "code",
   "execution_count": 45,
   "metadata": {
    "colab": {
     "base_uri": "https://localhost:8080/",
     "height": 52
    },
    "colab_type": "code",
    "id": "8BDGy55xMrL1",
    "outputId": "59828e35-f0f5-4b74-bfda-9e018eb53e67"
   },
   "outputs": [
    {
     "name": "stdout",
     "output_type": "stream",
     "text": [
      "Test R^2: 0.548\n",
      "Test AIC, BIC : -22.639 , 4740909.0\n"
     ]
    }
   ],
   "source": [
    "from sklearn import linear_model\n",
    "#Initializing a linear regression model \n",
    "\n",
    "linear_reg = linear_model.LinearRegression()\n",
    "\n",
    "#Fitting the model on the data\n",
    "\n",
    "model_wos = linear_reg.fit(X_train, y_train)\n",
    "\n",
    "#Accuracy of the model\n",
    "preds = model_wos.predict(X_test)\n",
    "print(\"Test R^2:\",round(r2_score(y_test, preds),3))\n",
    "print(\"Test AIC, BIC :\",round(calAIC(y_test,preds,len(X_test.columns)),3),\",\", round(calBIC(y_test,preds,len(X_test.columns))))"
   ]
  },
  {
   "cell_type": "code",
   "execution_count": 46,
   "metadata": {
    "colab": {
     "base_uri": "https://localhost:8080/",
     "height": 365
    },
    "colab_type": "code",
    "id": "daFW4CashDvC",
    "outputId": "4900b93f-8982-4f44-ef99-a60e9febeadc"
   },
   "outputs": [
    {
     "data": {
      "text/plain": [
       "<matplotlib.collections.PathCollection at 0x20035e0fc18>"
      ]
     },
     "execution_count": 46,
     "metadata": {},
     "output_type": "execute_result"
    },
    {
     "data": {
      "image/png": "[encoded data removed]",
      "text/plain": [
       "<Figure size 432x288 with 1 Axes>"
      ]
     },
     "metadata": {
      "needs_background": "light"
     },
     "output_type": "display_data"
    }
   ],
   "source": [
    "plt.scatter(y_test,linear_reg.predict(X_test))"
   ]
  },
  {
   "cell_type": "markdown",
   "metadata": {
    "colab_type": "text",
    "id": "SSYRQTB7l5VH"
   },
   "source": [
    "###**Cross validation with K-Fold**"
   ]
  },
  {
   "cell_type": "markdown",
   "metadata": {
    "colab_type": "text",
    "id": "C3ARZLO81O3S"
   },
   "source": [
    "### **Linear Model using SGD**"
   ]
  },
  {
   "cell_type": "code",
   "execution_count": 47,
   "metadata": {
    "colab": {
     "base_uri": "https://localhost:8080/",
     "height": 105
    },
    "colab_type": "code",
    "id": "kQRbyCOh0h-L",
    "outputId": "9de62cae-6036-4197-fe38-74e5de70b1b7"
   },
   "outputs": [
    {
     "name": "stdout",
     "output_type": "stream",
     "text": [
      "Train R^2: 0.548 0.0\n",
      "Train AIC, BIC : -24.341 , 11064435.0\n",
      "-----------------------------------------------\n",
      "Test R^2: 0.547\n",
      "Test AIC, BIC : -22.645 , 4741888.0\n"
     ]
    }
   ],
   "source": [
    "pipeline_order_sgd = [('scaler', StandardScaler()), ('linear_reg', linear_model.SGDRegressor())]\n",
    "\n",
    "Model_Pipeline_sgd = Pipeline(pipeline_order_sgd)\n",
    "\n",
    "# evaluate pipeline\n",
    "kfold = KFold(n_splits=3, random_state=7)\n",
    "results = cross_val_score(Model_Pipeline_sgd, X_train, y_train, cv=kfold,scoring= 'r2')\n",
    "Model_Pipeline_sgd.fit(X_train, y_train)\n",
    "preds_train = Model_Pipeline_sgd.predict(X_train)\n",
    "preds = Model_Pipeline_sgd.predict(X_test)\n",
    "print(\"Train R^2:\",round(results.mean(),3), round(results.std(),3))\n",
    "print(\"Train AIC, BIC :\",round(calAIC(y_train,preds_train,len(X_train.columns)),3),\",\", round(calBIC(y_train,preds_train,len(X_train.columns))))\n",
    "print(\"-----------------------------------------------\")\n",
    "print(\"Test R^2:\",round(r2_score(y_test, preds),3))\n",
    "print(\"Test AIC, BIC :\",round(calAIC(y_test,preds,len(X_test.columns)),3),\",\", round(calBIC(y_test,preds,len(X_test.columns))))\n"
   ]
  },
  {
   "cell_type": "code",
   "execution_count": null,
   "metadata": {},
   "outputs": [],
   "source": []
  },
  {
   "cell_type": "markdown",
   "metadata": {
    "colab_type": "text",
    "id": "_tBmWZYeImla"
   },
   "source": [
    "## **Part C: Multi-Colinearity and stepwise regression**"
   ]
  },
  {
   "cell_type": "markdown",
   "metadata": {
    "colab_type": "text",
    "id": "P7ID2eJlGryk"
   },
   "source": [
    "## **Part E: Regularization**"
   ]
  },
  {
   "cell_type": "code",
   "execution_count": 48,
   "metadata": {},
   "outputs": [
    {
     "data": {
      "text/html": [
       "<div>\n",
       "<style scoped>\n",
       "    .dataframe tbody tr th:only-of-type {\n",
       "        vertical-align: middle;\n",
       "    }\n",
       "\n",
       "    .dataframe tbody tr th {\n",
       "        vertical-align: top;\n",
       "    }\n",
       "\n",
       "    .dataframe thead th {\n",
       "        text-align: right;\n",
       "    }\n",
       "</style>\n",
       "<table border=\"1\" class=\"dataframe\">\n",
       "  <thead>\n",
       "    <tr style=\"text-align: right;\">\n",
       "      <th></th>\n",
       "      <th>Store</th>\n",
       "      <th>DayOfWeek</th>\n",
       "      <th>Sales</th>\n",
       "      <th>Open</th>\n",
       "      <th>Promo</th>\n",
       "      <th>StateHoliday</th>\n",
       "      <th>SchoolHoliday</th>\n",
       "      <th>Year</th>\n",
       "      <th>Month</th>\n",
       "      <th>StoreType</th>\n",
       "      <th>Assortment</th>\n",
       "      <th>CompetitionDistance</th>\n",
       "      <th>CompetitionOpenSinceMonth</th>\n",
       "      <th>CompetitionOpenSinceYear</th>\n",
       "      <th>Promo2</th>\n",
       "      <th>Promo2SinceWeek</th>\n",
       "      <th>Promo2SinceYear</th>\n",
       "      <th>PromoInterval</th>\n",
       "    </tr>\n",
       "  </thead>\n",
       "  <tbody>\n",
       "    <tr>\n",
       "      <th>0</th>\n",
       "      <td>1</td>\n",
       "      <td>5</td>\n",
       "      <td>5263</td>\n",
       "      <td>1</td>\n",
       "      <td>1</td>\n",
       "      <td>0</td>\n",
       "      <td>0</td>\n",
       "      <td>0</td>\n",
       "      <td>7</td>\n",
       "      <td>0.0</td>\n",
       "      <td>0.0</td>\n",
       "      <td>1270.0</td>\n",
       "      <td>3.0</td>\n",
       "      <td>7.0</td>\n",
       "      <td>0.0</td>\n",
       "      <td>0.0</td>\n",
       "      <td>0.0</td>\n",
       "      <td>0.0</td>\n",
       "    </tr>\n",
       "    <tr>\n",
       "      <th>1</th>\n",
       "      <td>2</td>\n",
       "      <td>5</td>\n",
       "      <td>6064</td>\n",
       "      <td>1</td>\n",
       "      <td>1</td>\n",
       "      <td>0</td>\n",
       "      <td>0</td>\n",
       "      <td>0</td>\n",
       "      <td>7</td>\n",
       "      <td>1.0</td>\n",
       "      <td>0.0</td>\n",
       "      <td>570.0</td>\n",
       "      <td>1.0</td>\n",
       "      <td>8.0</td>\n",
       "      <td>1.0</td>\n",
       "      <td>37.0</td>\n",
       "      <td>5.0</td>\n",
       "      <td>1.0</td>\n",
       "    </tr>\n",
       "    <tr>\n",
       "      <th>2</th>\n",
       "      <td>3</td>\n",
       "      <td>5</td>\n",
       "      <td>8314</td>\n",
       "      <td>1</td>\n",
       "      <td>1</td>\n",
       "      <td>0</td>\n",
       "      <td>0</td>\n",
       "      <td>0</td>\n",
       "      <td>7</td>\n",
       "      <td>1.0</td>\n",
       "      <td>0.0</td>\n",
       "      <td>14130.0</td>\n",
       "      <td>0.0</td>\n",
       "      <td>9.0</td>\n",
       "      <td>1.0</td>\n",
       "      <td>36.0</td>\n",
       "      <td>4.0</td>\n",
       "      <td>1.0</td>\n",
       "    </tr>\n",
       "    <tr>\n",
       "      <th>3</th>\n",
       "      <td>4</td>\n",
       "      <td>5</td>\n",
       "      <td>13995</td>\n",
       "      <td>1</td>\n",
       "      <td>1</td>\n",
       "      <td>0</td>\n",
       "      <td>0</td>\n",
       "      <td>0</td>\n",
       "      <td>7</td>\n",
       "      <td>0.0</td>\n",
       "      <td>1.0</td>\n",
       "      <td>620.0</td>\n",
       "      <td>3.0</td>\n",
       "      <td>6.0</td>\n",
       "      <td>0.0</td>\n",
       "      <td>0.0</td>\n",
       "      <td>0.0</td>\n",
       "      <td>0.0</td>\n",
       "    </tr>\n",
       "    <tr>\n",
       "      <th>4</th>\n",
       "      <td>5</td>\n",
       "      <td>5</td>\n",
       "      <td>4822</td>\n",
       "      <td>1</td>\n",
       "      <td>1</td>\n",
       "      <td>0</td>\n",
       "      <td>0</td>\n",
       "      <td>0</td>\n",
       "      <td>7</td>\n",
       "      <td>1.0</td>\n",
       "      <td>0.0</td>\n",
       "      <td>29910.0</td>\n",
       "      <td>8.0</td>\n",
       "      <td>0.0</td>\n",
       "      <td>0.0</td>\n",
       "      <td>0.0</td>\n",
       "      <td>0.0</td>\n",
       "      <td>0.0</td>\n",
       "    </tr>\n",
       "  </tbody>\n",
       "</table>\n",
       "</div>"
      ],
      "text/plain": [
       "   Store  DayOfWeek  Sales  Open  Promo  StateHoliday  SchoolHoliday  Year  \\\n",
       "0      1          5   5263     1      1             0              0     0   \n",
       "1      2          5   6064     1      1             0              0     0   \n",
       "2      3          5   8314     1      1             0              0     0   \n",
       "3      4          5  13995     1      1             0              0     0   \n",
       "4      5          5   4822     1      1             0              0     0   \n",
       "\n",
       "   Month  StoreType  Assortment  CompetitionDistance  \\\n",
       "0      7        0.0         0.0               1270.0   \n",
       "1      7        1.0         0.0                570.0   \n",
       "2      7        1.0         0.0              14130.0   \n",
       "3      7        0.0         1.0                620.0   \n",
       "4      7        1.0         0.0              29910.0   \n",
       "\n",
       "   CompetitionOpenSinceMonth  CompetitionOpenSinceYear  Promo2  \\\n",
       "0                        3.0                       7.0     0.0   \n",
       "1                        1.0                       8.0     1.0   \n",
       "2                        0.0                       9.0     1.0   \n",
       "3                        3.0                       6.0     0.0   \n",
       "4                        8.0                       0.0     0.0   \n",
       "\n",
       "   Promo2SinceWeek  Promo2SinceYear  PromoInterval  \n",
       "0              0.0              0.0            0.0  \n",
       "1             37.0              5.0            1.0  \n",
       "2             36.0              4.0            1.0  \n",
       "3              0.0              0.0            0.0  \n",
       "4              0.0              0.0            0.0  "
      ]
     },
     "execution_count": 48,
     "metadata": {},
     "output_type": "execute_result"
    }
   ],
   "source": [
    "train_model.head(5)"
   ]
  },
  {
   "cell_type": "code",
   "execution_count": 49,
   "metadata": {},
   "outputs": [],
   "source": [
    "train_model['MeanSalesStore'] = train_model.groupby('Store')['Sales'].transform('mean')"
   ]
  },
  {
   "cell_type": "code",
   "execution_count": 50,
   "metadata": {},
   "outputs": [],
   "source": [
    "train_model = train_model[train_model['Sales']>0]"
   ]
  },
  {
   "cell_type": "code",
   "execution_count": 51,
   "metadata": {},
   "outputs": [],
   "source": [
    "train_model['CrossedMeanSales'] = np.where(train_model['Sales'] >= train_model['MeanSalesStore'], 1,0 )"
   ]
  },
  {
   "cell_type": "code",
   "execution_count": 52,
   "metadata": {},
   "outputs": [],
   "source": [
    "train_model.to_csv('train_model_classification.csv')"
   ]
  },
  {
   "cell_type": "code",
   "execution_count": null,
   "metadata": {},
   "outputs": [],
   "source": []
  },
  {
   "cell_type": "code",
   "execution_count": null,
   "metadata": {},
   "outputs": [],
   "source": []
  },
  {
   "cell_type": "code",
   "execution_count": null,
   "metadata": {},
   "outputs": [],
   "source": []
  },
  {
   "cell_type": "code",
   "execution_count": null,
   "metadata": {},
   "outputs": [],
   "source": []
  }
 ],
 "metadata": {
  "colab": {
   "collapsed_sections": [],
   "include_colab_link": true,
   "name": "Rossmann Store Sales Prediction - Cleaning.ipynb",
   "provenance": [],
   "version": "0.3.2"
  },
  "kernelspec": {
   "display_name": "Python 3",
   "language": "python",
   "name": "python3"
  },
  "language_info": {
   "codemirror_mode": {
    "name": "ipython",
    "version": 3
   },
   "file_extension": ".py",
   "mimetype": "text/x-python",
   "name": "python",
   "nbconvert_exporter": "python",
   "pygments_lexer": "ipython3",
   "version": "3.7.0"
  }
 },
 "nbformat": 4,
 "nbformat_minor": 1
}
