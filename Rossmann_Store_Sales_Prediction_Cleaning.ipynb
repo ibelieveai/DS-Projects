{
  "nbformat": 4,
  "nbformat_minor": 0,
  "metadata": {
    "colab": {
      "name": "Rossmann Store Sales Prediction - Cleaning.ipynb",
      "version": "0.3.2",
      "provenance": [],
      "include_colab_link": true
    },
    "kernelspec": {
      "name": "python3",
      "display_name": "Python 3"
    }
  },
  "cells": [
    {
      "cell_type": "markdown",
      "metadata": {
        "id": "view-in-github",
        "colab_type": "text"
      },
      "source": [
        "<a href=\"https://colab.research.google.com/github/ibelieveai/DS-Projects/blob/master/Rossmann_Store_Sales_Prediction_Cleaning.ipynb\" target=\"_parent\"><img src=\"https://colab.research.google.com/assets/colab-badge.svg\" alt=\"Open In Colab\"/></a>"
      ]
    },
    {
      "metadata": {
        "id": "D9DNx54BCvcW",
        "colab_type": "text"
      },
      "cell_type": "markdown",
      "source": [
        "# **Rossmann Store Sales Prediction**\n",
        "\n",
        "Rossmann operates over 3,000 drug stores in 7 European countries. Currently, Here we are predicting 6 weeks of daily sales for 1,115 stores located across Germany. Reliable sales forecasts enable store managers to create effective staff schedules that increase productivity and motivation. \n",
        "\n",
        "![alt text](https://storage.googleapis.com/kaggle-competitions/kaggle/4594/media/rossmann_banner2.png)"
      ]
    },
    {
      "metadata": {
        "id": "EYkaKyIeCb8f",
        "colab_type": "text"
      },
      "cell_type": "markdown",
      "source": [
        "# **Data Exploration and Engineering**"
      ]
    },
    {
      "metadata": {
        "id": "NXPVljWADnDe",
        "colab_type": "text"
      },
      "cell_type": "markdown",
      "source": [
        "First, we will mount my google drive and load data into the googlecolab workspace."
      ]
    },
    {
      "metadata": {
        "id": "lQwXcX718sck",
        "colab_type": "code",
        "colab": {
          "base_uri": "https://localhost:8080/",
          "height": 122
        },
        "outputId": "f82417d4-624d-4594-b7da-bcd242801814"
      },
      "cell_type": "code",
      "source": [
        "from google.colab import drive\n",
        "drive.mount('/content/drive')"
      ],
      "execution_count": 3,
      "outputs": [
        {
          "output_type": "stream",
          "text": [
            "Go to this URL in a browser: https://accounts.google.com/o/oauth2/auth?client_id=947318989803-6bn6qk8qdgf4n4g3pfee6491hc0brc4i.apps.googleusercontent.com&redirect_uri=urn%3Aietf%3Awg%3Aoauth%3A2.0%3Aoob&scope=email%20https%3A%2F%2Fwww.googleapis.com%2Fauth%2Fdocs.test%20https%3A%2F%2Fwww.googleapis.com%2Fauth%2Fdrive%20https%3A%2F%2Fwww.googleapis.com%2Fauth%2Fdrive.photos.readonly%20https%3A%2F%2Fwww.googleapis.com%2Fauth%2Fpeopleapi.readonly&response_type=code\n",
            "\n",
            "Enter your authorization code:\n",
            "··········\n",
            "Mounted at /content/drive\n"
          ],
          "name": "stdout"
        }
      ]
    },
    {
      "metadata": {
        "id": "tZY20jPkD77-",
        "colab_type": "code",
        "colab": {}
      },
      "cell_type": "code",
      "source": [
        "# import necessary libraries.\n",
        "\n",
        "import pandas as pd\n",
        "import numpy as np\n",
        "import matplotlib.pyplot as plt\n",
        "import scipy.stats as stats\n",
        "import seaborn as sns"
      ],
      "execution_count": 0,
      "outputs": []
    },
    {
      "metadata": {
        "id": "I7wq-s1mA1iQ",
        "colab_type": "code",
        "colab": {}
      },
      "cell_type": "code",
      "source": [
        "data_path = \"/content/drive/My Drive/Data Science/Rossman-salesforecast/data/\"\n",
        "\n",
        "store = pd.read_csv(data_path+\"/store.csv\",sep=',',dtype= {'StoreType':str,\n",
        "                                                          'Assortment':str,\n",
        "                                                          'PromoInterval':str})\n",
        "\n",
        "train = pd.read_csv(data_path+\"/train.csv\",sep= ',', parse_dates=['Date'], dtype= {'StateHoliday': str, 'SchoolHoliday':str} )\n",
        "test =  pd.read_csv(data_path+\"/test.csv\",sep= ',', parse_dates=['Date'], dtype= {'StateHoliday': str, 'SchoolHoliday':str} )"
      ],
      "execution_count": 0,
      "outputs": []
    },
    {
      "metadata": {
        "id": "K5JGF0CjJj7D",
        "colab_type": "text"
      },
      "cell_type": "markdown",
      "source": [
        "**Cleaning Train dataset**"
      ]
    },
    {
      "metadata": {
        "id": "TDcwvhehB9-D",
        "colab_type": "code",
        "colab": {}
      },
      "cell_type": "code",
      "source": [
        "train['Year'] = pd.DatetimeIndex(train['Date']).year\n",
        "train['Month'] = pd.DatetimeIndex(train['Date']).month\n",
        "\n"
      ],
      "execution_count": 0,
      "outputs": []
    },
    {
      "metadata": {
        "id": "z3i-woiSHtbe",
        "colab_type": "code",
        "colab": {}
      },
      "cell_type": "code",
      "source": [
        "def factor_to_integer(df, colname, start_value=0):\n",
        "    while df[colname].dtype == object:\n",
        "        myval = start_value # factor starts at \"start_value\".\n",
        "        for sval in df[colname].unique():\n",
        "            df.loc[df[colname] == sval, colname] = myval\n",
        "            myval += 1\n",
        "        df[colname] = df[colname].astype(int, copy=False)\n",
        "    print('levels :', df[colname].unique(), '; data type :', df[colname].dtype)"
      ],
      "execution_count": 0,
      "outputs": []
    },
    {
      "metadata": {
        "id": "LvYz4F4wIZJ4",
        "colab_type": "code",
        "colab": {
          "base_uri": "https://localhost:8080/",
          "height": 51
        },
        "outputId": "163d9bbd-e60d-4cfb-c8fe-2eb043a19d86"
      },
      "cell_type": "code",
      "source": [
        "factor_to_integer(train, 'SchoolHoliday')\n",
        "factor_to_integer(train, 'StateHoliday')"
      ],
      "execution_count": 13,
      "outputs": [
        {
          "output_type": "stream",
          "text": [
            "levels : [0 1] ; data type : int64\n",
            "levels : [0 1 2 3] ; data type : int64\n"
          ],
          "name": "stdout"
        }
      ]
    },
    {
      "metadata": {
        "id": "2lbIzCJoIz4F",
        "colab_type": "text"
      },
      "cell_type": "markdown",
      "source": [
        "Check for number of NaNs for selected columns."
      ]
    },
    {
      "metadata": {
        "id": "ZIJgFY-lI2G5",
        "colab_type": "code",
        "colab": {
          "base_uri": "https://localhost:8080/",
          "height": 238
        },
        "outputId": "f66abbce-c344-4f17-9be5-4bde1fb467e6"
      },
      "cell_type": "code",
      "source": [
        "print(\"NANs for individual columns\")\n",
        "print(\"---------------------------\")\n",
        "from collections import Counter\n",
        "x = {colname : train[colname].isnull().sum() for colname in train.columns}\n",
        "Counter(x).most_common()"
      ],
      "execution_count": 15,
      "outputs": [
        {
          "output_type": "stream",
          "text": [
            "NANs for individual columns\n",
            "---------------------------\n"
          ],
          "name": "stdout"
        },
        {
          "output_type": "execute_result",
          "data": {
            "text/plain": [
              "[('Store', 0),\n",
              " ('DayOfWeek', 0),\n",
              " ('Date', 0),\n",
              " ('Sales', 0),\n",
              " ('Customers', 0),\n",
              " ('Open', 0),\n",
              " ('Promo', 0),\n",
              " ('StateHoliday', 0),\n",
              " ('SchoolHoliday', 0),\n",
              " ('Year', 0),\n",
              " ('Month', 0)]"
            ]
          },
          "metadata": {
            "tags": []
          },
          "execution_count": 15
        }
      ]
    },
    {
      "metadata": {
        "id": "Ptubl4OTJrx8",
        "colab_type": "text"
      },
      "cell_type": "markdown",
      "source": [
        "**Cleaning Test dataset**"
      ]
    },
    {
      "metadata": {
        "id": "slCCKRLRJrAb",
        "colab_type": "code",
        "colab": {}
      },
      "cell_type": "code",
      "source": [
        "test['Year'] = pd.DatetimeIndex(test['Date']).year\n",
        "test['Month'] = pd.DatetimeIndex(test['Date']).month"
      ],
      "execution_count": 0,
      "outputs": []
    },
    {
      "metadata": {
        "id": "kYLh33m9J0i_",
        "colab_type": "code",
        "colab": {
          "base_uri": "https://localhost:8080/",
          "height": 221
        },
        "outputId": "b440a418-3538-4268-cab8-3d1eeba637b9"
      },
      "cell_type": "code",
      "source": [
        "print(\"NANs for individual columns\")\n",
        "print(\"---------------------------\")\n",
        "from collections import Counter\n",
        "x = {colname : test[colname].isnull().sum() for colname in test.columns}\n",
        "Counter(x).most_common()"
      ],
      "execution_count": 18,
      "outputs": [
        {
          "output_type": "stream",
          "text": [
            "NANs for individual columns\n",
            "---------------------------\n"
          ],
          "name": "stdout"
        },
        {
          "output_type": "execute_result",
          "data": {
            "text/plain": [
              "[('Open', 11),\n",
              " ('Id', 0),\n",
              " ('Store', 0),\n",
              " ('DayOfWeek', 0),\n",
              " ('Date', 0),\n",
              " ('Promo', 0),\n",
              " ('StateHoliday', 0),\n",
              " ('SchoolHoliday', 0),\n",
              " ('Year', 0),\n",
              " ('Month', 0)]"
            ]
          },
          "metadata": {
            "tags": []
          },
          "execution_count": 18
        }
      ]
    },
    {
      "metadata": {
        "id": "EpkbIS1oJ739",
        "colab_type": "text"
      },
      "cell_type": "markdown",
      "source": [
        "There are 11 missing values in Open column. Let’s have a detailed look at those:"
      ]
    },
    {
      "metadata": {
        "id": "YbzCn6zjJ4T9",
        "colab_type": "code",
        "colab": {
          "base_uri": "https://localhost:8080/",
          "height": 390
        },
        "outputId": "d8f0bebf-83dc-40ff-c905-a6622e7549f3"
      },
      "cell_type": "code",
      "source": [
        "test.loc[np.isnan(test['Open'])]"
      ],
      "execution_count": 20,
      "outputs": [
        {
          "output_type": "execute_result",
          "data": {
            "text/html": [
              "<div>\n",
              "<style scoped>\n",
              "    .dataframe tbody tr th:only-of-type {\n",
              "        vertical-align: middle;\n",
              "    }\n",
              "\n",
              "    .dataframe tbody tr th {\n",
              "        vertical-align: top;\n",
              "    }\n",
              "\n",
              "    .dataframe thead th {\n",
              "        text-align: right;\n",
              "    }\n",
              "</style>\n",
              "<table border=\"1\" class=\"dataframe\">\n",
              "  <thead>\n",
              "    <tr style=\"text-align: right;\">\n",
              "      <th></th>\n",
              "      <th>Id</th>\n",
              "      <th>Store</th>\n",
              "      <th>DayOfWeek</th>\n",
              "      <th>Date</th>\n",
              "      <th>Open</th>\n",
              "      <th>Promo</th>\n",
              "      <th>StateHoliday</th>\n",
              "      <th>SchoolHoliday</th>\n",
              "      <th>Year</th>\n",
              "      <th>Month</th>\n",
              "    </tr>\n",
              "  </thead>\n",
              "  <tbody>\n",
              "    <tr>\n",
              "      <th>479</th>\n",
              "      <td>480</td>\n",
              "      <td>622</td>\n",
              "      <td>4</td>\n",
              "      <td>2015-09-17</td>\n",
              "      <td>NaN</td>\n",
              "      <td>1</td>\n",
              "      <td>0</td>\n",
              "      <td>0</td>\n",
              "      <td>2015</td>\n",
              "      <td>9</td>\n",
              "    </tr>\n",
              "    <tr>\n",
              "      <th>1335</th>\n",
              "      <td>1336</td>\n",
              "      <td>622</td>\n",
              "      <td>3</td>\n",
              "      <td>2015-09-16</td>\n",
              "      <td>NaN</td>\n",
              "      <td>1</td>\n",
              "      <td>0</td>\n",
              "      <td>0</td>\n",
              "      <td>2015</td>\n",
              "      <td>9</td>\n",
              "    </tr>\n",
              "    <tr>\n",
              "      <th>2191</th>\n",
              "      <td>2192</td>\n",
              "      <td>622</td>\n",
              "      <td>2</td>\n",
              "      <td>2015-09-15</td>\n",
              "      <td>NaN</td>\n",
              "      <td>1</td>\n",
              "      <td>0</td>\n",
              "      <td>0</td>\n",
              "      <td>2015</td>\n",
              "      <td>9</td>\n",
              "    </tr>\n",
              "    <tr>\n",
              "      <th>3047</th>\n",
              "      <td>3048</td>\n",
              "      <td>622</td>\n",
              "      <td>1</td>\n",
              "      <td>2015-09-14</td>\n",
              "      <td>NaN</td>\n",
              "      <td>1</td>\n",
              "      <td>0</td>\n",
              "      <td>0</td>\n",
              "      <td>2015</td>\n",
              "      <td>9</td>\n",
              "    </tr>\n",
              "    <tr>\n",
              "      <th>4759</th>\n",
              "      <td>4760</td>\n",
              "      <td>622</td>\n",
              "      <td>6</td>\n",
              "      <td>2015-09-12</td>\n",
              "      <td>NaN</td>\n",
              "      <td>0</td>\n",
              "      <td>0</td>\n",
              "      <td>0</td>\n",
              "      <td>2015</td>\n",
              "      <td>9</td>\n",
              "    </tr>\n",
              "    <tr>\n",
              "      <th>5615</th>\n",
              "      <td>5616</td>\n",
              "      <td>622</td>\n",
              "      <td>5</td>\n",
              "      <td>2015-09-11</td>\n",
              "      <td>NaN</td>\n",
              "      <td>0</td>\n",
              "      <td>0</td>\n",
              "      <td>0</td>\n",
              "      <td>2015</td>\n",
              "      <td>9</td>\n",
              "    </tr>\n",
              "    <tr>\n",
              "      <th>6471</th>\n",
              "      <td>6472</td>\n",
              "      <td>622</td>\n",
              "      <td>4</td>\n",
              "      <td>2015-09-10</td>\n",
              "      <td>NaN</td>\n",
              "      <td>0</td>\n",
              "      <td>0</td>\n",
              "      <td>0</td>\n",
              "      <td>2015</td>\n",
              "      <td>9</td>\n",
              "    </tr>\n",
              "    <tr>\n",
              "      <th>7327</th>\n",
              "      <td>7328</td>\n",
              "      <td>622</td>\n",
              "      <td>3</td>\n",
              "      <td>2015-09-09</td>\n",
              "      <td>NaN</td>\n",
              "      <td>0</td>\n",
              "      <td>0</td>\n",
              "      <td>0</td>\n",
              "      <td>2015</td>\n",
              "      <td>9</td>\n",
              "    </tr>\n",
              "    <tr>\n",
              "      <th>8183</th>\n",
              "      <td>8184</td>\n",
              "      <td>622</td>\n",
              "      <td>2</td>\n",
              "      <td>2015-09-08</td>\n",
              "      <td>NaN</td>\n",
              "      <td>0</td>\n",
              "      <td>0</td>\n",
              "      <td>0</td>\n",
              "      <td>2015</td>\n",
              "      <td>9</td>\n",
              "    </tr>\n",
              "    <tr>\n",
              "      <th>9039</th>\n",
              "      <td>9040</td>\n",
              "      <td>622</td>\n",
              "      <td>1</td>\n",
              "      <td>2015-09-07</td>\n",
              "      <td>NaN</td>\n",
              "      <td>0</td>\n",
              "      <td>0</td>\n",
              "      <td>0</td>\n",
              "      <td>2015</td>\n",
              "      <td>9</td>\n",
              "    </tr>\n",
              "    <tr>\n",
              "      <th>10751</th>\n",
              "      <td>10752</td>\n",
              "      <td>622</td>\n",
              "      <td>6</td>\n",
              "      <td>2015-09-05</td>\n",
              "      <td>NaN</td>\n",
              "      <td>0</td>\n",
              "      <td>0</td>\n",
              "      <td>0</td>\n",
              "      <td>2015</td>\n",
              "      <td>9</td>\n",
              "    </tr>\n",
              "  </tbody>\n",
              "</table>\n",
              "</div>"
            ],
            "text/plain": [
              "          Id  Store  DayOfWeek       Date  Open  Promo StateHoliday  \\\n",
              "479      480    622          4 2015-09-17   NaN      1            0   \n",
              "1335    1336    622          3 2015-09-16   NaN      1            0   \n",
              "2191    2192    622          2 2015-09-15   NaN      1            0   \n",
              "3047    3048    622          1 2015-09-14   NaN      1            0   \n",
              "4759    4760    622          6 2015-09-12   NaN      0            0   \n",
              "5615    5616    622          5 2015-09-11   NaN      0            0   \n",
              "6471    6472    622          4 2015-09-10   NaN      0            0   \n",
              "7327    7328    622          3 2015-09-09   NaN      0            0   \n",
              "8183    8184    622          2 2015-09-08   NaN      0            0   \n",
              "9039    9040    622          1 2015-09-07   NaN      0            0   \n",
              "10751  10752    622          6 2015-09-05   NaN      0            0   \n",
              "\n",
              "      SchoolHoliday  Year  Month  \n",
              "479               0  2015      9  \n",
              "1335              0  2015      9  \n",
              "2191              0  2015      9  \n",
              "3047              0  2015      9  \n",
              "4759              0  2015      9  \n",
              "5615              0  2015      9  \n",
              "6471              0  2015      9  \n",
              "7327              0  2015      9  \n",
              "8183              0  2015      9  \n",
              "9039              0  2015      9  \n",
              "10751             0  2015      9  "
            ]
          },
          "metadata": {
            "tags": []
          },
          "execution_count": 20
        }
      ]
    },
    {
      "metadata": {
        "id": "uyPbc6ngKQgc",
        "colab_type": "text"
      },
      "cell_type": "markdown",
      "source": [
        "Do we have any information about store 622? Check train dataset"
      ]
    },
    {
      "metadata": {
        "id": "x6prg80pKS1t",
        "colab_type": "code",
        "colab": {
          "base_uri": "https://localhost:8080/",
          "height": 204
        },
        "outputId": "aaf3578e-eaa4-401d-a4a6-bde8f2bf198f"
      },
      "cell_type": "code",
      "source": [
        "train.loc[np.where(train['Store']==622)].head()"
      ],
      "execution_count": 23,
      "outputs": [
        {
          "output_type": "execute_result",
          "data": {
            "text/html": [
              "<div>\n",
              "<style scoped>\n",
              "    .dataframe tbody tr th:only-of-type {\n",
              "        vertical-align: middle;\n",
              "    }\n",
              "\n",
              "    .dataframe tbody tr th {\n",
              "        vertical-align: top;\n",
              "    }\n",
              "\n",
              "    .dataframe thead th {\n",
              "        text-align: right;\n",
              "    }\n",
              "</style>\n",
              "<table border=\"1\" class=\"dataframe\">\n",
              "  <thead>\n",
              "    <tr style=\"text-align: right;\">\n",
              "      <th></th>\n",
              "      <th>Store</th>\n",
              "      <th>DayOfWeek</th>\n",
              "      <th>Date</th>\n",
              "      <th>Sales</th>\n",
              "      <th>Customers</th>\n",
              "      <th>Open</th>\n",
              "      <th>Promo</th>\n",
              "      <th>StateHoliday</th>\n",
              "      <th>SchoolHoliday</th>\n",
              "      <th>Year</th>\n",
              "      <th>Month</th>\n",
              "    </tr>\n",
              "  </thead>\n",
              "  <tbody>\n",
              "    <tr>\n",
              "      <th>621</th>\n",
              "      <td>622</td>\n",
              "      <td>5</td>\n",
              "      <td>2015-07-31</td>\n",
              "      <td>6306</td>\n",
              "      <td>540</td>\n",
              "      <td>1</td>\n",
              "      <td>1</td>\n",
              "      <td>0</td>\n",
              "      <td>0</td>\n",
              "      <td>2015</td>\n",
              "      <td>7</td>\n",
              "    </tr>\n",
              "    <tr>\n",
              "      <th>1736</th>\n",
              "      <td>622</td>\n",
              "      <td>4</td>\n",
              "      <td>2015-07-30</td>\n",
              "      <td>5412</td>\n",
              "      <td>406</td>\n",
              "      <td>1</td>\n",
              "      <td>1</td>\n",
              "      <td>0</td>\n",
              "      <td>0</td>\n",
              "      <td>2015</td>\n",
              "      <td>7</td>\n",
              "    </tr>\n",
              "    <tr>\n",
              "      <th>2851</th>\n",
              "      <td>622</td>\n",
              "      <td>3</td>\n",
              "      <td>2015-07-29</td>\n",
              "      <td>5326</td>\n",
              "      <td>468</td>\n",
              "      <td>1</td>\n",
              "      <td>1</td>\n",
              "      <td>0</td>\n",
              "      <td>0</td>\n",
              "      <td>2015</td>\n",
              "      <td>7</td>\n",
              "    </tr>\n",
              "    <tr>\n",
              "      <th>3966</th>\n",
              "      <td>622</td>\n",
              "      <td>2</td>\n",
              "      <td>2015-07-28</td>\n",
              "      <td>4966</td>\n",
              "      <td>417</td>\n",
              "      <td>1</td>\n",
              "      <td>1</td>\n",
              "      <td>0</td>\n",
              "      <td>0</td>\n",
              "      <td>2015</td>\n",
              "      <td>7</td>\n",
              "    </tr>\n",
              "    <tr>\n",
              "      <th>5081</th>\n",
              "      <td>622</td>\n",
              "      <td>1</td>\n",
              "      <td>2015-07-27</td>\n",
              "      <td>5413</td>\n",
              "      <td>517</td>\n",
              "      <td>1</td>\n",
              "      <td>1</td>\n",
              "      <td>0</td>\n",
              "      <td>0</td>\n",
              "      <td>2015</td>\n",
              "      <td>7</td>\n",
              "    </tr>\n",
              "  </tbody>\n",
              "</table>\n",
              "</div>"
            ],
            "text/plain": [
              "      Store  DayOfWeek       Date  Sales  Customers  Open  Promo  \\\n",
              "621     622          5 2015-07-31   6306        540     1      1   \n",
              "1736    622          4 2015-07-30   5412        406     1      1   \n",
              "2851    622          3 2015-07-29   5326        468     1      1   \n",
              "3966    622          2 2015-07-28   4966        417     1      1   \n",
              "5081    622          1 2015-07-27   5413        517     1      1   \n",
              "\n",
              "      StateHoliday  SchoolHoliday  Year  Month  \n",
              "621              0              0  2015      7  \n",
              "1736             0              0  2015      7  \n",
              "2851             0              0  2015      7  \n",
              "3966             0              0  2015      7  \n",
              "5081             0              0  2015      7  "
            ]
          },
          "metadata": {
            "tags": []
          },
          "execution_count": 23
        }
      ]
    },
    {
      "metadata": {
        "id": "b0hpdrzYKxsF",
        "colab_type": "text"
      },
      "cell_type": "markdown",
      "source": [
        "As we have information about store 622 in train dataset as open (1) lets replace the NaN from test dataset to open (1)"
      ]
    },
    {
      "metadata": {
        "id": "kRHm_vr7KbWN",
        "colab_type": "code",
        "colab": {}
      },
      "cell_type": "code",
      "source": [
        "test.loc[np.isnan(test['Open']),'Open']=1"
      ],
      "execution_count": 0,
      "outputs": []
    },
    {
      "metadata": {
        "id": "sdmbq1lYLXeT",
        "colab_type": "text"
      },
      "cell_type": "markdown",
      "source": [
        "Checking for missing values in test dataset"
      ]
    },
    {
      "metadata": {
        "id": "CH76QgP_LLQU",
        "colab_type": "code",
        "colab": {
          "base_uri": "https://localhost:8080/",
          "height": 221
        },
        "outputId": "a78e3822-9e71-4f60-f6eb-c7c90c0502f4"
      },
      "cell_type": "code",
      "source": [
        "print(\"NANs for individual columns\")\n",
        "print(\"---------------------------\")\n",
        "from collections import Counter\n",
        "x = {colname : test[colname].isnull().sum() for colname in test.columns}\n",
        "Counter(x).most_common()"
      ],
      "execution_count": 26,
      "outputs": [
        {
          "output_type": "stream",
          "text": [
            "NANs for individual columns\n",
            "---------------------------\n"
          ],
          "name": "stdout"
        },
        {
          "output_type": "execute_result",
          "data": {
            "text/plain": [
              "[('Id', 0),\n",
              " ('Store', 0),\n",
              " ('DayOfWeek', 0),\n",
              " ('Date', 0),\n",
              " ('Open', 0),\n",
              " ('Promo', 0),\n",
              " ('StateHoliday', 0),\n",
              " ('SchoolHoliday', 0),\n",
              " ('Year', 0),\n",
              " ('Month', 0)]"
            ]
          },
          "metadata": {
            "tags": []
          },
          "execution_count": 26
        }
      ]
    },
    {
      "metadata": {
        "id": "3hzuJy5xLb3l",
        "colab_type": "code",
        "colab": {}
      },
      "cell_type": "code",
      "source": [
        ""
      ],
      "execution_count": 0,
      "outputs": []
    }
  ]
}