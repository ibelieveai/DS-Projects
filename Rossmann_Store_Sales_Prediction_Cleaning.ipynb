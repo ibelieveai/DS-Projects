{
  "nbformat": 4,
  "nbformat_minor": 0,
  "metadata": {
    "colab": {
      "name": "Rossmann Store Sales Prediction - Cleaning.ipynb",
      "version": "0.3.2",
      "provenance": [],
      "collapsed_sections": [],
      "include_colab_link": true
    },
    "kernelspec": {
      "name": "python3",
      "display_name": "Python 3"
    }
  },
  "cells": [
    {
      "cell_type": "markdown",
      "metadata": {
        "id": "view-in-github",
        "colab_type": "text"
      },
      "source": [
        "<a href=\"https://colab.research.google.com/github/ibelieveai/DS-Projects/blob/master/Rossmann_Store_Sales_Prediction_Cleaning.ipynb\" target=\"_parent\"><img src=\"https://colab.research.google.com/assets/colab-badge.svg\" alt=\"Open In Colab\"/></a>"
      ]
    },
    {
      "metadata": {
        "id": "D9DNx54BCvcW",
        "colab_type": "text"
      },
      "cell_type": "markdown",
      "source": [
        "# **Rossmann Store Sales Prediction**\n",
        "\n",
        "Rossmann operates over 3,000 drug stores in 7 European countries. Currently, Here we are predicting 6 weeks of daily sales for 1,115 stores located across Germany. Reliable sales forecasts enable store managers to create effective staff schedules that increase productivity and motivation. \n",
        "\n",
        "![alt text](https://storage.googleapis.com/kaggle-competitions/kaggle/4594/media/rossmann_banner2.png)"
      ]
    },
    {
      "metadata": {
        "id": "EYkaKyIeCb8f",
        "colab_type": "text"
      },
      "cell_type": "markdown",
      "source": [
        "# **Data Exploration and Engineering**"
      ]
    },
    {
      "metadata": {
        "id": "NXPVljWADnDe",
        "colab_type": "text"
      },
      "cell_type": "markdown",
      "source": [
        "First, we will mount my google drive and load data into the googlecolab workspace."
      ]
    },
    {
      "metadata": {
        "id": "lQwXcX718sck",
        "colab_type": "code",
        "outputId": "1aab16a9-77ee-4e53-ef83-6b0a69fcabad",
        "colab": {
          "base_uri": "https://localhost:8080/",
          "height": 125
        }
      },
      "cell_type": "code",
      "source": [
        "from google.colab import drive\n",
        "drive.mount('/content/drive')"
      ],
      "execution_count": 5,
      "outputs": [
        {
          "output_type": "stream",
          "text": [
            "Go to this URL in a browser: https://accounts.google.com/o/oauth2/auth?client_id=947318989803-6bn6qk8qdgf4n4g3pfee6491hc0brc4i.apps.googleusercontent.com&redirect_uri=urn%3Aietf%3Awg%3Aoauth%3A2.0%3Aoob&scope=email%20https%3A%2F%2Fwww.googleapis.com%2Fauth%2Fdocs.test%20https%3A%2F%2Fwww.googleapis.com%2Fauth%2Fdrive%20https%3A%2F%2Fwww.googleapis.com%2Fauth%2Fdrive.photos.readonly%20https%3A%2F%2Fwww.googleapis.com%2Fauth%2Fpeopleapi.readonly&response_type=code\n",
            "\n",
            "Enter your authorization code:\n",
            "··········\n",
            "Mounted at /content/drive\n"
          ],
          "name": "stdout"
        }
      ]
    },
    {
      "metadata": {
        "id": "tZY20jPkD77-",
        "colab_type": "code",
        "colab": {}
      },
      "cell_type": "code",
      "source": [
        "# import necessary libraries.\n",
        "\n",
        "import pandas as pd\n",
        "import numpy as np\n",
        "import matplotlib.pyplot as plt\n",
        "import scipy.stats as stats\n",
        "import seaborn as sns"
      ],
      "execution_count": 0,
      "outputs": []
    },
    {
      "metadata": {
        "id": "yGis6GN8rnb6",
        "colab_type": "code",
        "colab": {}
      },
      "cell_type": "code",
      "source": [
        "import warnings\n",
        "warnings.filterwarnings(\"ignore\")"
      ],
      "execution_count": 0,
      "outputs": []
    },
    {
      "metadata": {
        "id": "I7wq-s1mA1iQ",
        "colab_type": "code",
        "colab": {}
      },
      "cell_type": "code",
      "source": [
        "data_path = \"/content/drive/My Drive/Data Science/Rossman-salesforecast/data/\"\n",
        "\n",
        "store = pd.read_csv(data_path+\"/store.csv\",sep=',',dtype= {'StoreType':str,\n",
        "                                                          'Assortment':str,\n",
        "                                                          'PromoInterval':str})\n",
        "\n",
        "train = pd.read_csv(data_path+\"/train.csv\",sep= ',', parse_dates=['Date'], dtype= {'StateHoliday': str, 'SchoolHoliday':str} )\n",
        "test =  pd.read_csv(data_path+\"/test.csv\",sep= ',', parse_dates=['Date'], dtype= {'StateHoliday': str, 'SchoolHoliday':str} )"
      ],
      "execution_count": 0,
      "outputs": []
    },
    {
      "metadata": {
        "id": "K5JGF0CjJj7D",
        "colab_type": "text"
      },
      "cell_type": "markdown",
      "source": [
        "**Cleaning Train dataset**"
      ]
    },
    {
      "metadata": {
        "id": "TDcwvhehB9-D",
        "colab_type": "code",
        "colab": {}
      },
      "cell_type": "code",
      "source": [
        "train['Year'] = pd.DatetimeIndex(train['Date']).year\n",
        "train['Month'] = pd.DatetimeIndex(train['Date']).month\n",
        "\n"
      ],
      "execution_count": 0,
      "outputs": []
    },
    {
      "metadata": {
        "id": "z3i-woiSHtbe",
        "colab_type": "code",
        "colab": {}
      },
      "cell_type": "code",
      "source": [
        "def factor_to_integer(df, colname, start_value=0):\n",
        "    while df[colname].dtype == object:\n",
        "        myval = start_value # factor starts at \"start_value\".\n",
        "        for sval in df[colname].unique():\n",
        "            df.loc[df[colname] == sval, colname] = myval\n",
        "            myval += 1\n",
        "        df[colname] = df[colname].astype(int, copy=False)\n",
        "    print('levels :', df[colname].unique(), '; data type :', df[colname].dtype)"
      ],
      "execution_count": 0,
      "outputs": []
    },
    {
      "metadata": {
        "id": "LvYz4F4wIZJ4",
        "colab_type": "code",
        "outputId": "0ccdff34-3276-4374-b759-0820509c4a61",
        "colab": {
          "base_uri": "https://localhost:8080/",
          "height": 52
        }
      },
      "cell_type": "code",
      "source": [
        "factor_to_integer(train, 'SchoolHoliday')\n",
        "factor_to_integer(train, 'StateHoliday')"
      ],
      "execution_count": 11,
      "outputs": [
        {
          "output_type": "stream",
          "text": [
            "levels : [0 1] ; data type : int64\n",
            "levels : [0 1 2 3] ; data type : int64\n"
          ],
          "name": "stdout"
        }
      ]
    },
    {
      "metadata": {
        "id": "2lbIzCJoIz4F",
        "colab_type": "text"
      },
      "cell_type": "markdown",
      "source": [
        "Check for number of NaNs for selected columns."
      ]
    },
    {
      "metadata": {
        "id": "ZIJgFY-lI2G5",
        "colab_type": "code",
        "outputId": "a66b1d7a-5f71-4492-d99a-974d855067ab",
        "colab": {
          "base_uri": "https://localhost:8080/",
          "height": 246
        }
      },
      "cell_type": "code",
      "source": [
        "print(\"NANs for individual columns\")\n",
        "print(\"---------------------------\")\n",
        "from collections import Counter\n",
        "x = {colname : train[colname].isnull().sum() for colname in train.columns}\n",
        "Counter(x).most_common()"
      ],
      "execution_count": 12,
      "outputs": [
        {
          "output_type": "stream",
          "text": [
            "NANs for individual columns\n",
            "---------------------------\n"
          ],
          "name": "stdout"
        },
        {
          "output_type": "execute_result",
          "data": {
            "text/plain": [
              "[('Store', 0),\n",
              " ('DayOfWeek', 0),\n",
              " ('Date', 0),\n",
              " ('Sales', 0),\n",
              " ('Customers', 0),\n",
              " ('Open', 0),\n",
              " ('Promo', 0),\n",
              " ('StateHoliday', 0),\n",
              " ('SchoolHoliday', 0),\n",
              " ('Year', 0),\n",
              " ('Month', 0)]"
            ]
          },
          "metadata": {
            "tags": []
          },
          "execution_count": 12
        }
      ]
    },
    {
      "metadata": {
        "id": "Ptubl4OTJrx8",
        "colab_type": "text"
      },
      "cell_type": "markdown",
      "source": [
        "**Cleaning Test dataset**"
      ]
    },
    {
      "metadata": {
        "id": "slCCKRLRJrAb",
        "colab_type": "code",
        "colab": {}
      },
      "cell_type": "code",
      "source": [
        "test['Year'] = pd.DatetimeIndex(test['Date']).year\n",
        "test['Month'] = pd.DatetimeIndex(test['Date']).month"
      ],
      "execution_count": 0,
      "outputs": []
    },
    {
      "metadata": {
        "id": "kYLh33m9J0i_",
        "colab_type": "code",
        "outputId": "8650ac5b-e9c3-432a-ab82-e6e9bcb2335e",
        "colab": {
          "base_uri": "https://localhost:8080/",
          "height": 228
        }
      },
      "cell_type": "code",
      "source": [
        "print(\"NANs for individual columns\")\n",
        "print(\"---------------------------\")\n",
        "from collections import Counter\n",
        "x = {colname : test[colname].isnull().sum() for colname in test.columns}\n",
        "Counter(x).most_common()"
      ],
      "execution_count": 14,
      "outputs": [
        {
          "output_type": "stream",
          "text": [
            "NANs for individual columns\n",
            "---------------------------\n"
          ],
          "name": "stdout"
        },
        {
          "output_type": "execute_result",
          "data": {
            "text/plain": [
              "[('Open', 11),\n",
              " ('Id', 0),\n",
              " ('Store', 0),\n",
              " ('DayOfWeek', 0),\n",
              " ('Date', 0),\n",
              " ('Promo', 0),\n",
              " ('StateHoliday', 0),\n",
              " ('SchoolHoliday', 0),\n",
              " ('Year', 0),\n",
              " ('Month', 0)]"
            ]
          },
          "metadata": {
            "tags": []
          },
          "execution_count": 14
        }
      ]
    },
    {
      "metadata": {
        "id": "EpkbIS1oJ739",
        "colab_type": "text"
      },
      "cell_type": "markdown",
      "source": [
        "There are 11 missing values in Open column. Let’s have a detailed look at those:"
      ]
    },
    {
      "metadata": {
        "id": "YbzCn6zjJ4T9",
        "colab_type": "code",
        "outputId": "9d872187-4c90-4307-ed32-444405596b30",
        "colab": {
          "base_uri": "https://localhost:8080/",
          "height": 387
        }
      },
      "cell_type": "code",
      "source": [
        "test.loc[np.isnan(test['Open'])]"
      ],
      "execution_count": 15,
      "outputs": [
        {
          "output_type": "execute_result",
          "data": {
            "text/html": [
              "<div>\n",
              "<style scoped>\n",
              "    .dataframe tbody tr th:only-of-type {\n",
              "        vertical-align: middle;\n",
              "    }\n",
              "\n",
              "    .dataframe tbody tr th {\n",
              "        vertical-align: top;\n",
              "    }\n",
              "\n",
              "    .dataframe thead th {\n",
              "        text-align: right;\n",
              "    }\n",
              "</style>\n",
              "<table border=\"1\" class=\"dataframe\">\n",
              "  <thead>\n",
              "    <tr style=\"text-align: right;\">\n",
              "      <th></th>\n",
              "      <th>Id</th>\n",
              "      <th>Store</th>\n",
              "      <th>DayOfWeek</th>\n",
              "      <th>Date</th>\n",
              "      <th>Open</th>\n",
              "      <th>Promo</th>\n",
              "      <th>StateHoliday</th>\n",
              "      <th>SchoolHoliday</th>\n",
              "      <th>Year</th>\n",
              "      <th>Month</th>\n",
              "    </tr>\n",
              "  </thead>\n",
              "  <tbody>\n",
              "    <tr>\n",
              "      <th>479</th>\n",
              "      <td>480</td>\n",
              "      <td>622</td>\n",
              "      <td>4</td>\n",
              "      <td>2015-09-17</td>\n",
              "      <td>NaN</td>\n",
              "      <td>1</td>\n",
              "      <td>0</td>\n",
              "      <td>0</td>\n",
              "      <td>2015</td>\n",
              "      <td>9</td>\n",
              "    </tr>\n",
              "    <tr>\n",
              "      <th>1335</th>\n",
              "      <td>1336</td>\n",
              "      <td>622</td>\n",
              "      <td>3</td>\n",
              "      <td>2015-09-16</td>\n",
              "      <td>NaN</td>\n",
              "      <td>1</td>\n",
              "      <td>0</td>\n",
              "      <td>0</td>\n",
              "      <td>2015</td>\n",
              "      <td>9</td>\n",
              "    </tr>\n",
              "    <tr>\n",
              "      <th>2191</th>\n",
              "      <td>2192</td>\n",
              "      <td>622</td>\n",
              "      <td>2</td>\n",
              "      <td>2015-09-15</td>\n",
              "      <td>NaN</td>\n",
              "      <td>1</td>\n",
              "      <td>0</td>\n",
              "      <td>0</td>\n",
              "      <td>2015</td>\n",
              "      <td>9</td>\n",
              "    </tr>\n",
              "    <tr>\n",
              "      <th>3047</th>\n",
              "      <td>3048</td>\n",
              "      <td>622</td>\n",
              "      <td>1</td>\n",
              "      <td>2015-09-14</td>\n",
              "      <td>NaN</td>\n",
              "      <td>1</td>\n",
              "      <td>0</td>\n",
              "      <td>0</td>\n",
              "      <td>2015</td>\n",
              "      <td>9</td>\n",
              "    </tr>\n",
              "    <tr>\n",
              "      <th>4759</th>\n",
              "      <td>4760</td>\n",
              "      <td>622</td>\n",
              "      <td>6</td>\n",
              "      <td>2015-09-12</td>\n",
              "      <td>NaN</td>\n",
              "      <td>0</td>\n",
              "      <td>0</td>\n",
              "      <td>0</td>\n",
              "      <td>2015</td>\n",
              "      <td>9</td>\n",
              "    </tr>\n",
              "    <tr>\n",
              "      <th>5615</th>\n",
              "      <td>5616</td>\n",
              "      <td>622</td>\n",
              "      <td>5</td>\n",
              "      <td>2015-09-11</td>\n",
              "      <td>NaN</td>\n",
              "      <td>0</td>\n",
              "      <td>0</td>\n",
              "      <td>0</td>\n",
              "      <td>2015</td>\n",
              "      <td>9</td>\n",
              "    </tr>\n",
              "    <tr>\n",
              "      <th>6471</th>\n",
              "      <td>6472</td>\n",
              "      <td>622</td>\n",
              "      <td>4</td>\n",
              "      <td>2015-09-10</td>\n",
              "      <td>NaN</td>\n",
              "      <td>0</td>\n",
              "      <td>0</td>\n",
              "      <td>0</td>\n",
              "      <td>2015</td>\n",
              "      <td>9</td>\n",
              "    </tr>\n",
              "    <tr>\n",
              "      <th>7327</th>\n",
              "      <td>7328</td>\n",
              "      <td>622</td>\n",
              "      <td>3</td>\n",
              "      <td>2015-09-09</td>\n",
              "      <td>NaN</td>\n",
              "      <td>0</td>\n",
              "      <td>0</td>\n",
              "      <td>0</td>\n",
              "      <td>2015</td>\n",
              "      <td>9</td>\n",
              "    </tr>\n",
              "    <tr>\n",
              "      <th>8183</th>\n",
              "      <td>8184</td>\n",
              "      <td>622</td>\n",
              "      <td>2</td>\n",
              "      <td>2015-09-08</td>\n",
              "      <td>NaN</td>\n",
              "      <td>0</td>\n",
              "      <td>0</td>\n",
              "      <td>0</td>\n",
              "      <td>2015</td>\n",
              "      <td>9</td>\n",
              "    </tr>\n",
              "    <tr>\n",
              "      <th>9039</th>\n",
              "      <td>9040</td>\n",
              "      <td>622</td>\n",
              "      <td>1</td>\n",
              "      <td>2015-09-07</td>\n",
              "      <td>NaN</td>\n",
              "      <td>0</td>\n",
              "      <td>0</td>\n",
              "      <td>0</td>\n",
              "      <td>2015</td>\n",
              "      <td>9</td>\n",
              "    </tr>\n",
              "    <tr>\n",
              "      <th>10751</th>\n",
              "      <td>10752</td>\n",
              "      <td>622</td>\n",
              "      <td>6</td>\n",
              "      <td>2015-09-05</td>\n",
              "      <td>NaN</td>\n",
              "      <td>0</td>\n",
              "      <td>0</td>\n",
              "      <td>0</td>\n",
              "      <td>2015</td>\n",
              "      <td>9</td>\n",
              "    </tr>\n",
              "  </tbody>\n",
              "</table>\n",
              "</div>"
            ],
            "text/plain": [
              "          Id  Store  DayOfWeek       Date  Open  Promo StateHoliday  \\\n",
              "479      480    622          4 2015-09-17   NaN      1            0   \n",
              "1335    1336    622          3 2015-09-16   NaN      1            0   \n",
              "2191    2192    622          2 2015-09-15   NaN      1            0   \n",
              "3047    3048    622          1 2015-09-14   NaN      1            0   \n",
              "4759    4760    622          6 2015-09-12   NaN      0            0   \n",
              "5615    5616    622          5 2015-09-11   NaN      0            0   \n",
              "6471    6472    622          4 2015-09-10   NaN      0            0   \n",
              "7327    7328    622          3 2015-09-09   NaN      0            0   \n",
              "8183    8184    622          2 2015-09-08   NaN      0            0   \n",
              "9039    9040    622          1 2015-09-07   NaN      0            0   \n",
              "10751  10752    622          6 2015-09-05   NaN      0            0   \n",
              "\n",
              "      SchoolHoliday  Year  Month  \n",
              "479               0  2015      9  \n",
              "1335              0  2015      9  \n",
              "2191              0  2015      9  \n",
              "3047              0  2015      9  \n",
              "4759              0  2015      9  \n",
              "5615              0  2015      9  \n",
              "6471              0  2015      9  \n",
              "7327              0  2015      9  \n",
              "8183              0  2015      9  \n",
              "9039              0  2015      9  \n",
              "10751             0  2015      9  "
            ]
          },
          "metadata": {
            "tags": []
          },
          "execution_count": 15
        }
      ]
    },
    {
      "metadata": {
        "id": "uyPbc6ngKQgc",
        "colab_type": "text"
      },
      "cell_type": "markdown",
      "source": [
        "Do we have any information about store 622? Check train dataset"
      ]
    },
    {
      "metadata": {
        "id": "x6prg80pKS1t",
        "colab_type": "code",
        "outputId": "1e85d3e3-0543-4b49-e959-96de021d7a88",
        "colab": {
          "base_uri": "https://localhost:8080/",
          "height": 203
        }
      },
      "cell_type": "code",
      "source": [
        "train.loc[np.where(train['Store']==622)].head()"
      ],
      "execution_count": 16,
      "outputs": [
        {
          "output_type": "execute_result",
          "data": {
            "text/html": [
              "<div>\n",
              "<style scoped>\n",
              "    .dataframe tbody tr th:only-of-type {\n",
              "        vertical-align: middle;\n",
              "    }\n",
              "\n",
              "    .dataframe tbody tr th {\n",
              "        vertical-align: top;\n",
              "    }\n",
              "\n",
              "    .dataframe thead th {\n",
              "        text-align: right;\n",
              "    }\n",
              "</style>\n",
              "<table border=\"1\" class=\"dataframe\">\n",
              "  <thead>\n",
              "    <tr style=\"text-align: right;\">\n",
              "      <th></th>\n",
              "      <th>Store</th>\n",
              "      <th>DayOfWeek</th>\n",
              "      <th>Date</th>\n",
              "      <th>Sales</th>\n",
              "      <th>Customers</th>\n",
              "      <th>Open</th>\n",
              "      <th>Promo</th>\n",
              "      <th>StateHoliday</th>\n",
              "      <th>SchoolHoliday</th>\n",
              "      <th>Year</th>\n",
              "      <th>Month</th>\n",
              "    </tr>\n",
              "  </thead>\n",
              "  <tbody>\n",
              "    <tr>\n",
              "      <th>621</th>\n",
              "      <td>622</td>\n",
              "      <td>5</td>\n",
              "      <td>2015-07-31</td>\n",
              "      <td>6306</td>\n",
              "      <td>540</td>\n",
              "      <td>1</td>\n",
              "      <td>1</td>\n",
              "      <td>0</td>\n",
              "      <td>0</td>\n",
              "      <td>2015</td>\n",
              "      <td>7</td>\n",
              "    </tr>\n",
              "    <tr>\n",
              "      <th>1736</th>\n",
              "      <td>622</td>\n",
              "      <td>4</td>\n",
              "      <td>2015-07-30</td>\n",
              "      <td>5412</td>\n",
              "      <td>406</td>\n",
              "      <td>1</td>\n",
              "      <td>1</td>\n",
              "      <td>0</td>\n",
              "      <td>0</td>\n",
              "      <td>2015</td>\n",
              "      <td>7</td>\n",
              "    </tr>\n",
              "    <tr>\n",
              "      <th>2851</th>\n",
              "      <td>622</td>\n",
              "      <td>3</td>\n",
              "      <td>2015-07-29</td>\n",
              "      <td>5326</td>\n",
              "      <td>468</td>\n",
              "      <td>1</td>\n",
              "      <td>1</td>\n",
              "      <td>0</td>\n",
              "      <td>0</td>\n",
              "      <td>2015</td>\n",
              "      <td>7</td>\n",
              "    </tr>\n",
              "    <tr>\n",
              "      <th>3966</th>\n",
              "      <td>622</td>\n",
              "      <td>2</td>\n",
              "      <td>2015-07-28</td>\n",
              "      <td>4966</td>\n",
              "      <td>417</td>\n",
              "      <td>1</td>\n",
              "      <td>1</td>\n",
              "      <td>0</td>\n",
              "      <td>0</td>\n",
              "      <td>2015</td>\n",
              "      <td>7</td>\n",
              "    </tr>\n",
              "    <tr>\n",
              "      <th>5081</th>\n",
              "      <td>622</td>\n",
              "      <td>1</td>\n",
              "      <td>2015-07-27</td>\n",
              "      <td>5413</td>\n",
              "      <td>517</td>\n",
              "      <td>1</td>\n",
              "      <td>1</td>\n",
              "      <td>0</td>\n",
              "      <td>0</td>\n",
              "      <td>2015</td>\n",
              "      <td>7</td>\n",
              "    </tr>\n",
              "  </tbody>\n",
              "</table>\n",
              "</div>"
            ],
            "text/plain": [
              "      Store  DayOfWeek       Date  Sales  Customers  Open  Promo  \\\n",
              "621     622          5 2015-07-31   6306        540     1      1   \n",
              "1736    622          4 2015-07-30   5412        406     1      1   \n",
              "2851    622          3 2015-07-29   5326        468     1      1   \n",
              "3966    622          2 2015-07-28   4966        417     1      1   \n",
              "5081    622          1 2015-07-27   5413        517     1      1   \n",
              "\n",
              "      StateHoliday  SchoolHoliday  Year  Month  \n",
              "621              0              0  2015      7  \n",
              "1736             0              0  2015      7  \n",
              "2851             0              0  2015      7  \n",
              "3966             0              0  2015      7  \n",
              "5081             0              0  2015      7  "
            ]
          },
          "metadata": {
            "tags": []
          },
          "execution_count": 16
        }
      ]
    },
    {
      "metadata": {
        "id": "b0hpdrzYKxsF",
        "colab_type": "text"
      },
      "cell_type": "markdown",
      "source": [
        "As we have information about store 622 in train dataset as open (1) lets replace the NaN from test dataset to open (1)"
      ]
    },
    {
      "metadata": {
        "id": "kRHm_vr7KbWN",
        "colab_type": "code",
        "colab": {}
      },
      "cell_type": "code",
      "source": [
        "test.loc[np.isnan(test['Open']),'Open']=1"
      ],
      "execution_count": 0,
      "outputs": []
    },
    {
      "metadata": {
        "id": "sdmbq1lYLXeT",
        "colab_type": "text"
      },
      "cell_type": "markdown",
      "source": [
        "Checking for missing values in test dataset"
      ]
    },
    {
      "metadata": {
        "id": "CH76QgP_LLQU",
        "colab_type": "code",
        "outputId": "0352be49-5847-4179-8f90-9c98aacf395a",
        "colab": {
          "base_uri": "https://localhost:8080/",
          "height": 228
        }
      },
      "cell_type": "code",
      "source": [
        "print(\"NANs for individual columns\")\n",
        "print(\"---------------------------\")\n",
        "from collections import Counter\n",
        "x = {colname : test[colname].isnull().sum() for colname in test.columns}\n",
        "Counter(x).most_common()"
      ],
      "execution_count": 18,
      "outputs": [
        {
          "output_type": "stream",
          "text": [
            "NANs for individual columns\n",
            "---------------------------\n"
          ],
          "name": "stdout"
        },
        {
          "output_type": "execute_result",
          "data": {
            "text/plain": [
              "[('Id', 0),\n",
              " ('Store', 0),\n",
              " ('DayOfWeek', 0),\n",
              " ('Date', 0),\n",
              " ('Open', 0),\n",
              " ('Promo', 0),\n",
              " ('StateHoliday', 0),\n",
              " ('SchoolHoliday', 0),\n",
              " ('Year', 0),\n",
              " ('Month', 0)]"
            ]
          },
          "metadata": {
            "tags": []
          },
          "execution_count": 18
        }
      ]
    },
    {
      "metadata": {
        "id": "3hzuJy5xLb3l",
        "colab_type": "code",
        "outputId": "403cb3cc-2457-4fbf-da10-d4789ab6b37d",
        "colab": {
          "base_uri": "https://localhost:8080/",
          "height": 52
        }
      },
      "cell_type": "code",
      "source": [
        "factor_to_integer(test, 'StateHoliday')\n",
        "factor_to_integer(test, 'SchoolHoliday')"
      ],
      "execution_count": 19,
      "outputs": [
        {
          "output_type": "stream",
          "text": [
            "levels : [0 1] ; data type : int64\n",
            "levels : [0 1] ; data type : int64\n"
          ],
          "name": "stdout"
        }
      ]
    },
    {
      "metadata": {
        "id": "HS0LEtSsL2Hi",
        "colab_type": "text"
      },
      "cell_type": "markdown",
      "source": [
        "because only StateHoliday 0 and 1 exist in test dataset, we should consider deleting the rows in train dataset that the StateHoliday value is different than 0 or 1.\n"
      ]
    },
    {
      "metadata": {
        "id": "GT31P0prL5Vv",
        "colab_type": "code",
        "outputId": "cb3801e2-bd86-413c-ef2e-67420d3d8eee",
        "colab": {
          "base_uri": "https://localhost:8080/",
          "height": 35
        }
      },
      "cell_type": "code",
      "source": [
        "train.loc[train['StateHoliday'] > 1].shape"
      ],
      "execution_count": 20,
      "outputs": [
        {
          "output_type": "execute_result",
          "data": {
            "text/plain": [
              "(10790, 11)"
            ]
          },
          "metadata": {
            "tags": []
          },
          "execution_count": 20
        }
      ]
    },
    {
      "metadata": {
        "id": "0lRG_DMoL77J",
        "colab_type": "code",
        "colab": {}
      },
      "cell_type": "code",
      "source": [
        "train = train.loc[train['StateHoliday']<2]"
      ],
      "execution_count": 0,
      "outputs": []
    },
    {
      "metadata": {
        "id": "HK-QbTELMMuK",
        "colab_type": "text"
      },
      "cell_type": "markdown",
      "source": [
        "**Cleaning Store Dataset**"
      ]
    },
    {
      "metadata": {
        "id": "yFCa-o2KML-S",
        "colab_type": "code",
        "outputId": "fe4d45d0-d1b7-40c1-bd21-c4c7c23f3ddf",
        "colab": {
          "base_uri": "https://localhost:8080/",
          "height": 228
        }
      },
      "cell_type": "code",
      "source": [
        "print(\"NANs for individual columns\")\n",
        "print(\"---------------------------\")\n",
        "from collections import Counter\n",
        "x = {colname : store[colname].isnull().sum() for colname in store.columns}\n",
        "Counter(x).most_common()"
      ],
      "execution_count": 22,
      "outputs": [
        {
          "output_type": "stream",
          "text": [
            "NANs for individual columns\n",
            "---------------------------\n"
          ],
          "name": "stdout"
        },
        {
          "output_type": "execute_result",
          "data": {
            "text/plain": [
              "[('Promo2SinceWeek', 544),\n",
              " ('Promo2SinceYear', 544),\n",
              " ('PromoInterval', 544),\n",
              " ('CompetitionOpenSinceMonth', 354),\n",
              " ('CompetitionOpenSinceYear', 354),\n",
              " ('CompetitionDistance', 3),\n",
              " ('Store', 0),\n",
              " ('StoreType', 0),\n",
              " ('Assortment', 0),\n",
              " ('Promo2', 0)]"
            ]
          },
          "metadata": {
            "tags": []
          },
          "execution_count": 22
        }
      ]
    },
    {
      "metadata": {
        "id": "5QGsRcK2MGbO",
        "colab_type": "code",
        "outputId": "73f2a027-2623-43e1-cc10-9c78867324c8",
        "colab": {
          "base_uri": "https://localhost:8080/",
          "height": 52
        }
      },
      "cell_type": "code",
      "source": [
        "store['PromoInterval'].unique()"
      ],
      "execution_count": 23,
      "outputs": [
        {
          "output_type": "execute_result",
          "data": {
            "text/plain": [
              "array([nan, 'Jan,Apr,Jul,Oct', 'Feb,May,Aug,Nov', 'Mar,Jun,Sept,Dec'],\n",
              "      dtype=object)"
            ]
          },
          "metadata": {
            "tags": []
          },
          "execution_count": 23
        }
      ]
    },
    {
      "metadata": {
        "id": "9e3K0mPdMkJi",
        "colab_type": "text"
      },
      "cell_type": "markdown",
      "source": [
        "If there is no promotion, then the corresponding columns should have zero values."
      ]
    },
    {
      "metadata": {
        "id": "1rAFYSg7Mgpu",
        "colab_type": "code",
        "colab": {}
      },
      "cell_type": "code",
      "source": [
        "store.loc[store['Promo2'] == 0, ['Promo2SinceWeek', 'Promo2SinceYear', 'PromoInterval']] = 0"
      ],
      "execution_count": 0,
      "outputs": []
    },
    {
      "metadata": {
        "id": "fLTwUviBM1uO",
        "colab_type": "code",
        "outputId": "6ad80ef1-4386-4be1-b646-955a74667d78",
        "colab": {
          "base_uri": "https://localhost:8080/",
          "height": 203
        }
      },
      "cell_type": "code",
      "source": [
        "store.loc[np.where(store['Promo2']!=0)].head()"
      ],
      "execution_count": 25,
      "outputs": [
        {
          "output_type": "execute_result",
          "data": {
            "text/html": [
              "<div>\n",
              "<style scoped>\n",
              "    .dataframe tbody tr th:only-of-type {\n",
              "        vertical-align: middle;\n",
              "    }\n",
              "\n",
              "    .dataframe tbody tr th {\n",
              "        vertical-align: top;\n",
              "    }\n",
              "\n",
              "    .dataframe thead th {\n",
              "        text-align: right;\n",
              "    }\n",
              "</style>\n",
              "<table border=\"1\" class=\"dataframe\">\n",
              "  <thead>\n",
              "    <tr style=\"text-align: right;\">\n",
              "      <th></th>\n",
              "      <th>Store</th>\n",
              "      <th>StoreType</th>\n",
              "      <th>Assortment</th>\n",
              "      <th>CompetitionDistance</th>\n",
              "      <th>CompetitionOpenSinceMonth</th>\n",
              "      <th>CompetitionOpenSinceYear</th>\n",
              "      <th>Promo2</th>\n",
              "      <th>Promo2SinceWeek</th>\n",
              "      <th>Promo2SinceYear</th>\n",
              "      <th>PromoInterval</th>\n",
              "    </tr>\n",
              "  </thead>\n",
              "  <tbody>\n",
              "    <tr>\n",
              "      <th>1</th>\n",
              "      <td>2</td>\n",
              "      <td>a</td>\n",
              "      <td>a</td>\n",
              "      <td>570.0</td>\n",
              "      <td>11.0</td>\n",
              "      <td>2007.0</td>\n",
              "      <td>1</td>\n",
              "      <td>13.0</td>\n",
              "      <td>2010.0</td>\n",
              "      <td>Jan,Apr,Jul,Oct</td>\n",
              "    </tr>\n",
              "    <tr>\n",
              "      <th>2</th>\n",
              "      <td>3</td>\n",
              "      <td>a</td>\n",
              "      <td>a</td>\n",
              "      <td>14130.0</td>\n",
              "      <td>12.0</td>\n",
              "      <td>2006.0</td>\n",
              "      <td>1</td>\n",
              "      <td>14.0</td>\n",
              "      <td>2011.0</td>\n",
              "      <td>Jan,Apr,Jul,Oct</td>\n",
              "    </tr>\n",
              "    <tr>\n",
              "      <th>10</th>\n",
              "      <td>11</td>\n",
              "      <td>a</td>\n",
              "      <td>c</td>\n",
              "      <td>960.0</td>\n",
              "      <td>11.0</td>\n",
              "      <td>2011.0</td>\n",
              "      <td>1</td>\n",
              "      <td>1.0</td>\n",
              "      <td>2012.0</td>\n",
              "      <td>Jan,Apr,Jul,Oct</td>\n",
              "    </tr>\n",
              "    <tr>\n",
              "      <th>11</th>\n",
              "      <td>12</td>\n",
              "      <td>a</td>\n",
              "      <td>c</td>\n",
              "      <td>1070.0</td>\n",
              "      <td>NaN</td>\n",
              "      <td>NaN</td>\n",
              "      <td>1</td>\n",
              "      <td>13.0</td>\n",
              "      <td>2010.0</td>\n",
              "      <td>Jan,Apr,Jul,Oct</td>\n",
              "    </tr>\n",
              "    <tr>\n",
              "      <th>12</th>\n",
              "      <td>13</td>\n",
              "      <td>d</td>\n",
              "      <td>a</td>\n",
              "      <td>310.0</td>\n",
              "      <td>NaN</td>\n",
              "      <td>NaN</td>\n",
              "      <td>1</td>\n",
              "      <td>45.0</td>\n",
              "      <td>2009.0</td>\n",
              "      <td>Feb,May,Aug,Nov</td>\n",
              "    </tr>\n",
              "  </tbody>\n",
              "</table>\n",
              "</div>"
            ],
            "text/plain": [
              "    Store StoreType Assortment  CompetitionDistance  \\\n",
              "1       2         a          a                570.0   \n",
              "2       3         a          a              14130.0   \n",
              "10     11         a          c                960.0   \n",
              "11     12         a          c               1070.0   \n",
              "12     13         d          a                310.0   \n",
              "\n",
              "    CompetitionOpenSinceMonth  CompetitionOpenSinceYear  Promo2  \\\n",
              "1                        11.0                    2007.0       1   \n",
              "2                        12.0                    2006.0       1   \n",
              "10                       11.0                    2011.0       1   \n",
              "11                        NaN                       NaN       1   \n",
              "12                        NaN                       NaN       1   \n",
              "\n",
              "    Promo2SinceWeek  Promo2SinceYear    PromoInterval  \n",
              "1              13.0           2010.0  Jan,Apr,Jul,Oct  \n",
              "2              14.0           2011.0  Jan,Apr,Jul,Oct  \n",
              "10              1.0           2012.0  Jan,Apr,Jul,Oct  \n",
              "11             13.0           2010.0  Jan,Apr,Jul,Oct  \n",
              "12             45.0           2009.0  Feb,May,Aug,Nov  "
            ]
          },
          "metadata": {
            "tags": []
          },
          "execution_count": 25
        }
      ]
    },
    {
      "metadata": {
        "id": "93Ul5maHOYIo",
        "colab_type": "code",
        "colab": {}
      },
      "cell_type": "code",
      "source": [
        "store.loc[store['Promo2'] != 0, 'Promo2SinceWeek'] = store['Promo2SinceWeek'].max() - store.loc[store['Promo2'] != 0, 'Promo2SinceWeek']\n",
        "store.loc[store['Promo2'] != 0, 'Promo2SinceYear'] = store['Promo2SinceYear'].max() - store.loc[store['Promo2'] != 0, 'Promo2SinceYear']"
      ],
      "execution_count": 0,
      "outputs": []
    },
    {
      "metadata": {
        "id": "b1qlqbz_PO_n",
        "colab_type": "code",
        "outputId": "7dc53b64-2a55-4ab9-e85b-f27a9c1c52d7",
        "colab": {
          "base_uri": "https://localhost:8080/",
          "height": 211
        }
      },
      "cell_type": "code",
      "source": [
        "store.dtypes"
      ],
      "execution_count": 27,
      "outputs": [
        {
          "output_type": "execute_result",
          "data": {
            "text/plain": [
              "Store                          int64\n",
              "StoreType                     object\n",
              "Assortment                    object\n",
              "CompetitionDistance          float64\n",
              "CompetitionOpenSinceMonth    float64\n",
              "CompetitionOpenSinceYear     float64\n",
              "Promo2                         int64\n",
              "Promo2SinceWeek              float64\n",
              "Promo2SinceYear              float64\n",
              "PromoInterval                 object\n",
              "dtype: object"
            ]
          },
          "metadata": {
            "tags": []
          },
          "execution_count": 27
        }
      ]
    },
    {
      "metadata": {
        "id": "xp17xeJ0Pjvb",
        "colab_type": "code",
        "outputId": "d2974788-0753-49ac-d662-b8c6501fbc36",
        "colab": {
          "base_uri": "https://localhost:8080/",
          "height": 35
        }
      },
      "cell_type": "code",
      "source": [
        "factor_to_integer(store, 'PromoInterval', start_value=0)"
      ],
      "execution_count": 28,
      "outputs": [
        {
          "output_type": "stream",
          "text": [
            "levels : [0 1 2 3] ; data type : int64\n"
          ],
          "name": "stdout"
        }
      ]
    },
    {
      "metadata": {
        "id": "jO4tzq6SPmLb",
        "colab_type": "code",
        "outputId": "cb8c5d44-2952-4ba3-fe81-9df6e933ccd1",
        "colab": {
          "base_uri": "https://localhost:8080/",
          "height": 52
        }
      },
      "cell_type": "code",
      "source": [
        "factor_to_integer(store, 'StoreType')\n",
        "factor_to_integer(store, 'Assortment')"
      ],
      "execution_count": 29,
      "outputs": [
        {
          "output_type": "stream",
          "text": [
            "levels : [0 1 2 3] ; data type : int64\n",
            "levels : [0 1 2] ; data type : int64\n"
          ],
          "name": "stdout"
        }
      ]
    },
    {
      "metadata": {
        "id": "O_MPR1i9PuCZ",
        "colab_type": "text"
      },
      "cell_type": "markdown",
      "source": [
        "Are there still missing values?"
      ]
    },
    {
      "metadata": {
        "id": "N-37wHJpPqjW",
        "colab_type": "code",
        "outputId": "a6d5491d-8a3d-443b-df75-93d36256cedf",
        "colab": {
          "base_uri": "https://localhost:8080/",
          "height": 228
        }
      },
      "cell_type": "code",
      "source": [
        "print(\"NANs for individual columns\")\n",
        "print(\"---------------------------\")\n",
        "from collections import Counter\n",
        "x = {colname : store[colname].isnull().sum() for colname in store.columns}\n",
        "Counter(x).most_common()"
      ],
      "execution_count": 30,
      "outputs": [
        {
          "output_type": "stream",
          "text": [
            "NANs for individual columns\n",
            "---------------------------\n"
          ],
          "name": "stdout"
        },
        {
          "output_type": "execute_result",
          "data": {
            "text/plain": [
              "[('CompetitionOpenSinceMonth', 354),\n",
              " ('CompetitionOpenSinceYear', 354),\n",
              " ('CompetitionDistance', 3),\n",
              " ('Store', 0),\n",
              " ('StoreType', 0),\n",
              " ('Assortment', 0),\n",
              " ('Promo2', 0),\n",
              " ('Promo2SinceWeek', 0),\n",
              " ('Promo2SinceYear', 0),\n",
              " ('PromoInterval', 0)]"
            ]
          },
          "metadata": {
            "tags": []
          },
          "execution_count": 30
        }
      ]
    },
    {
      "metadata": {
        "id": "l6rEvOnVP4XB",
        "colab_type": "text"
      },
      "cell_type": "markdown",
      "source": [
        "Filling the missing values with sklearn’s built-in command. Filling with the column.median()."
      ]
    },
    {
      "metadata": {
        "id": "cwVEi8XoPx59",
        "colab_type": "code",
        "colab": {}
      },
      "cell_type": "code",
      "source": [
        "from sklearn.impute import SimpleImputer\n",
        "imp = SimpleImputer( strategy='median').fit(store)\n",
        "store_imputed = imp.transform(store)\n",
        "store2 = pd.DataFrame(store_imputed, columns=store.columns.values)"
      ],
      "execution_count": 0,
      "outputs": []
    },
    {
      "metadata": {
        "id": "xrHAUypuQmE3",
        "colab_type": "code",
        "outputId": "dcf5c8a3-c439-4682-a603-5ece91fdd0d5",
        "colab": {
          "base_uri": "https://localhost:8080/",
          "height": 228
        }
      },
      "cell_type": "code",
      "source": [
        "print(\"NANs for individual columns\")\n",
        "print(\"---------------------------\")\n",
        "from collections import Counter\n",
        "x = {colname : store2[colname].isnull().sum() for colname in store2.columns}\n",
        "Counter(x).most_common()"
      ],
      "execution_count": 32,
      "outputs": [
        {
          "output_type": "stream",
          "text": [
            "NANs for individual columns\n",
            "---------------------------\n"
          ],
          "name": "stdout"
        },
        {
          "output_type": "execute_result",
          "data": {
            "text/plain": [
              "[('Store', 0),\n",
              " ('StoreType', 0),\n",
              " ('Assortment', 0),\n",
              " ('CompetitionDistance', 0),\n",
              " ('CompetitionOpenSinceMonth', 0),\n",
              " ('CompetitionOpenSinceYear', 0),\n",
              " ('Promo2', 0),\n",
              " ('Promo2SinceWeek', 0),\n",
              " ('Promo2SinceYear', 0),\n",
              " ('PromoInterval', 0)]"
            ]
          },
          "metadata": {
            "tags": []
          },
          "execution_count": 32
        }
      ]
    },
    {
      "metadata": {
        "id": "hdGgPV4GSfc_",
        "colab_type": "code",
        "colab": {}
      },
      "cell_type": "code",
      "source": [
        "store2['CompetitionOpenSinceMonth'] = store2['CompetitionOpenSinceMonth'].max() - store2['CompetitionOpenSinceMonth']\n",
        "store2['CompetitionOpenSinceYear'] = store2['CompetitionOpenSinceYear'].max() - store2['CompetitionOpenSinceYear']\n"
      ],
      "execution_count": 0,
      "outputs": []
    },
    {
      "metadata": {
        "id": "HGdj-8XRTSaH",
        "colab_type": "code",
        "outputId": "89d7e272-c8e3-4e8a-8161-639841f8e17d",
        "colab": {
          "base_uri": "https://localhost:8080/",
          "height": 203
        }
      },
      "cell_type": "code",
      "source": [
        "store2.tail()"
      ],
      "execution_count": 34,
      "outputs": [
        {
          "output_type": "execute_result",
          "data": {
            "text/html": [
              "<div>\n",
              "<style scoped>\n",
              "    .dataframe tbody tr th:only-of-type {\n",
              "        vertical-align: middle;\n",
              "    }\n",
              "\n",
              "    .dataframe tbody tr th {\n",
              "        vertical-align: top;\n",
              "    }\n",
              "\n",
              "    .dataframe thead th {\n",
              "        text-align: right;\n",
              "    }\n",
              "</style>\n",
              "<table border=\"1\" class=\"dataframe\">\n",
              "  <thead>\n",
              "    <tr style=\"text-align: right;\">\n",
              "      <th></th>\n",
              "      <th>Store</th>\n",
              "      <th>StoreType</th>\n",
              "      <th>Assortment</th>\n",
              "      <th>CompetitionDistance</th>\n",
              "      <th>CompetitionOpenSinceMonth</th>\n",
              "      <th>CompetitionOpenSinceYear</th>\n",
              "      <th>Promo2</th>\n",
              "      <th>Promo2SinceWeek</th>\n",
              "      <th>Promo2SinceYear</th>\n",
              "      <th>PromoInterval</th>\n",
              "    </tr>\n",
              "  </thead>\n",
              "  <tbody>\n",
              "    <tr>\n",
              "      <th>1110</th>\n",
              "      <td>1111.0</td>\n",
              "      <td>1.0</td>\n",
              "      <td>0.0</td>\n",
              "      <td>1900.0</td>\n",
              "      <td>6.0</td>\n",
              "      <td>1.0</td>\n",
              "      <td>1.0</td>\n",
              "      <td>19.0</td>\n",
              "      <td>2.0</td>\n",
              "      <td>1.0</td>\n",
              "    </tr>\n",
              "    <tr>\n",
              "      <th>1111</th>\n",
              "      <td>1112.0</td>\n",
              "      <td>0.0</td>\n",
              "      <td>1.0</td>\n",
              "      <td>1880.0</td>\n",
              "      <td>8.0</td>\n",
              "      <td>9.0</td>\n",
              "      <td>0.0</td>\n",
              "      <td>0.0</td>\n",
              "      <td>0.0</td>\n",
              "      <td>0.0</td>\n",
              "    </tr>\n",
              "    <tr>\n",
              "      <th>1112</th>\n",
              "      <td>1113.0</td>\n",
              "      <td>1.0</td>\n",
              "      <td>1.0</td>\n",
              "      <td>9260.0</td>\n",
              "      <td>4.0</td>\n",
              "      <td>5.0</td>\n",
              "      <td>0.0</td>\n",
              "      <td>0.0</td>\n",
              "      <td>0.0</td>\n",
              "      <td>0.0</td>\n",
              "    </tr>\n",
              "    <tr>\n",
              "      <th>1113</th>\n",
              "      <td>1114.0</td>\n",
              "      <td>1.0</td>\n",
              "      <td>1.0</td>\n",
              "      <td>870.0</td>\n",
              "      <td>4.0</td>\n",
              "      <td>5.0</td>\n",
              "      <td>0.0</td>\n",
              "      <td>0.0</td>\n",
              "      <td>0.0</td>\n",
              "      <td>0.0</td>\n",
              "    </tr>\n",
              "    <tr>\n",
              "      <th>1114</th>\n",
              "      <td>1115.0</td>\n",
              "      <td>2.0</td>\n",
              "      <td>1.0</td>\n",
              "      <td>5350.0</td>\n",
              "      <td>4.0</td>\n",
              "      <td>5.0</td>\n",
              "      <td>1.0</td>\n",
              "      <td>28.0</td>\n",
              "      <td>3.0</td>\n",
              "      <td>3.0</td>\n",
              "    </tr>\n",
              "  </tbody>\n",
              "</table>\n",
              "</div>"
            ],
            "text/plain": [
              "       Store  StoreType  Assortment  CompetitionDistance  \\\n",
              "1110  1111.0        1.0         0.0               1900.0   \n",
              "1111  1112.0        0.0         1.0               1880.0   \n",
              "1112  1113.0        1.0         1.0               9260.0   \n",
              "1113  1114.0        1.0         1.0                870.0   \n",
              "1114  1115.0        2.0         1.0               5350.0   \n",
              "\n",
              "      CompetitionOpenSinceMonth  CompetitionOpenSinceYear  Promo2  \\\n",
              "1110                        6.0                       1.0     1.0   \n",
              "1111                        8.0                       9.0     0.0   \n",
              "1112                        4.0                       5.0     0.0   \n",
              "1113                        4.0                       5.0     0.0   \n",
              "1114                        4.0                       5.0     1.0   \n",
              "\n",
              "      Promo2SinceWeek  Promo2SinceYear  PromoInterval  \n",
              "1110             19.0              2.0            1.0  \n",
              "1111              0.0              0.0            0.0  \n",
              "1112              0.0              0.0            0.0  \n",
              "1113              0.0              0.0            0.0  \n",
              "1114             28.0              3.0            3.0  "
            ]
          },
          "metadata": {
            "tags": []
          },
          "execution_count": 34
        }
      ]
    },
    {
      "metadata": {
        "id": "ImGidsWwTblG",
        "colab_type": "code",
        "colab": {}
      },
      "cell_type": "code",
      "source": [
        "train_store = pd.merge(train, store2, how = 'left', on='Store')\n",
        "test_store = test.reset_index().merge(store2, how = 'left', on='Store').set_index('Id')"
      ],
      "execution_count": 0,
      "outputs": []
    },
    {
      "metadata": {
        "id": "WO2QOyxmUOOe",
        "colab_type": "text"
      },
      "cell_type": "markdown",
      "source": [
        "Visual Exploration"
      ]
    },
    {
      "metadata": {
        "id": "1lLG1VRLgmVz",
        "colab_type": "code",
        "colab": {
          "base_uri": "https://localhost:8080/",
          "height": 379
        },
        "outputId": "297f2f68-08a7-4aab-a65b-0f1e404dfcb5"
      },
      "cell_type": "code",
      "source": [
        "import seaborn as sns\n",
        "sns.distplot(train_store['Sales'])"
      ],
      "execution_count": 36,
      "outputs": [
        {
          "output_type": "execute_result",
          "data": {
            "text/plain": [
              "<matplotlib.axes._subplots.AxesSubplot at 0x7f1a00e3bc88>"
            ]
          },
          "metadata": {
            "tags": []
          },
          "execution_count": 36
        },
        {
          "output_type": "display_data",
          "data": {
            "image/png": "[encoded data removed]",
            "text/plain": [
              "<Figure size 576x396 with 1 Axes>"
            ]
          },
          "metadata": {
            "tags": []
          }
        }
      ]
    },
    {
      "metadata": {
        "id": "nw103_O7UCCW",
        "colab_type": "code",
        "outputId": "80da80da-8816-429b-8be5-11f9c3eb5c98",
        "colab": {
          "base_uri": "https://localhost:8080/",
          "height": 391
        }
      },
      "cell_type": "code",
      "source": [
        "train_store.boxplot(column='Sales', by='Year')\n",
        "plt.show()"
      ],
      "execution_count": 37,
      "outputs": [
        {
          "output_type": "display_data",
          "data": {
            "image/png": "[encoded data removed]",
            "text/plain": [
              "<Figure size 576x396 with 1 Axes>"
            ]
          },
          "metadata": {
            "tags": []
          }
        }
      ]
    },
    {
      "metadata": {
        "id": "wAyBG3i_URE9",
        "colab_type": "code",
        "outputId": "6de25ffb-0afb-447e-bc17-7ddbd1bdce99",
        "colab": {
          "base_uri": "https://localhost:8080/",
          "height": 391
        }
      },
      "cell_type": "code",
      "source": [
        "train_store.boxplot(column='Sales', by='Month')\n",
        "plt.show()"
      ],
      "execution_count": 38,
      "outputs": [
        {
          "output_type": "display_data",
          "data": {
            "image/png": "[encoded data removed]",
            "text/plain": [
              "<Figure size 576x396 with 1 Axes>"
            ]
          },
          "metadata": {
            "tags": []
          }
        }
      ]
    },
    {
      "metadata": {
        "id": "hx9kGBrnUV_H",
        "colab_type": "code",
        "outputId": "6a2076d8-58c6-44a0-b826-636722971e31",
        "colab": {
          "base_uri": "https://localhost:8080/",
          "height": 378
        }
      },
      "cell_type": "code",
      "source": [
        "train_store.hist(column='Sales', by='Year', bins=30)\n",
        "plt.show()"
      ],
      "execution_count": 39,
      "outputs": [
        {
          "output_type": "display_data",
          "data": {
            "image/png": "[encoded data removed]",
            "text/plain": [
              "<Figure size 576x396 with 4 Axes>"
            ]
          },
          "metadata": {
            "tags": []
          }
        }
      ]
    },
    {
      "metadata": {
        "id": "KhHHyv0dUo34",
        "colab_type": "code",
        "outputId": "9c5fbd09-a052-480f-8383-150bbae76a36",
        "colab": {
          "base_uri": "https://localhost:8080/",
          "height": 378
        }
      },
      "cell_type": "code",
      "source": [
        "train_store.hist(column='Sales', by='Month', bins=30)\n",
        "plt.show()"
      ],
      "execution_count": 40,
      "outputs": [
        {
          "output_type": "display_data",
          "data": {
            "image/png": "[encoded data removed]",
            "text/plain": [
              "<Figure size 576x396 with 12 Axes>"
            ]
          },
          "metadata": {
            "tags": []
          }
        }
      ]
    },
    {
      "metadata": {
        "id": "1BPQ2ePAU-1m",
        "colab_type": "text"
      },
      "cell_type": "markdown",
      "source": [
        "# Modeling"
      ]
    },
    {
      "metadata": {
        "id": "nrMCX0AyUtNL",
        "colab_type": "code",
        "outputId": "fb3a50dd-ff41-4a85-eabb-339630a02349",
        "colab": {
          "base_uri": "https://localhost:8080/",
          "height": 193
        }
      },
      "cell_type": "code",
      "source": [
        "print(train_store.columns.values)\n",
        "print(test_store.columns.values)"
      ],
      "execution_count": 41,
      "outputs": [
        {
          "output_type": "stream",
          "text": [
            "['Store' 'DayOfWeek' 'Date' 'Sales' 'Customers' 'Open' 'Promo'\n",
            " 'StateHoliday' 'SchoolHoliday' 'Year' 'Month' 'StoreType' 'Assortment'\n",
            " 'CompetitionDistance' 'CompetitionOpenSinceMonth'\n",
            " 'CompetitionOpenSinceYear' 'Promo2' 'Promo2SinceWeek' 'Promo2SinceYear'\n",
            " 'PromoInterval']\n",
            "['index' 'Store' 'DayOfWeek' 'Date' 'Open' 'Promo' 'StateHoliday'\n",
            " 'SchoolHoliday' 'Year' 'Month' 'StoreType' 'Assortment'\n",
            " 'CompetitionDistance' 'CompetitionOpenSinceMonth'\n",
            " 'CompetitionOpenSinceYear' 'Promo2' 'Promo2SinceWeek' 'Promo2SinceYear'\n",
            " 'PromoInterval']\n"
          ],
          "name": "stdout"
        }
      ]
    },
    {
      "metadata": {
        "id": "xH8gOXsDVSE6",
        "colab_type": "code",
        "colab": {}
      },
      "cell_type": "code",
      "source": [
        "train_model = train_store.drop(['Customers', 'Date'], axis=1)\n",
        "train_model['Year'] = train_model['Year'].max() - train_model['Year']\n",
        "#print(train_model.head())"
      ],
      "execution_count": 0,
      "outputs": []
    },
    {
      "metadata": {
        "id": "00AKaUjMEBu6",
        "colab_type": "text"
      },
      "cell_type": "markdown",
      "source": [
        "## Linear Modeling"
      ]
    },
    {
      "metadata": {
        "id": "kvz7pDqjEKaG",
        "colab_type": "text"
      },
      "cell_type": "markdown",
      "source": [
        "**Is the relationship significant?**\n",
        "\n",
        "Correlation is any of a broad class of statistical relationships involving dependence"
      ]
    },
    {
      "metadata": {
        "id": "izHxip0YlTAW",
        "colab_type": "code",
        "outputId": "b2cae897-0d48-4996-cb81-418ad80c4cca",
        "colab": {
          "base_uri": "https://localhost:8080/",
          "height": 474
        }
      },
      "cell_type": "code",
      "source": [
        "import matplotlib.pyplot as plt\n",
        "\n",
        "corr = train_model.corr()\n",
        "fig = plt.figure()\n",
        "ax = fig.add_subplot(111)\n",
        "cax = ax.matshow(corr,cmap='coolwarm', vmin=-1, vmax=1)\n",
        "fig.colorbar(cax)\n",
        "ticks = np.arange(0,len(train_model.columns),1)\n",
        "ax.set_xticks(ticks)\n",
        "plt.xticks(rotation=90)\n",
        "ax.set_yticks(ticks)\n",
        "ax.set_xticklabels(train_model.columns)\n",
        "ax.set_yticklabels(train_model.columns)\n",
        "plt.show()"
      ],
      "execution_count": 43,
      "outputs": [
        {
          "output_type": "display_data",
          "data": {
            "image/png": "[encoded data removed]",
            "text/plain": [
              "<Figure size 576x396 with 2 Axes>"
            ]
          },
          "metadata": {
            "tags": []
          }
        }
      ]
    },
    {
      "metadata": {
        "id": "FrYvNfqCFKFJ",
        "colab_type": "code",
        "outputId": "ec7ae942-817a-4980-a2f7-792ed5cec85f",
        "colab": {
          "base_uri": "https://localhost:8080/",
          "height": 334
        }
      },
      "cell_type": "code",
      "source": [
        "print(corr[\"Sales\"].sort_values(ascending=False))"
      ],
      "execution_count": 44,
      "outputs": [
        {
          "output_type": "stream",
          "text": [
            "Sales                        1.000000\n",
            "Open                         0.669017\n",
            "Promo                        0.457941\n",
            "Assortment                   0.090303\n",
            "Month                        0.055052\n",
            "StoreType                    0.037322\n",
            "CompetitionOpenSinceMonth    0.024011\n",
            "CompetitionOpenSinceYear    -0.010273\n",
            "CompetitionDistance         -0.019023\n",
            "Year                        -0.023087\n",
            "Promo2SinceYear             -0.066596\n",
            "Promo2                      -0.092353\n",
            "PromoInterval               -0.094013\n",
            "Promo2SinceWeek             -0.097373\n",
            "SchoolHoliday               -0.121029\n",
            "StateHoliday                -0.207833\n",
            "DayOfWeek                   -0.474969\n",
            "Name: Sales, dtype: float64\n"
          ],
          "name": "stdout"
        }
      ]
    },
    {
      "metadata": {
        "id": "xsuosFypxsxx",
        "colab_type": "text"
      },
      "cell_type": "markdown",
      "source": [
        "**AIC & BIC **\n",
        "\n",
        "The Akaike’s information criterion – AIC and the Bayesian information criterion – BIC are measures of the goodness of fit of an estimated statistical model and can also be used for model selection. Both criteria depend on the maximized value of the likelihood function L for the estimated model.\n",
        "\n",
        "k= # of variables\n",
        "\n",
        "n = number of observations\n",
        "\n",
        "AIC= 2k - 2ln(sse)\n",
        "\n",
        "BIC = n*ln(sse/n) + k*ln(n)\n"
      ]
    },
    {
      "metadata": {
        "id": "bId3JqCjyPCk",
        "colab_type": "code",
        "colab": {}
      },
      "cell_type": "code",
      "source": [
        "\n",
        "def calAIC(y,y_hat,k):\n",
        "  resid = y - y_hat\n",
        "  sse = sum(resid**2)\n",
        "  AIC= 2*k - 2*np.log(sse)\n",
        "  return AIC\n",
        "  \n",
        "def calBIC(y,y_hat,k):\n",
        "  n = len(y)\n",
        "  resid = y - y_hat\n",
        "  sse = sum(resid**2)\n",
        "  BIC = n*np.log(sse/n) + k*np.log(n)\n",
        "  return BIC"
      ],
      "execution_count": 0,
      "outputs": []
    },
    {
      "metadata": {
        "id": "rk1bDxPeL5mD",
        "colab_type": "text"
      },
      "cell_type": "markdown",
      "source": [
        "##**Building Linear Models**"
      ]
    },
    {
      "metadata": {
        "id": "lgromuDSHtH4",
        "colab_type": "code",
        "colab": {}
      },
      "cell_type": "code",
      "source": [
        "from sklearn.model_selection import train_test_split\n",
        "#Creating the features \n",
        "\n",
        "features = train_model.drop('Sales', axis=1)\n",
        "target = train_model['Sales']\n",
        "\n",
        "X_train, X_test, y_train, y_test = train_test_split(features, target, test_size = 0.3, random_state = 42)"
      ],
      "execution_count": 0,
      "outputs": []
    },
    {
      "metadata": {
        "id": "zWCdcBQnMc38",
        "colab_type": "code",
        "outputId": "e20ea541-f6c8-4d51-ca66-b1937921db8f",
        "colab": {
          "base_uri": "https://localhost:8080/",
          "height": 87
        }
      },
      "cell_type": "code",
      "source": [
        "print(X_train.shape)\n",
        "print(X_test.shape)\n",
        "print(y_train.shape)\n",
        "print(y_test.shape)"
      ],
      "execution_count": 47,
      "outputs": [
        {
          "output_type": "stream",
          "text": [
            "(704493, 17)\n",
            "(301926, 17)\n",
            "(704493,)\n",
            "(301926,)\n"
          ],
          "name": "stdout"
        }
      ]
    },
    {
      "metadata": {
        "id": "i5-H8XagKZO-",
        "colab_type": "text"
      },
      "cell_type": "markdown",
      "source": [
        "###**Multi Linear Model with scaling**"
      ]
    },
    {
      "metadata": {
        "id": "fUM_iKTiM3Ln",
        "colab_type": "code",
        "outputId": "19dfd861-bfc1-4671-b346-f02951b53374",
        "colab": {
          "base_uri": "https://localhost:8080/",
          "height": 105
        }
      },
      "cell_type": "code",
      "source": [
        "from sklearn import linear_model\n",
        "from sklearn.preprocessing import StandardScaler\n",
        "from sklearn.pipeline import Pipeline\n",
        "from sklearn.model_selection import cross_val_score\n",
        "from sklearn.model_selection import KFold\n",
        "from sklearn.metrics import r2_score\n",
        "\n",
        "\n",
        "#Setting up the scaling pipeline \n",
        "\n",
        "pipeline_order = [('scaler', StandardScaler()), ('linear_reg', linear_model.LinearRegression())]\n",
        "\n",
        "Model_Pipeline = Pipeline(pipeline_order)\n",
        "\n",
        "# evaluate pipeline\n",
        "kfold = KFold(n_splits=10, random_state=7)\n",
        "results = cross_val_score(Model_Pipeline, X_train, y_train, cv=kfold,scoring= 'r2')\n",
        "Model_Pipeline.fit(X_train, y_train)\n",
        "preds_train = Model_Pipeline.predict(X_train)\n",
        "preds = Model_Pipeline.predict(X_test)\n",
        "print(\"Train R^2:\",round(results.mean(),3), round(results.std(),3))\n",
        "print(\"Train AIC, BIC :\",round(calAIC(y_train,preds_train,len(X_train.columns)),3),\",\", round(calBIC(y_train,preds_train,len(X_train.columns))))\n",
        "print(\"-----------------------------------------------\")\n",
        "print(\"Test R^2:\",round(r2_score(y_test, preds),3))\n",
        "print(\"Test AIC, BIC :\",round(calAIC(y_test,preds,len(X_test.columns)),3),\",\", round(calBIC(y_test,preds,len(X_test.columns))))\n",
        "\n"
      ],
      "execution_count": 84,
      "outputs": [
        {
          "output_type": "stream",
          "text": [
            "Train R^2: 0.549 0.002\n",
            "Train AIC, BIC : -24.334 , 11062074.0\n",
            "-----------------------------------------------\n",
            "Test R^2: 0.548\n",
            "Test AIC, BIC : -22.639 , 4740909.0\n"
          ],
          "name": "stdout"
        }
      ]
    },
    {
      "metadata": {
        "id": "YpYhdDpuKlgW",
        "colab_type": "text"
      },
      "cell_type": "markdown",
      "source": [
        "###**Multi Linear model without scaling**"
      ]
    },
    {
      "metadata": {
        "id": "8BDGy55xMrL1",
        "colab_type": "code",
        "outputId": "d1fba150-d8e7-4f7a-fff4-56c0d079c5d3",
        "colab": {
          "base_uri": "https://localhost:8080/",
          "height": 52
        }
      },
      "cell_type": "code",
      "source": [
        "from sklearn import linear_model\n",
        "#Initializing a linear regression model \n",
        "\n",
        "linear_reg = linear_model.LinearRegression()\n",
        "\n",
        "#Fitting the model on the data\n",
        "\n",
        "model_wos = linear_reg.fit(X_train, y_train)\n",
        "\n",
        "#Accuracy of the model\n",
        "preds = model_wos.predict(X_test)\n",
        "print(\"Test R^2:\",round(r2_score(y_test, preds),3))\n",
        "print(\"Test AIC, BIC :\",round(calAIC(y_test,preds,len(X_test.columns)),3),\",\", round(calBIC(y_test,preds,len(X_test.columns))))"
      ],
      "execution_count": 87,
      "outputs": [
        {
          "output_type": "stream",
          "text": [
            "Test R^2: 0.548\n",
            "Test AIC, BIC : -22.639 , 4740909.0\n"
          ],
          "name": "stdout"
        }
      ]
    },
    {
      "metadata": {
        "id": "daFW4CashDvC",
        "colab_type": "code",
        "colab": {
          "base_uri": "https://localhost:8080/",
          "height": 365
        },
        "outputId": "46628ff6-b51c-47df-c7fb-f6f8c76e404c"
      },
      "cell_type": "code",
      "source": [
        "plt.scatter(y_test,linear_reg.predict(X_test))"
      ],
      "execution_count": 50,
      "outputs": [
        {
          "output_type": "execute_result",
          "data": {
            "text/plain": [
              "<matplotlib.collections.PathCollection at 0x7f19fe7689b0>"
            ]
          },
          "metadata": {
            "tags": []
          },
          "execution_count": 50
        },
        {
          "output_type": "display_data",
          "data": {
            "image/png": "[encoded data removed]",
            "text/plain": [
              "<Figure size 576x396 with 1 Axes>"
            ]
          },
          "metadata": {
            "tags": []
          }
        }
      ]
    },
    {
      "metadata": {
        "id": "SSYRQTB7l5VH",
        "colab_type": "text"
      },
      "cell_type": "markdown",
      "source": [
        "###**Cross validation with K-Fold**"
      ]
    },
    {
      "metadata": {
        "id": "C3ARZLO81O3S",
        "colab_type": "text"
      },
      "cell_type": "markdown",
      "source": [
        "### **Linear Model using SGD**"
      ]
    },
    {
      "metadata": {
        "id": "kQRbyCOh0h-L",
        "colab_type": "code",
        "colab": {
          "base_uri": "https://localhost:8080/",
          "height": 105
        },
        "outputId": "df59f868-a6a5-4221-c240-87aaccb8e8b3"
      },
      "cell_type": "code",
      "source": [
        "pipeline_order_sgd = [('scaler', StandardScaler()), ('linear_reg', linear_model.SGDRegressor())]\n",
        "\n",
        "Model_Pipeline_sgd = Pipeline(pipeline_order_sgd)\n",
        "\n",
        "# evaluate pipeline\n",
        "kfold = KFold(n_splits=10, random_state=7)\n",
        "results = cross_val_score(Model_Pipeline_sgd, X_train, y_train, cv=kfold,scoring= 'r2')\n",
        "Model_Pipeline_sgd.fit(X_train, y_train)\n",
        "preds_train = Model_Pipeline_sgd.predict(X_train)\n",
        "preds = Model_Pipeline_sgd.predict(X_test)\n",
        "print(\"Train R^2:\",round(results.mean(),3), round(results.std(),3))\n",
        "print(\"Train AIC, BIC :\",round(calAIC(y_train,preds_train,len(X_train.columns)),3),\",\", round(calBIC(y_train,preds_train,len(X_train.columns))))\n",
        "print(\"-----------------------------------------------\")\n",
        "print(\"Test R^2:\",round(r2_score(y_test, preds),3))\n",
        "print(\"Test AIC, BIC :\",round(calAIC(y_test,preds,len(X_test.columns)),3),\",\", round(calBIC(y_test,preds,len(X_test.columns))))\n"
      ],
      "execution_count": 91,
      "outputs": [
        {
          "output_type": "stream",
          "text": [
            "Train R^2: 0.548 0.002\n",
            "Train AIC, BIC : -24.337 , 11062985.0\n",
            "-----------------------------------------------\n",
            "Test R^2: 0.548\n",
            "Test AIC, BIC : -22.642 , 4741352.0\n"
          ],
          "name": "stdout"
        }
      ]
    },
    {
      "metadata": {
        "id": "X3n1fIstKLJO",
        "colab_type": "code",
        "colab": {}
      },
      "cell_type": "code",
      "source": [
        ""
      ],
      "execution_count": 0,
      "outputs": []
    }
  ]
}