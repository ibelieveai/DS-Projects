{
 "cells": [
  {
   "cell_type": "markdown",
   "metadata": {
    "colab_type": "text",
    "id": "D9DNx54BCvcW"
   },
   "source": [
    "# **Rossmann Store Sales Prediction**\n",
    "\n",
    "Rossmann operates over 3,000 drug stores in 7 European countries. Currently, Here we are predicting 6 weeks of daily sales for 1,115 stores located across Germany. Reliable sales forecasts enable store managers to create effective staff schedules that increase productivity and motivation. \n",
    "\n",
    "![alt text](https://storage.googleapis.com/kaggle-competitions/kaggle/4594/media/rossmann_banner2.png)"
   ]
  },
  {
   "cell_type": "markdown",
   "metadata": {
    "colab_type": "text",
    "id": "EYkaKyIeCb8f"
   },
   "source": [
    "# **Data Exploration and Engineering**"
   ]
  },
  {
   "cell_type": "markdown",
   "metadata": {
    "colab_type": "text",
    "id": "NXPVljWADnDe"
   },
   "source": [
    "First, we will mount my google drive and load data into the googlecolab workspace."
   ]
  },
  {
   "cell_type": "code",
   "execution_count": 1,
   "metadata": {
    "colab": {},
    "colab_type": "code",
    "id": "tZY20jPkD77-"
   },
   "outputs": [
    {
     "ename": "ModuleNotFoundError",
     "evalue": "No module named 'seaborn'",
     "output_type": "error",
     "traceback": [
      "\u001b[1;31m---------------------------------------------------------------------------\u001b[0m",
      "\u001b[1;31mModuleNotFoundError\u001b[0m                       Traceback (most recent call last)",
      "\u001b[1;32m<ipython-input-1-b52fbed8df17>\u001b[0m in \u001b[0;36m<module>\u001b[1;34m\u001b[0m\n\u001b[0;32m      5\u001b[0m \u001b[1;32mimport\u001b[0m \u001b[0mmatplotlib\u001b[0m\u001b[1;33m.\u001b[0m\u001b[0mpyplot\u001b[0m \u001b[1;32mas\u001b[0m \u001b[0mplt\u001b[0m\u001b[1;33m\u001b[0m\u001b[0m\n\u001b[0;32m      6\u001b[0m \u001b[1;32mimport\u001b[0m \u001b[0mscipy\u001b[0m\u001b[1;33m.\u001b[0m\u001b[0mstats\u001b[0m \u001b[1;32mas\u001b[0m \u001b[0mstats\u001b[0m\u001b[1;33m\u001b[0m\u001b[0m\n\u001b[1;32m----> 7\u001b[1;33m \u001b[1;32mimport\u001b[0m \u001b[0mseaborn\u001b[0m \u001b[1;32mas\u001b[0m \u001b[0msns\u001b[0m\u001b[1;33m\u001b[0m\u001b[0m\n\u001b[0m",
      "\u001b[1;31mModuleNotFoundError\u001b[0m: No module named 'seaborn'"
     ]
    }
   ],
   "source": [
    "# import necessary libraries.\n",
    "\n",
    "import pandas as pd\n",
    "import numpy as np\n",
    "import matplotlib.pyplot as plt\n",
    "import scipy.stats as stats\n",
    "import seaborn as sns"
   ]
  },
  {
   "cell_type": "code",
   "execution_count": null,
   "metadata": {
    "colab": {},
    "colab_type": "code",
    "id": "yGis6GN8rnb6"
   },
   "outputs": [],
   "source": [
    "import warnings\n",
    "warnings.filterwarnings(\"ignore\")"
   ]
  },
  {
   "cell_type": "code",
   "execution_count": null,
   "metadata": {
    "colab": {},
    "colab_type": "code",
    "id": "I7wq-s1mA1iQ"
   },
   "outputs": [],
   "source": [
    "data_path = \"./Hari-Assignment/data\"\n",
    "\n",
    "store = pd.read_csv(data_path+\"/store.csv\",sep=',',dtype= {'StoreType':str,\n",
    "                                                          'Assortment':str,\n",
    "                                                          'PromoInterval':str})\n",
    "\n",
    "train = pd.read_csv(data_path+\"/train.csv\",sep= ',', parse_dates=['Date'], dtype= {'StateHoliday': str, 'SchoolHoliday':str} )\n",
    "test =  pd.read_csv(data_path+\"/test.csv\",sep= ',', parse_dates=['Date'], dtype= {'StateHoliday': str, 'SchoolHoliday':str} )"
   ]
  },
  {
   "cell_type": "markdown",
   "metadata": {
    "colab_type": "text",
    "id": "K5JGF0CjJj7D"
   },
   "source": [
    "**Cleaning Train dataset**"
   ]
  },
  {
   "cell_type": "code",
   "execution_count": null,
   "metadata": {
    "colab": {},
    "colab_type": "code",
    "id": "TDcwvhehB9-D"
   },
   "outputs": [],
   "source": [
    "train['Year'] = pd.DatetimeIndex(train['Date']).year\n",
    "train['Month'] = pd.DatetimeIndex(train['Date']).month\n",
    "\n"
   ]
  },
  {
   "cell_type": "code",
   "execution_count": null,
   "metadata": {
    "colab": {},
    "colab_type": "code",
    "id": "z3i-woiSHtbe"
   },
   "outputs": [],
   "source": [
    "def factor_to_integer(df, colname, start_value=0):\n",
    "    while df[colname].dtype == object:\n",
    "        myval = start_value # factor starts at \"start_value\".\n",
    "        for sval in df[colname].unique():\n",
    "            df.loc[df[colname] == sval, colname] = myval\n",
    "            myval += 1\n",
    "        df[colname] = df[colname].astype(int, copy=False)\n",
    "    print('levels :', df[colname].unique(), '; data type :', df[colname].dtype)"
   ]
  },
  {
   "cell_type": "code",
   "execution_count": null,
   "metadata": {
    "colab": {
     "base_uri": "https://localhost:8080/",
     "height": 52
    },
    "colab_type": "code",
    "id": "LvYz4F4wIZJ4",
    "outputId": "972bef70-f21c-4f39-bdd1-06b620b95b30"
   },
   "outputs": [],
   "source": [
    "factor_to_integer(train, 'SchoolHoliday')\n",
    "factor_to_integer(train, 'StateHoliday')"
   ]
  },
  {
   "cell_type": "markdown",
   "metadata": {
    "colab_type": "text",
    "id": "2lbIzCJoIz4F"
   },
   "source": [
    "Check for number of NaNs for selected columns."
   ]
  },
  {
   "cell_type": "code",
   "execution_count": null,
   "metadata": {
    "colab": {
     "base_uri": "https://localhost:8080/",
     "height": 246
    },
    "colab_type": "code",
    "id": "ZIJgFY-lI2G5",
    "outputId": "b25e890d-44f7-48a9-f369-fa797848d1ad"
   },
   "outputs": [],
   "source": [
    "print(\"NANs for individual columns\")\n",
    "print(\"---------------------------\")\n",
    "from collections import Counter\n",
    "x = {colname : train[colname].isnull().sum() for colname in train.columns}\n",
    "Counter(x).most_common()"
   ]
  },
  {
   "cell_type": "markdown",
   "metadata": {
    "colab_type": "text",
    "id": "Ptubl4OTJrx8"
   },
   "source": [
    "**Cleaning Test dataset**"
   ]
  },
  {
   "cell_type": "code",
   "execution_count": null,
   "metadata": {
    "colab": {},
    "colab_type": "code",
    "id": "slCCKRLRJrAb"
   },
   "outputs": [],
   "source": [
    "test['Year'] = pd.DatetimeIndex(test['Date']).year\n",
    "test['Month'] = pd.DatetimeIndex(test['Date']).month"
   ]
  },
  {
   "cell_type": "code",
   "execution_count": null,
   "metadata": {
    "colab": {
     "base_uri": "https://localhost:8080/",
     "height": 228
    },
    "colab_type": "code",
    "id": "kYLh33m9J0i_",
    "outputId": "50776265-b768-4fec-fe53-56a9496824c7"
   },
   "outputs": [],
   "source": [
    "print(\"NANs for individual columns\")\n",
    "print(\"---------------------------\")\n",
    "from collections import Counter\n",
    "x = {colname : test[colname].isnull().sum() for colname in test.columns}\n",
    "Counter(x).most_common()"
   ]
  },
  {
   "cell_type": "markdown",
   "metadata": {
    "colab_type": "text",
    "id": "EpkbIS1oJ739"
   },
   "source": [
    "There are 11 missing values in Open column. Let’s have a detailed look at those:"
   ]
  },
  {
   "cell_type": "code",
   "execution_count": null,
   "metadata": {
    "colab": {
     "base_uri": "https://localhost:8080/",
     "height": 387
    },
    "colab_type": "code",
    "id": "YbzCn6zjJ4T9",
    "outputId": "5fc08e9c-72e1-4bfd-de67-b76ae2785435"
   },
   "outputs": [],
   "source": [
    "test.loc[np.isnan(test['Open'])]"
   ]
  },
  {
   "cell_type": "markdown",
   "metadata": {
    "colab_type": "text",
    "id": "uyPbc6ngKQgc"
   },
   "source": [
    "Do we have any information about store 622? Check train dataset"
   ]
  },
  {
   "cell_type": "code",
   "execution_count": null,
   "metadata": {
    "colab": {
     "base_uri": "https://localhost:8080/",
     "height": 203
    },
    "colab_type": "code",
    "id": "x6prg80pKS1t",
    "outputId": "671ad11b-095f-4319-d037-0243dca67eef"
   },
   "outputs": [],
   "source": [
    "train.loc[np.where(train['Store']==622)].head()"
   ]
  },
  {
   "cell_type": "markdown",
   "metadata": {
    "colab_type": "text",
    "id": "b0hpdrzYKxsF"
   },
   "source": [
    "As we have information about store 622 in train dataset as open (1) lets replace the NaN from test dataset to open (1)"
   ]
  },
  {
   "cell_type": "code",
   "execution_count": null,
   "metadata": {
    "colab": {},
    "colab_type": "code",
    "id": "kRHm_vr7KbWN"
   },
   "outputs": [],
   "source": [
    "test.loc[np.isnan(test['Open']),'Open']=1"
   ]
  },
  {
   "cell_type": "markdown",
   "metadata": {
    "colab_type": "text",
    "id": "sdmbq1lYLXeT"
   },
   "source": [
    "Checking for missing values in test dataset"
   ]
  },
  {
   "cell_type": "code",
   "execution_count": null,
   "metadata": {
    "colab": {
     "base_uri": "https://localhost:8080/",
     "height": 228
    },
    "colab_type": "code",
    "id": "CH76QgP_LLQU",
    "outputId": "a4176634-e20a-4795-fc9f-e6499a85d02f"
   },
   "outputs": [],
   "source": [
    "print(\"NANs for individual columns\")\n",
    "print(\"---------------------------\")\n",
    "from collections import Counter\n",
    "x = {colname : test[colname].isnull().sum() for colname in test.columns}\n",
    "Counter(x).most_common()"
   ]
  },
  {
   "cell_type": "code",
   "execution_count": null,
   "metadata": {
    "colab": {
     "base_uri": "https://localhost:8080/",
     "height": 52
    },
    "colab_type": "code",
    "id": "3hzuJy5xLb3l",
    "outputId": "c33f29e8-0b6e-458a-d215-887483d54b4e"
   },
   "outputs": [],
   "source": [
    "factor_to_integer(test, 'StateHoliday')\n",
    "factor_to_integer(test, 'SchoolHoliday')"
   ]
  },
  {
   "cell_type": "markdown",
   "metadata": {
    "colab_type": "text",
    "id": "HS0LEtSsL2Hi"
   },
   "source": [
    "because only StateHoliday 0 and 1 exist in test dataset, we should consider deleting the rows in train dataset that the StateHoliday value is different than 0 or 1.\n"
   ]
  },
  {
   "cell_type": "code",
   "execution_count": null,
   "metadata": {
    "colab": {
     "base_uri": "https://localhost:8080/",
     "height": 35
    },
    "colab_type": "code",
    "id": "GT31P0prL5Vv",
    "outputId": "aac29bc9-2c1e-4915-c02d-c417b17ea9ea"
   },
   "outputs": [],
   "source": [
    "train.loc[train['StateHoliday'] > 1].shape"
   ]
  },
  {
   "cell_type": "code",
   "execution_count": null,
   "metadata": {
    "colab": {},
    "colab_type": "code",
    "id": "0lRG_DMoL77J"
   },
   "outputs": [],
   "source": [
    "train = train.loc[train['StateHoliday']<2]"
   ]
  },
  {
   "cell_type": "markdown",
   "metadata": {
    "colab_type": "text",
    "id": "HK-QbTELMMuK"
   },
   "source": [
    "**Cleaning Store Dataset**"
   ]
  },
  {
   "cell_type": "code",
   "execution_count": null,
   "metadata": {
    "colab": {
     "base_uri": "https://localhost:8080/",
     "height": 228
    },
    "colab_type": "code",
    "id": "yFCa-o2KML-S",
    "outputId": "ff790952-18bb-428e-d6ae-d1eb8fab988c"
   },
   "outputs": [],
   "source": [
    "print(\"NANs for individual columns\")\n",
    "print(\"---------------------------\")\n",
    "from collections import Counter\n",
    "x = {colname : store[colname].isnull().sum() for colname in store.columns}\n",
    "Counter(x).most_common()"
   ]
  },
  {
   "cell_type": "code",
   "execution_count": null,
   "metadata": {
    "colab": {
     "base_uri": "https://localhost:8080/",
     "height": 52
    },
    "colab_type": "code",
    "id": "5QGsRcK2MGbO",
    "outputId": "31d7962e-548b-4877-eb0b-394c7a594990"
   },
   "outputs": [],
   "source": [
    "store['PromoInterval'].unique()"
   ]
  },
  {
   "cell_type": "markdown",
   "metadata": {
    "colab_type": "text",
    "id": "9e3K0mPdMkJi"
   },
   "source": [
    "If there is no promotion, then the corresponding columns should have zero values."
   ]
  },
  {
   "cell_type": "code",
   "execution_count": null,
   "metadata": {
    "colab": {},
    "colab_type": "code",
    "id": "1rAFYSg7Mgpu"
   },
   "outputs": [],
   "source": [
    "store.loc[store['Promo2'] == 0, ['Promo2SinceWeek', 'Promo2SinceYear', 'PromoInterval']] = 0"
   ]
  },
  {
   "cell_type": "code",
   "execution_count": null,
   "metadata": {
    "colab": {
     "base_uri": "https://localhost:8080/",
     "height": 203
    },
    "colab_type": "code",
    "id": "fLTwUviBM1uO",
    "outputId": "69ad0e2a-53f9-478e-b567-d33e28663ab6"
   },
   "outputs": [],
   "source": [
    "store.loc[np.where(store['Promo2']!=0)].head()"
   ]
  },
  {
   "cell_type": "code",
   "execution_count": null,
   "metadata": {
    "colab": {},
    "colab_type": "code",
    "id": "93Ul5maHOYIo"
   },
   "outputs": [],
   "source": [
    "store.loc[store['Promo2'] != 0, 'Promo2SinceWeek'] = store['Promo2SinceWeek'].max() - store.loc[store['Promo2'] != 0, 'Promo2SinceWeek']\n",
    "store.loc[store['Promo2'] != 0, 'Promo2SinceYear'] = store['Promo2SinceYear'].max() - store.loc[store['Promo2'] != 0, 'Promo2SinceYear']"
   ]
  },
  {
   "cell_type": "code",
   "execution_count": null,
   "metadata": {
    "colab": {
     "base_uri": "https://localhost:8080/",
     "height": 211
    },
    "colab_type": "code",
    "id": "b1qlqbz_PO_n",
    "outputId": "1364a019-3d5a-4f23-e5ea-d7aee3514e3e"
   },
   "outputs": [],
   "source": [
    "store.dtypes"
   ]
  },
  {
   "cell_type": "code",
   "execution_count": null,
   "metadata": {
    "colab": {
     "base_uri": "https://localhost:8080/",
     "height": 35
    },
    "colab_type": "code",
    "id": "xp17xeJ0Pjvb",
    "outputId": "e5391427-21af-46e4-a1dd-a4637a95a64f"
   },
   "outputs": [],
   "source": [
    "factor_to_integer(store, 'PromoInterval', start_value=0)"
   ]
  },
  {
   "cell_type": "code",
   "execution_count": null,
   "metadata": {
    "colab": {
     "base_uri": "https://localhost:8080/",
     "height": 52
    },
    "colab_type": "code",
    "id": "jO4tzq6SPmLb",
    "outputId": "bd988e19-2145-4905-c9f3-1902bb6346a0"
   },
   "outputs": [],
   "source": [
    "factor_to_integer(store, 'StoreType')\n",
    "factor_to_integer(store, 'Assortment')"
   ]
  },
  {
   "cell_type": "markdown",
   "metadata": {
    "colab_type": "text",
    "id": "O_MPR1i9PuCZ"
   },
   "source": [
    "Are there still missing values?"
   ]
  },
  {
   "cell_type": "code",
   "execution_count": null,
   "metadata": {
    "colab": {
     "base_uri": "https://localhost:8080/",
     "height": 228
    },
    "colab_type": "code",
    "id": "N-37wHJpPqjW",
    "outputId": "92a80178-55f4-4f60-9cfd-cbae3d744783"
   },
   "outputs": [],
   "source": [
    "print(\"NANs for individual columns\")\n",
    "print(\"---------------------------\")\n",
    "from collections import Counter\n",
    "x = {colname : store[colname].isnull().sum() for colname in store.columns}\n",
    "Counter(x).most_common()"
   ]
  },
  {
   "cell_type": "markdown",
   "metadata": {
    "colab_type": "text",
    "id": "l6rEvOnVP4XB"
   },
   "source": [
    "Filling the missing values with sklearn’s built-in command. Filling with the column.median()."
   ]
  },
  {
   "cell_type": "code",
   "execution_count": null,
   "metadata": {
    "colab": {},
    "colab_type": "code",
    "id": "cwVEi8XoPx59"
   },
   "outputs": [],
   "source": [
    "from sklearn.impute import SimpleImputer\n",
    "imp = SimpleImputer( strategy='median').fit(store)\n",
    "store_imputed = imp.transform(store)\n",
    "store2 = pd.DataFrame(store_imputed, columns=store.columns.values)"
   ]
  },
  {
   "cell_type": "code",
   "execution_count": null,
   "metadata": {
    "colab": {
     "base_uri": "https://localhost:8080/",
     "height": 228
    },
    "colab_type": "code",
    "id": "xrHAUypuQmE3",
    "outputId": "a3620f2b-6ead-48de-f4e0-3f32a54bc1e9"
   },
   "outputs": [],
   "source": [
    "print(\"NANs for individual columns\")\n",
    "print(\"---------------------------\")\n",
    "from collections import Counter\n",
    "x = {colname : store2[colname].isnull().sum() for colname in store2.columns}\n",
    "Counter(x).most_common()"
   ]
  },
  {
   "cell_type": "code",
   "execution_count": null,
   "metadata": {
    "colab": {},
    "colab_type": "code",
    "id": "hdGgPV4GSfc_"
   },
   "outputs": [],
   "source": [
    "store2['CompetitionOpenSinceMonth'] = store2['CompetitionOpenSinceMonth'].max() - store2['CompetitionOpenSinceMonth']\n",
    "store2['CompetitionOpenSinceYear'] = store2['CompetitionOpenSinceYear'].max() - store2['CompetitionOpenSinceYear']\n"
   ]
  },
  {
   "cell_type": "code",
   "execution_count": null,
   "metadata": {
    "colab": {
     "base_uri": "https://localhost:8080/",
     "height": 203
    },
    "colab_type": "code",
    "id": "HGdj-8XRTSaH",
    "outputId": "25b5f80f-1a5b-4f91-eb7f-a1299e513393"
   },
   "outputs": [],
   "source": [
    "store2.tail()"
   ]
  },
  {
   "cell_type": "code",
   "execution_count": null,
   "metadata": {
    "colab": {},
    "colab_type": "code",
    "id": "ImGidsWwTblG"
   },
   "outputs": [],
   "source": [
    "train_store = pd.merge(train, store2, how = 'left', on='Store')\n",
    "test_store = test.reset_index().merge(store2, how = 'left', on='Store').set_index('Id')"
   ]
  },
  {
   "cell_type": "markdown",
   "metadata": {
    "colab_type": "text",
    "id": "WO2QOyxmUOOe"
   },
   "source": [
    "Visual Exploration"
   ]
  },
  {
   "cell_type": "code",
   "execution_count": null,
   "metadata": {
    "colab": {
     "base_uri": "https://localhost:8080/",
     "height": 379
    },
    "colab_type": "code",
    "id": "1lLG1VRLgmVz",
    "outputId": "37f7d5f0-0142-4af7-9de4-8627ecc7a9a7"
   },
   "outputs": [],
   "source": [
    "import seaborn as sns\n",
    "sns.distplot(train_store['Sales'])"
   ]
  },
  {
   "cell_type": "code",
   "execution_count": null,
   "metadata": {
    "colab": {
     "base_uri": "https://localhost:8080/",
     "height": 391
    },
    "colab_type": "code",
    "id": "nw103_O7UCCW",
    "outputId": "1d66349a-56b8-4e22-fef2-b0fa7eb5be6d"
   },
   "outputs": [],
   "source": [
    "train_store.boxplot(column='Sales', by='Year')\n",
    "plt.show()"
   ]
  },
  {
   "cell_type": "code",
   "execution_count": null,
   "metadata": {
    "colab": {
     "base_uri": "https://localhost:8080/",
     "height": 391
    },
    "colab_type": "code",
    "id": "wAyBG3i_URE9",
    "outputId": "f193b0bd-e6b0-4947-f9c4-2f95fceaed35"
   },
   "outputs": [],
   "source": [
    "train_store.boxplot(column='Sales', by='Month')\n",
    "plt.show()"
   ]
  },
  {
   "cell_type": "code",
   "execution_count": null,
   "metadata": {
    "colab": {
     "base_uri": "https://localhost:8080/",
     "height": 378
    },
    "colab_type": "code",
    "id": "hx9kGBrnUV_H",
    "outputId": "828d7db6-32d0-43aa-eef5-e4ee1c4d1134"
   },
   "outputs": [],
   "source": [
    "train_store.hist(column='Sales', by='Year', bins=30)\n",
    "plt.show()"
   ]
  },
  {
   "cell_type": "code",
   "execution_count": null,
   "metadata": {
    "colab": {
     "base_uri": "https://localhost:8080/",
     "height": 378
    },
    "colab_type": "code",
    "id": "KhHHyv0dUo34",
    "outputId": "6c47b443-e2f8-4d5b-90cd-45e14601f150"
   },
   "outputs": [],
   "source": [
    "train_store.hist(column='Sales', by='Month', bins=30)\n",
    "plt.show()"
   ]
  },
  {
   "cell_type": "markdown",
   "metadata": {
    "colab_type": "text",
    "id": "1BPQ2ePAU-1m"
   },
   "source": [
    "# Modeling"
   ]
  },
  {
   "cell_type": "code",
   "execution_count": null,
   "metadata": {
    "colab": {
     "base_uri": "https://localhost:8080/",
     "height": 193
    },
    "colab_type": "code",
    "id": "nrMCX0AyUtNL",
    "outputId": "b48165dc-24b0-4171-d288-263b31a6a64f"
   },
   "outputs": [],
   "source": [
    "print(train_store.columns.values)\n",
    "print(test_store.columns.values)"
   ]
  },
  {
   "cell_type": "code",
   "execution_count": null,
   "metadata": {
    "colab": {},
    "colab_type": "code",
    "id": "xH8gOXsDVSE6"
   },
   "outputs": [],
   "source": [
    "train_model = train_store.drop(['Customers', 'Date'], axis=1)\n",
    "train_model['Year'] = train_model['Year'].max() - train_model['Year']\n",
    "#print(train_model.head())"
   ]
  },
  {
   "cell_type": "markdown",
   "metadata": {
    "colab_type": "text",
    "id": "00AKaUjMEBu6"
   },
   "source": [
    "## Linear Modeling"
   ]
  },
  {
   "cell_type": "markdown",
   "metadata": {
    "colab_type": "text",
    "id": "kvz7pDqjEKaG"
   },
   "source": [
    "**Is the relationship significant?**\n",
    "\n",
    "Correlation is any of a broad class of statistical relationships involving dependence"
   ]
  },
  {
   "cell_type": "code",
   "execution_count": null,
   "metadata": {
    "colab": {
     "base_uri": "https://localhost:8080/",
     "height": 474
    },
    "colab_type": "code",
    "id": "izHxip0YlTAW",
    "outputId": "06af0645-78dc-4065-8fc8-aee43672bec7"
   },
   "outputs": [],
   "source": [
    "import matplotlib.pyplot as plt\n",
    "\n",
    "corr = train_model.corr()\n",
    "fig = plt.figure()\n",
    "ax = fig.add_subplot(111)\n",
    "cax = ax.matshow(corr,cmap='coolwarm', vmin=-1, vmax=1)\n",
    "fig.colorbar(cax)\n",
    "ticks = np.arange(0,len(train_model.columns),1)\n",
    "ax.set_xticks(ticks)\n",
    "plt.xticks(rotation=90)\n",
    "ax.set_yticks(ticks)\n",
    "ax.set_xticklabels(train_model.columns)\n",
    "ax.set_yticklabels(train_model.columns)\n",
    "plt.show()"
   ]
  },
  {
   "cell_type": "code",
   "execution_count": null,
   "metadata": {
    "colab": {
     "base_uri": "https://localhost:8080/",
     "height": 334
    },
    "colab_type": "code",
    "id": "FrYvNfqCFKFJ",
    "outputId": "daf6ec2a-996f-4a35-eab9-1c2fec7a221c"
   },
   "outputs": [],
   "source": [
    "print(corr[\"Sales\"].sort_values(ascending=False))"
   ]
  },
  {
   "cell_type": "markdown",
   "metadata": {
    "colab_type": "text",
    "id": "xsuosFypxsxx"
   },
   "source": [
    "**AIC & BIC **\n",
    "\n",
    "The Akaike’s information criterion – AIC and the Bayesian information criterion – BIC are measures of the goodness of fit of an estimated statistical model and can also be used for model selection. Both criteria depend on the maximized value of the likelihood function L for the estimated model.\n",
    "\n",
    "k= # of variables\n",
    "\n",
    "n = number of observations\n",
    "\n",
    "AIC= 2k - 2ln(sse)\n",
    "\n",
    "BIC = n*ln(sse/n) + k*ln(n)\n"
   ]
  },
  {
   "cell_type": "code",
   "execution_count": null,
   "metadata": {
    "colab": {},
    "colab_type": "code",
    "id": "bId3JqCjyPCk"
   },
   "outputs": [],
   "source": [
    "\n",
    "def calAIC(y,y_hat,k):\n",
    "  resid = y - y_hat\n",
    "  sse = sum(resid**2)\n",
    "  AIC= 2*k - 2*np.log(sse)\n",
    "  return AIC\n",
    "  \n",
    "def calBIC(y,y_hat,k):\n",
    "  n = len(y)\n",
    "  resid = y - y_hat\n",
    "  sse = sum(resid**2)\n",
    "  BIC = n*np.log(sse/n) + k*np.log(n)\n",
    "  return BIC"
   ]
  },
  {
   "cell_type": "markdown",
   "metadata": {
    "colab_type": "text",
    "id": "rk1bDxPeL5mD"
   },
   "source": [
    "##**Building Linear Models**"
   ]
  },
  {
   "cell_type": "code",
   "execution_count": null,
   "metadata": {
    "colab": {},
    "colab_type": "code",
    "id": "lgromuDSHtH4"
   },
   "outputs": [],
   "source": [
    "from sklearn.model_selection import train_test_split\n",
    "#Creating the features \n",
    "\n",
    "features = train_model.drop('Sales', axis=1)\n",
    "target = train_model['Sales']\n",
    "\n",
    "X_train, X_test, y_train, y_test = train_test_split(features, target, test_size = 0.3, random_state = 42)"
   ]
  },
  {
   "cell_type": "code",
   "execution_count": null,
   "metadata": {
    "colab": {
     "base_uri": "https://localhost:8080/",
     "height": 87
    },
    "colab_type": "code",
    "id": "zWCdcBQnMc38",
    "outputId": "f8ef7556-55d4-4f4f-fbf0-511c23ef351c"
   },
   "outputs": [],
   "source": [
    "print(X_train.shape)\n",
    "print(X_test.shape)\n",
    "print(y_train.shape)\n",
    "print(y_test.shape)"
   ]
  },
  {
   "cell_type": "markdown",
   "metadata": {
    "colab_type": "text",
    "id": "i5-H8XagKZO-"
   },
   "source": [
    "###**Multi Linear Model with scaling**"
   ]
  },
  {
   "cell_type": "code",
   "execution_count": null,
   "metadata": {
    "colab": {
     "base_uri": "https://localhost:8080/",
     "height": 105
    },
    "colab_type": "code",
    "id": "fUM_iKTiM3Ln",
    "outputId": "8944d768-4a5f-4d73-bff4-f8771e024ad6"
   },
   "outputs": [],
   "source": [
    "from sklearn import linear_model\n",
    "from sklearn.preprocessing import StandardScaler\n",
    "from sklearn.pipeline import Pipeline\n",
    "from sklearn.model_selection import cross_val_score\n",
    "from sklearn.model_selection import KFold\n",
    "from sklearn.metrics import r2_score\n",
    "\n",
    "\n",
    "#Setting up the scaling pipeline \n",
    "\n",
    "pipeline_order = [('scaler', StandardScaler()), ('linear_reg', linear_model.LinearRegression())]\n",
    "\n",
    "Model_Pipeline = Pipeline(pipeline_order)\n",
    "\n",
    "# evaluate pipeline\n",
    "kfold = KFold(n_splits=3, random_state=7)\n",
    "results = cross_val_score(Model_Pipeline, X_train, y_train, cv=kfold,scoring= 'r2')\n",
    "Model_Pipeline.fit(X_train, y_train)\n",
    "preds_train = Model_Pipeline.predict(X_train)\n",
    "preds = Model_Pipeline.predict(X_test)\n",
    "print(\"Train R^2:\",round(results.mean(),3), round(results.std(),3))\n",
    "print(\"Train AIC, BIC :\",round(calAIC(y_train,preds_train,len(X_train.columns)),3),\",\", round(calBIC(y_train,preds_train,len(X_train.columns))))\n",
    "print(\"-----------------------------------------------\")\n",
    "print(\"Test R^2:\",round(r2_score(y_test, preds),3))\n",
    "print(\"Test AIC, BIC :\",round(calAIC(y_test,preds,len(X_test.columns)),3),\",\", round(calBIC(y_test,preds,len(X_test.columns))))\n",
    "\n"
   ]
  },
  {
   "cell_type": "markdown",
   "metadata": {
    "colab_type": "text",
    "id": "YpYhdDpuKlgW"
   },
   "source": [
    "###**Multi Linear model without scaling**"
   ]
  },
  {
   "cell_type": "code",
   "execution_count": null,
   "metadata": {
    "colab": {
     "base_uri": "https://localhost:8080/",
     "height": 52
    },
    "colab_type": "code",
    "id": "8BDGy55xMrL1",
    "outputId": "59828e35-f0f5-4b74-bfda-9e018eb53e67"
   },
   "outputs": [],
   "source": [
    "from sklearn import linear_model\n",
    "#Initializing a linear regression model \n",
    "\n",
    "linear_reg = linear_model.LinearRegression()\n",
    "\n",
    "#Fitting the model on the data\n",
    "\n",
    "model_wos = linear_reg.fit(X_train, y_train)\n",
    "\n",
    "#Accuracy of the model\n",
    "preds = model_wos.predict(X_test)\n",
    "print(\"Test R^2:\",round(r2_score(y_test, preds),3))\n",
    "print(\"Test AIC, BIC :\",round(calAIC(y_test,preds,len(X_test.columns)),3),\",\", round(calBIC(y_test,preds,len(X_test.columns))))"
   ]
  },
  {
   "cell_type": "code",
   "execution_count": null,
   "metadata": {
    "colab": {
     "base_uri": "https://localhost:8080/",
     "height": 365
    },
    "colab_type": "code",
    "id": "daFW4CashDvC",
    "outputId": "4900b93f-8982-4f44-ef99-a60e9febeadc"
   },
   "outputs": [],
   "source": [
    "plt.scatter(y_test,linear_reg.predict(X_test))"
   ]
  },
  {
   "cell_type": "markdown",
   "metadata": {
    "colab_type": "text",
    "id": "SSYRQTB7l5VH"
   },
   "source": [
    "###**Cross validation with K-Fold**"
   ]
  },
  {
   "cell_type": "markdown",
   "metadata": {
    "colab_type": "text",
    "id": "C3ARZLO81O3S"
   },
   "source": [
    "### **Linear Model using SGD**"
   ]
  },
  {
   "cell_type": "code",
   "execution_count": null,
   "metadata": {
    "colab": {
     "base_uri": "https://localhost:8080/",
     "height": 105
    },
    "colab_type": "code",
    "id": "kQRbyCOh0h-L",
    "outputId": "9de62cae-6036-4197-fe38-74e5de70b1b7"
   },
   "outputs": [],
   "source": [
    "pipeline_order_sgd = [('scaler', StandardScaler()), ('linear_reg', linear_model.SGDRegressor())]\n",
    "\n",
    "Model_Pipeline_sgd = Pipeline(pipeline_order_sgd)\n",
    "\n",
    "# evaluate pipeline\n",
    "kfold = KFold(n_splits=3, random_state=7)\n",
    "results = cross_val_score(Model_Pipeline_sgd, X_train, y_train, cv=kfold,scoring= 'r2')\n",
    "Model_Pipeline_sgd.fit(X_train, y_train)\n",
    "preds_train = Model_Pipeline_sgd.predict(X_train)\n",
    "preds = Model_Pipeline_sgd.predict(X_test)\n",
    "print(\"Train R^2:\",round(results.mean(),3), round(results.std(),3))\n",
    "print(\"Train AIC, BIC :\",round(calAIC(y_train,preds_train,len(X_train.columns)),3),\",\", round(calBIC(y_train,preds_train,len(X_train.columns))))\n",
    "print(\"-----------------------------------------------\")\n",
    "print(\"Test R^2:\",round(r2_score(y_test, preds),3))\n",
    "print(\"Test AIC, BIC :\",round(calAIC(y_test,preds,len(X_test.columns)),3),\",\", round(calBIC(y_test,preds,len(X_test.columns))))\n"
   ]
  },
  {
   "cell_type": "code",
   "execution_count": null,
   "metadata": {},
   "outputs": [],
   "source": []
  },
  {
   "cell_type": "markdown",
   "metadata": {
    "colab_type": "text",
    "id": "_tBmWZYeImla"
   },
   "source": [
    "## **Part C: Multi-Colinearity and stepwise regression**"
   ]
  },
  {
   "cell_type": "markdown",
   "metadata": {
    "colab_type": "text",
    "id": "P7ID2eJlGryk"
   },
   "source": [
    "## **Part E: Regularization**"
   ]
  },
  {
   "cell_type": "code",
   "execution_count": null,
   "metadata": {},
   "outputs": [],
   "source": [
    "train_model.head(5)"
   ]
  },
  {
   "cell_type": "code",
   "execution_count": null,
   "metadata": {},
   "outputs": [],
   "source": [
    "train_model['MeanSalesStore'] = train_model.groupby('Store')['Sales'].transform('mean')"
   ]
  },
  {
   "cell_type": "code",
   "execution_count": null,
   "metadata": {},
   "outputs": [],
   "source": [
    "train_model = train_model[train_model['Sales']>0]"
   ]
  },
  {
   "cell_type": "code",
   "execution_count": null,
   "metadata": {},
   "outputs": [],
   "source": [
    "train_model['CrossedMeanSales'] = np.where(train_model['Sales'] >= train_model['MeanSalesStore'], 1,0 )"
   ]
  },
  {
   "cell_type": "code",
   "execution_count": null,
   "metadata": {},
   "outputs": [],
   "source": [
    "train_model.to_csv('train_model_classification.csv')"
   ]
  },
  {
   "cell_type": "code",
   "execution_count": null,
   "metadata": {},
   "outputs": [],
   "source": []
  }
 ],
 "metadata": {
  "colab": {
   "collapsed_sections": [],
   "include_colab_link": true,
   "name": "Rossmann Store Sales Prediction - Cleaning.ipynb",
   "provenance": [],
   "version": "0.3.2"
  },
  "kernelspec": {
   "display_name": "Python 3",
   "language": "python",
   "name": "python3"
  },
  "language_info": {
   "codemirror_mode": {
    "name": "ipython",
    "version": 3
   },
   "file_extension": ".py",
   "mimetype": "text/x-python",
   "name": "python",
   "nbconvert_exporter": "python",
   "pygments_lexer": "ipython3",
   "version": "3.7.0"
  }
 },
 "nbformat": 4,
 "nbformat_minor": 1
}
